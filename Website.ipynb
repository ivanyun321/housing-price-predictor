{
 "cells": [
  {
   "cell_type": "code",
   "execution_count": 439,
   "id": "ac7a77c7-91a3-4c94-a231-dcb2ec20a1d7",
   "metadata": {},
   "outputs": [],
   "source": [
    "import ipywidgets as widgets\n",
    "from IPython.display import display, clear_output\n",
    "import pandas as pd\n",
    "\n",
    "import io\n",
    "import contextlib\n",
    "\n",
    "from tensorflow.keras import backend as K\n",
    "from sklearn.model_selection import train_test_split\n",
    "import tensorflow as tf\n",
    "import numpy as np"
   ]
  },
  {
   "cell_type": "code",
   "execution_count": 8,
   "id": "a7869e4a-24c7-47ac-b126-f21160f75aba",
   "metadata": {},
   "outputs": [
    {
     "data": {
      "application/vnd.jupyter.widget-view+json": {
       "model_id": "2648b0ffeb9a4275bc7d5b2613340add",
       "version_major": 2,
       "version_minor": 0
      },
      "text/plain": [
       "Text(value='', description='Property Class:', placeholder='Enter Property Class', style=TextStyle(description_…"
      ]
     },
     "metadata": {},
     "output_type": "display_data"
    },
    {
     "data": {
      "application/vnd.jupyter.widget-view+json": {
       "model_id": "f0837d7ac0574cbfb770ef5c760b6123",
       "version_major": 2,
       "version_minor": 0
      },
      "text/plain": [
       "Text(value='', description='Neighborhood Code as assigned by Assessment office:', layout=Layout(width='600px')…"
      ]
     },
     "metadata": {},
     "output_type": "display_data"
    },
    {
     "data": {
      "application/vnd.jupyter.widget-view+json": {
       "model_id": "9d61403447ff497fb205e9b8bba125f1",
       "version_major": 2,
       "version_minor": 0
      },
      "text/plain": [
       "Text(value='', description='Land Square Feet:', placeholder='Enter Land Square Feet', style=TextStyle(descript…"
      ]
     },
     "metadata": {},
     "output_type": "display_data"
    },
    {
     "data": {
      "application/vnd.jupyter.widget-view+json": {
       "model_id": "c74f1a71de00418e86c9d719c9450233",
       "version_major": 2,
       "version_minor": 0
      },
      "text/plain": [
       "Text(value='', description='Town Code:', placeholder='Enter Town Code', style=TextStyle(description_width='ini…"
      ]
     },
     "metadata": {},
     "output_type": "display_data"
    },
    {
     "data": {
      "application/vnd.jupyter.widget-view+json": {
       "model_id": "e7ada8ce18b04aa7b12d35efd4cccdc8",
       "version_major": 2,
       "version_minor": 0
      },
      "text/plain": [
       "Text(value='', description='Number of Apartments:', layout=Layout(width='300px'), placeholder='Enter Apartment…"
      ]
     },
     "metadata": {},
     "output_type": "display_data"
    },
    {
     "data": {
      "application/vnd.jupyter.widget-view+json": {
       "model_id": "fbfb7280e3f94970848bc6d11d2748e2",
       "version_major": 2,
       "version_minor": 0
      },
      "text/plain": [
       "VBox(children=(HTML(value='\\n    <p>\\n    Select Exterior wall material <br>\\n    1 wood <br>\\n    2 masonry <…"
      ]
     },
     "metadata": {},
     "output_type": "display_data"
    },
    {
     "data": {
      "application/vnd.jupyter.widget-view+json": {
       "model_id": "6775a7fe1c9c4aeab70ac2dcda5f97b6",
       "version_major": 2,
       "version_minor": 0
      },
      "text/plain": [
       "VBox(children=(HTML(value='\\n    <p>\\n    Select Roof material <br>\\n    1 Shingle/Asphalt <br>\\n    2 Tar & G…"
      ]
     },
     "metadata": {},
     "output_type": "display_data"
    },
    {
     "data": {
      "application/vnd.jupyter.widget-view+json": {
       "model_id": "0ce03576a1f2463880741dedc77d46de",
       "version_major": 2,
       "version_minor": 0
      },
      "text/plain": [
       "VBox(children=(HTML(value='\\n    <p>\\n    Select Basement type <br>\\n    1 Full <br>\\n    2 Slab <br>\\n    3 P…"
      ]
     },
     "metadata": {},
     "output_type": "display_data"
    },
    {
     "data": {
      "application/vnd.jupyter.widget-view+json": {
       "model_id": "f361622cb4ab4baf87eaf1ac5df2e70e",
       "version_major": 2,
       "version_minor": 0
      },
      "text/plain": [
       "VBox(children=(HTML(value='\\n    <p>\\n    Select Basement Finish <br>\\n    1 Formal rec room <br>\\n    2 Apart…"
      ]
     },
     "metadata": {},
     "output_type": "display_data"
    },
    {
     "data": {
      "application/vnd.jupyter.widget-view+json": {
       "model_id": "dd7f91880fba4ab79773098dc2bbd2ad",
       "version_major": 2,
       "version_minor": 0
      },
      "text/plain": [
       "VBox(children=(HTML(value='\\n    <p>\\n    Select Roof material <br>\\n    1 Warm air <br>\\n    2 Hot water stea…"
      ]
     },
     "metadata": {},
     "output_type": "display_data"
    },
    {
     "data": {
      "application/vnd.jupyter.widget-view+json": {
       "model_id": "ea502c24fb0442a6ba13920ccb440e7c",
       "version_major": 2,
       "version_minor": 0
      },
      "text/plain": [
       "VBox(children=(HTML(value='\\n    <p>\\n    Select Other Heating <br>\\n    1 Floor furnace <br>\\n    2 Unit heat…"
      ]
     },
     "metadata": {},
     "output_type": "display_data"
    },
    {
     "data": {
      "application/vnd.jupyter.widget-view+json": {
       "model_id": "71bf2c9757614f15ae0d4340633ff2f7",
       "version_major": 2,
       "version_minor": 0
      },
      "text/plain": [
       "VBox(children=(HTML(value='\\n    <p>\\n    Is central airconditioning present? <br>\\n    1 Yes <br>\\n    2 No <…"
      ]
     },
     "metadata": {},
     "output_type": "display_data"
    },
    {
     "data": {
      "application/vnd.jupyter.widget-view+json": {
       "model_id": "b806af84fdf14b259cf42c7cf0b3a870",
       "version_major": 2,
       "version_minor": 0
      },
      "text/plain": [
       "Text(value='', description='Number of Fireplaces:', placeholder='Number of Fireplaces', style=TextStyle(descri…"
      ]
     },
     "metadata": {},
     "output_type": "display_data"
    },
    {
     "data": {
      "application/vnd.jupyter.widget-view+json": {
       "model_id": "fdf2b96773824d20bd30028cf207853f",
       "version_major": 2,
       "version_minor": 0
      },
      "text/plain": [
       "VBox(children=(HTML(value='\\n    <p>\\n    Type of Attic? <br>\\n    1 Full <br>\\n    2 Partial <br>\\n    3 None…"
      ]
     },
     "metadata": {},
     "output_type": "display_data"
    },
    {
     "data": {
      "application/vnd.jupyter.widget-view+json": {
       "model_id": "fe59b8c0210e4e63a2467d2effaaa2e9",
       "version_major": 2,
       "version_minor": 0
      },
      "text/plain": [
       "VBox(children=(HTML(value='\\n    <p>\\n    Select Attic Finish <br>\\n    1 Living Area <br>\\n    2 Apartment <b…"
      ]
     },
     "metadata": {},
     "output_type": "display_data"
    },
    {
     "data": {
      "application/vnd.jupyter.widget-view+json": {
       "model_id": "17a2b32dbdf14dc28fa901cd549029b6",
       "version_major": 2,
       "version_minor": 0
      },
      "text/plain": [
       "VBox(children=(HTML(value='\\n    <p>\\n    Select Design Plan <br>\\n    1 Architect <br>\\n    2 Stock Plan <br>…"
      ]
     },
     "metadata": {},
     "output_type": "display_data"
    },
    {
     "data": {
      "application/vnd.jupyter.widget-view+json": {
       "model_id": "d2d4c5fa8c7a416aa84da5af6ba83a46",
       "version_major": 2,
       "version_minor": 0
      },
      "text/plain": [
       "VBox(children=(HTML(value='\\n    <p>\\n    Cathedral Ceiling? <br>\\n    1 Yes <br>\\n    2 No <br>\\n    </p>'), …"
      ]
     },
     "metadata": {},
     "output_type": "display_data"
    },
    {
     "data": {
      "application/vnd.jupyter.widget-view+json": {
       "model_id": "8afad568e2bd4acfac45ac5a2048b70d",
       "version_major": 2,
       "version_minor": 0
      },
      "text/plain": [
       "Dropdown(description='How many cars can garage 1 fit?:', options=(0, 1, 1.5, 2, 2.5, 3, 3.5, 4), style=Descrip…"
      ]
     },
     "metadata": {},
     "output_type": "display_data"
    },
    {
     "data": {
      "application/vnd.jupyter.widget-view+json": {
       "model_id": "ead59d0dca2241b39dcbd17f0d57bd8c",
       "version_major": 2,
       "version_minor": 0
      },
      "text/plain": [
       "VBox(children=(HTML(value='\\n    <p>\\n    Select Garage 1 Material <br>\\n    1 Frame <br>\\n    2 Masonry <br>\\…"
      ]
     },
     "metadata": {},
     "output_type": "display_data"
    },
    {
     "data": {
      "application/vnd.jupyter.widget-view+json": {
       "model_id": "da7f7002e7ce4a1789e135599f2a39f4",
       "version_major": 2,
       "version_minor": 0
      },
      "text/plain": [
       "VBox(children=(HTML(value='\\n    <p>\\n    Is Garage 1 Attached? <br>\\n    1 Yes <br>\\n    2 No <br>\\n    </p>'…"
      ]
     },
     "metadata": {},
     "output_type": "display_data"
    },
    {
     "data": {
      "application/vnd.jupyter.widget-view+json": {
       "model_id": "75637d15bcb4475987f3f7b73f1fc713",
       "version_major": 2,
       "version_minor": 0
      },
      "text/plain": [
       "VBox(children=(HTML(value='\\n    <p>\\n    Is Garage 1 physically included within the building area? <br>\\n    …"
      ]
     },
     "metadata": {},
     "output_type": "display_data"
    },
    {
     "data": {
      "application/vnd.jupyter.widget-view+json": {
       "model_id": "c68ae4b7d71f40a1bfc88a648848bd6c",
       "version_major": 2,
       "version_minor": 0
      },
      "text/plain": [
       "Dropdown(description='How many cars can garage 2 fit?:', options=(0, 1, 1.5, 2, 2.5, 3, 3.5, 4), style=Descrip…"
      ]
     },
     "metadata": {},
     "output_type": "display_data"
    },
    {
     "data": {
      "application/vnd.jupyter.widget-view+json": {
       "model_id": "68c8c3eea3cb48ca8723f132fd90ee0a",
       "version_major": 2,
       "version_minor": 0
      },
      "text/plain": [
       "VBox(children=(HTML(value='\\n    <p>\\n    Select Garage 2 Material <br>\\n    1 Frame <br>\\n    2 Masonry <br>\\…"
      ]
     },
     "metadata": {},
     "output_type": "display_data"
    },
    {
     "data": {
      "application/vnd.jupyter.widget-view+json": {
       "model_id": "e0d246be10a34201ba2489088b79d4eb",
       "version_major": 2,
       "version_minor": 0
      },
      "text/plain": [
       "VBox(children=(HTML(value='\\n    <p>\\n    Is Garage 2 Attached? <br>\\n    1 Yes <br>\\n    2 No <br>\\n    </p>'…"
      ]
     },
     "metadata": {},
     "output_type": "display_data"
    },
    {
     "data": {
      "application/vnd.jupyter.widget-view+json": {
       "model_id": "70db0185e91a4903b381276457a670fa",
       "version_major": 2,
       "version_minor": 0
      },
      "text/plain": [
       "VBox(children=(HTML(value='\\n    <p>\\n    Is Garage 2 physically included within the building area? <br>\\n    …"
      ]
     },
     "metadata": {},
     "output_type": "display_data"
    },
    {
     "data": {
      "application/vnd.jupyter.widget-view+json": {
       "model_id": "4198665ec70749039ab2e2801df10268",
       "version_major": 2,
       "version_minor": 0
      },
      "text/plain": [
       "VBox(children=(HTML(value='\\n    <p>\\n    Select the type of Porch <br>\\n    1 Frame <br>\\n    2 Masonry <br>\\…"
      ]
     },
     "metadata": {},
     "output_type": "display_data"
    },
    {
     "data": {
      "application/vnd.jupyter.widget-view+json": {
       "model_id": "00d9bfcd305541ec9be90e4fc7d6ebdd",
       "version_major": 2,
       "version_minor": 0
      },
      "text/plain": [
       "Text(value='', description='Building Square Feet:', layout=Layout(width='400px'), placeholder='Enter Building …"
      ]
     },
     "metadata": {},
     "output_type": "display_data"
    },
    {
     "data": {
      "application/vnd.jupyter.widget-view+json": {
       "model_id": "97a9f39cfa38407bae1dc333321e0dcc",
       "version_major": 2,
       "version_minor": 0
      },
      "text/plain": [
       "VBox(children=(HTML(value='\\n    <p>\\n    Select Repair Condition <br>\\n    1 Above Average <br>\\n    2 Averag…"
      ]
     },
     "metadata": {},
     "output_type": "display_data"
    },
    {
     "data": {
      "application/vnd.jupyter.widget-view+json": {
       "model_id": "91d62ad104b04a4780da14a205f6ab87",
       "version_major": 2,
       "version_minor": 0
      },
      "text/plain": [
       "Dropdown(description='How many buildings exists on the pin?:', options=(1, 2, 3, 4, 5, 6), style=DescriptionSt…"
      ]
     },
     "metadata": {},
     "output_type": "display_data"
    },
    {
     "data": {
      "application/vnd.jupyter.widget-view+json": {
       "model_id": "66d80b676a6946029134171875a9a44f",
       "version_major": 2,
       "version_minor": 0
      },
      "text/plain": [
       "Text(value='', description='Commercial Units:', layout=Layout(width='500px'), placeholder='Enter Number of Com…"
      ]
     },
     "metadata": {},
     "output_type": "display_data"
    },
    {
     "data": {
      "application/vnd.jupyter.widget-view+json": {
       "model_id": "d128dcbcbc1d48888d836bab8b1308e4",
       "version_major": 2,
       "version_minor": 0
      },
      "text/plain": [
       "Text(value='', description='Longitude:', placeholder='Enter Longitude', style=TextStyle(description_width='ini…"
      ]
     },
     "metadata": {},
     "output_type": "display_data"
    },
    {
     "data": {
      "application/vnd.jupyter.widget-view+json": {
       "model_id": "ce13eabeeb5d4f1aa4f46a8399c5d96c",
       "version_major": 2,
       "version_minor": 0
      },
      "text/plain": [
       "Text(value='', description='Latitude:', placeholder='Enter Latitude', style=TextStyle(description_width='initi…"
      ]
     },
     "metadata": {},
     "output_type": "display_data"
    },
    {
     "data": {
      "application/vnd.jupyter.widget-view+json": {
       "model_id": "05c32c0f3270438992639be769be6ed3",
       "version_major": 2,
       "version_minor": 0
      },
      "text/plain": [
       "Text(value='', description='Census Tract Identifier:', layout=Layout(width='400px'), placeholder='Enter Census…"
      ]
     },
     "metadata": {},
     "output_type": "display_data"
    },
    {
     "data": {
      "application/vnd.jupyter.widget-view+json": {
       "model_id": "4c8d3d1521a64151b2b7765b65f0caed",
       "version_major": 2,
       "version_minor": 0
      },
      "text/plain": [
       "VBox(children=(HTML(value='\\n    <p>\\n    Property with multiple improvements on one PIN? <br>\\n    e.g. a mai…"
      ]
     },
     "metadata": {},
     "output_type": "display_data"
    },
    {
     "data": {
      "application/vnd.jupyter.widget-view+json": {
       "model_id": "46b420d547204df19438ef7ca8bc010d",
       "version_major": 2,
       "version_minor": 0
      },
      "text/plain": [
       "Text(value='', description='Age:', placeholder='Enter Age', style=TextStyle(description_width='initial'))"
      ]
     },
     "metadata": {},
     "output_type": "display_data"
    },
    {
     "data": {
      "application/vnd.jupyter.widget-view+json": {
       "model_id": "9b5dd4e3eff6429db4833fc14f301957",
       "version_major": 2,
       "version_minor": 0
      },
      "text/plain": [
       "VBox(children=(HTML(value='\\n    <p>\\n    Use of property? <br>\\n    1 single family <br>\\n    2 multi-family …"
      ]
     },
     "metadata": {},
     "output_type": "display_data"
    },
    {
     "data": {
      "application/vnd.jupyter.widget-view+json": {
       "model_id": "a701bcc183384793bb2f63631af36cfd",
       "version_major": 2,
       "version_minor": 0
      },
      "text/plain": [
       "VBox(children=(HTML(value=\"\\n    <p>\\n    Within 1/4 mile under O'Hare approach flight path? <br>\\n    1 Yes <…"
      ]
     },
     "metadata": {},
     "output_type": "display_data"
    },
    {
     "data": {
      "application/vnd.jupyter.widget-view+json": {
       "model_id": "30c68680ec0f4d5b8d8dd4c8a3a3c6c7",
       "version_major": 2,
       "version_minor": 0
      },
      "text/plain": [
       "VBox(children=(HTML(value='\\n    <p>\\n    Is the property on a floodplain as defined by FEMA? <br>\\n    1 Yes …"
      ]
     },
     "metadata": {},
     "output_type": "display_data"
    },
    {
     "data": {
      "application/vnd.jupyter.widget-view+json": {
       "model_id": "42acce05b0f64fda8cf7469669b1c5ea",
       "version_major": 2,
       "version_minor": 0
      },
      "text/plain": [
       "VBox(children=(HTML(value='\\n    <p>\\n    Within 300 ft of a major road? <br>\\n    1 Yes <br>\\n    2 No <br>\\n…"
      ]
     },
     "metadata": {},
     "output_type": "display_data"
    },
    {
     "data": {
      "application/vnd.jupyter.widget-view+json": {
       "model_id": "c88ca75470f94542bb2fda32bb6fa512",
       "version_major": 2,
       "version_minor": 0
      },
      "text/plain": [
       "Text(value='', description='Year of sale:', placeholder='Enter Sale Year', style=TextStyle(description_width='…"
      ]
     },
     "metadata": {},
     "output_type": "display_data"
    },
    {
     "data": {
      "application/vnd.jupyter.widget-view+json": {
       "model_id": "617e216a024046bd92ef79224e94c7d4",
       "version_major": 2,
       "version_minor": 0
      },
      "text/plain": [
       "Text(value='', description='Quarter of Sale:', placeholder='Enter Quarter of Sale', style=TextStyle(descriptio…"
      ]
     },
     "metadata": {},
     "output_type": "display_data"
    },
    {
     "data": {
      "application/vnd.jupyter.widget-view+json": {
       "model_id": "6f5044982d284f56810e525994462156",
       "version_major": 2,
       "version_minor": 0
      },
      "text/plain": [
       "Text(value='', description='Half-year of sale:', placeholder='Enter Half-year of Sale', style=TextStyle(descri…"
      ]
     },
     "metadata": {},
     "output_type": "display_data"
    },
    {
     "data": {
      "application/vnd.jupyter.widget-view+json": {
       "model_id": "9c27decc8c124c5586ce358520344784",
       "version_major": 2,
       "version_minor": 0
      },
      "text/plain": [
       "Text(value='', description='Sale Month:', placeholder='Enter Month of Sale', style=TextStyle(description_width…"
      ]
     },
     "metadata": {},
     "output_type": "display_data"
    },
    {
     "data": {
      "application/vnd.jupyter.widget-view+json": {
       "model_id": "e5a3cebb0d6949f2b5cafdc3f54e5dd7",
       "version_major": 2,
       "version_minor": 0
      },
      "text/plain": [
       "VBox(children=(HTML(value='\\n    <p>\\n    Is this the most recent sale of the property <br>\\n    1 Yes <br>\\n …"
      ]
     },
     "metadata": {},
     "output_type": "display_data"
    },
    {
     "data": {
      "application/vnd.jupyter.widget-view+json": {
       "model_id": "dcd2df729dcd480ba582807b2133b653",
       "version_major": 2,
       "version_minor": 0
      },
      "text/plain": [
       "Text(value='', description='Age in Decades:', placeholder='Enter Age in Decades', style=TextStyle(description_…"
      ]
     },
     "metadata": {},
     "output_type": "display_data"
    },
    {
     "data": {
      "application/vnd.jupyter.widget-view+json": {
       "model_id": "a1bee9c4a1ff4df7b3333210bc46dacb",
       "version_major": 2,
       "version_minor": 0
      },
      "text/plain": [
       "VBox(children=(HTML(value='\\n    <p>\\n    Is this a pure market sale? <br>\\n    1 Yes <br>\\n    2 No <br>\\n   …"
      ]
     },
     "metadata": {},
     "output_type": "display_data"
    },
    {
     "data": {
      "application/vnd.jupyter.widget-view+json": {
       "model_id": "c95e2be80bc94ce98a0b1f8eb6857955",
       "version_major": 2,
       "version_minor": 0
      },
      "text/plain": [
       "VBox(children=(HTML(value='\\n    <p>\\n    Is there a garage? <br>\\n    1 Yes <br>\\n    2 No <br>\\n    </p>'), …"
      ]
     },
     "metadata": {},
     "output_type": "display_data"
    },
    {
     "data": {
      "application/vnd.jupyter.widget-view+json": {
       "model_id": "888acd6120434f0fa200551f144ca1b5",
       "version_major": 2,
       "version_minor": 0
      },
      "text/plain": [
       "Text(value='', description='Unmodified neighborhood code for mapping:', layout=Layout(width='500px'), placehol…"
      ]
     },
     "metadata": {},
     "output_type": "display_data"
    },
    {
     "data": {
      "application/vnd.jupyter.widget-view+json": {
       "model_id": "5dcad2bd55094f5eaefe22344fc26701",
       "version_major": 2,
       "version_minor": 0
      },
      "text/plain": [
       "Text(value='', description='Combination of town and neighborhood:', layout=Layout(width='550px'), placeholder=…"
      ]
     },
     "metadata": {},
     "output_type": "display_data"
    },
    {
     "data": {
      "application/vnd.jupyter.widget-view+json": {
       "model_id": "a995209aa1ab40b6bc4b11268040486f",
       "version_major": 2,
       "version_minor": 0
      },
      "text/plain": [
       "Text(value='', description='Lot Size:', placeholder='Enter Lot Size', style=TextStyle(description_width='initi…"
      ]
     },
     "metadata": {},
     "output_type": "display_data"
    },
    {
     "data": {
      "application/vnd.jupyter.widget-view+json": {
       "model_id": "5f9ab2b27927443b96b58da92468de5d",
       "version_major": 2,
       "version_minor": 0
      },
      "text/plain": [
       "Text(value='', description='Bedrooms:', layout=Layout(width='550px'), placeholder='Enter Number of Bedrooms', …"
      ]
     },
     "metadata": {},
     "output_type": "display_data"
    },
    {
     "data": {
      "application/vnd.jupyter.widget-view+json": {
       "model_id": "f1b7d5390b664674b6e77f74e5c68ebe",
       "version_major": 2,
       "version_minor": 0
      },
      "text/plain": [
       "Button(button_style='success', description='Submit', style=ButtonStyle())"
      ]
     },
     "metadata": {},
     "output_type": "display_data"
    },
    {
     "data": {
      "application/vnd.jupyter.widget-view+json": {
       "model_id": "e1bdc9e68f4443ea89cb8c0a2c2d2638",
       "version_major": 2,
       "version_minor": 0
      },
      "text/plain": [
       "Output()"
      ]
     },
     "metadata": {},
     "output_type": "display_data"
    }
   ],
   "source": [
    "import ipywidgets as widgets\n",
    "property_class = widgets.Text(\n",
    "    value='',\n",
    "    placeholder='Enter Property Class',\n",
    "    description='Property Class:',\n",
    "    style={'description_width': 'initial'},\n",
    "    disabled=False\n",
    ")\n",
    "neighborhood_code = widgets.Text(\n",
    "    value='',\n",
    "    placeholder='Enter Neighborhood Code',\n",
    "    description='Neighborhood Code as assigned by Assessment office:',\n",
    "    style={'description_width': 'initial'},\n",
    "    layout=widgets.Layout(width='600px'),\n",
    "    disabled=False\n",
    ")\n",
    "land_square_feet = widgets.Text(\n",
    "    value='',\n",
    "    placeholder='Enter Land Square Feet',\n",
    "    description='Land Square Feet:',\n",
    "    style={'description_width': 'initial'},\n",
    "    disabled=False\n",
    ")\n",
    "\n",
    "town_code = widgets.Text(\n",
    "    value='',\n",
    "    placeholder='Enter Town Code',\n",
    "    description='Town Code:',\n",
    "    style={'description_width': 'initial'},\n",
    "    disabled=False\n",
    ")\n",
    "\n",
    "apartments = widgets.Text(\n",
    "    value='',\n",
    "    placeholder='Enter Apartments',\n",
    "    description='Number of Apartments:',\n",
    "    style={'description_width': 'initial'},\n",
    "    layout=widgets.Layout(width='300px'),\n",
    "    disabled=False\n",
    ")\n",
    "\n",
    "wall_mat_html = widgets.HTML(\n",
    "    value = \"\"\"\n",
    "    <p>\n",
    "    Select Exterior wall material <br>\n",
    "    1 wood <br>\n",
    "    2 masonry <br>\n",
    "    3 wood & masonry <br>\n",
    "    4 stucco\n",
    "    </p>\"\"\"\n",
    ")\n",
    "\n",
    "wall_mat = widgets.Dropdown(\n",
    "    options=[1, 2, 3, 4],\n",
    "    description = \"Choice:\",\n",
    "    style={'description_width': 'initial'},\n",
    "    disabled = False,\n",
    ")\n",
    "\n",
    "\n",
    "roof_mat_html = widgets.HTML(\n",
    "    value = \"\"\"\n",
    "    <p>\n",
    "    Select Roof material <br>\n",
    "    1 Shingle/Asphalt <br>\n",
    "    2 Tar & Gravel <br>\n",
    "    3 Slate <br>\n",
    "    4 Shake <br>\n",
    "    5 Tile <br>\n",
    "    6 Other\n",
    "    </p>\"\"\"\n",
    ")\n",
    "\n",
    "roof_mat = widgets.Dropdown(\n",
    "    options=[1, 2, 3, 4, 5, 6],\n",
    "    description = \"Choice:\",\n",
    "    style={'description_width': 'initial'},\n",
    "    disabled = False,\n",
    ")\n",
    "\n",
    "basement_html = widgets.HTML(\n",
    "    value = \"\"\"\n",
    "    <p>\n",
    "    Select Basement type <br>\n",
    "    1 Full <br>\n",
    "    2 Slab <br>\n",
    "    3 Partial <br>\n",
    "    4 Crawl <br>\n",
    "    </p>\"\"\"\n",
    ")\n",
    "\n",
    "basement = widgets.Dropdown(\n",
    "    options=[1, 2, 3, 4],\n",
    "    description = \"Choice:\",\n",
    "    style={'description_width': 'initial'},\n",
    "    disabled = False,\n",
    ")\n",
    "\n",
    "basement_finish_html = widgets.HTML(\n",
    "    value = \"\"\"\n",
    "    <p>\n",
    "    Select Basement Finish <br>\n",
    "    1 Formal rec room <br>\n",
    "    2 Apartment <br>\n",
    "    3 Unfinished <br>\n",
    "    </p>\"\"\"\n",
    ")\n",
    "\n",
    "basement_finish = widgets.Dropdown(\n",
    "    options=[1, 2, 3],\n",
    "    description = \"Choice:\",\n",
    "    style={'description_width': 'initial'},\n",
    "    disabled = False,\n",
    ")\n",
    "\n",
    "central_heat_html = widgets.HTML(\n",
    "    value = \"\"\"\n",
    "    <p>\n",
    "    Select Roof material <br>\n",
    "    1 Warm air <br>\n",
    "    2 Hot water steam <br>\n",
    "    3 Electric <br>\n",
    "    4 Other <br>\n",
    "    </p>\"\"\"\n",
    ")\n",
    "\n",
    "central_heat = widgets.Dropdown(\n",
    "    options=[1, 2, 3, 4],\n",
    "    description = \"Choice:\",\n",
    "    style={'description_width': 'initial'},\n",
    "    disabled = False,\n",
    ")\n",
    "\n",
    "other_heat_html = widgets.HTML(\n",
    "    value = \"\"\"\n",
    "    <p>\n",
    "    Select Other Heating <br>\n",
    "    1 Floor furnace <br>\n",
    "    2 Unit heater <br>\n",
    "    3 Stove <br>\n",
    "    4 Solar <br>\n",
    "    5 None <br>\n",
    "    </p>\"\"\"\n",
    ")\n",
    "\n",
    "other_heat = widgets.Dropdown(\n",
    "    options=[1, 2, 3, 4, 5],\n",
    "    description = \"Choice:\",\n",
    "    style={'description_width': 'initial'},\n",
    "    disabled = False,\n",
    ")\n",
    "\n",
    "\n",
    "central_air_html = widgets.HTML(\n",
    "    value = \"\"\"\n",
    "    <p>\n",
    "    Is central airconditioning present? <br>\n",
    "    1 Yes <br>\n",
    "    2 No <br>\n",
    "    </p>\"\"\"\n",
    ")\n",
    "\n",
    "central_air = widgets.Dropdown(\n",
    "    options=[1, 2],\n",
    "    description = \"Choice:\",\n",
    "    style={'description_width': 'initial'},\n",
    "    disabled = False,\n",
    ")\n",
    "\n",
    "fireplaces = widgets.Text(\n",
    "    value='',\n",
    "    placeholder='Number of Fireplaces',\n",
    "    description='Number of Fireplaces:',\n",
    "    style={'description_width': 'initial'},\n",
    "    disabled=False\n",
    ")\n",
    "\n",
    "attic_type_html = widgets.HTML(\n",
    "    value = \"\"\"\n",
    "    <p>\n",
    "    Type of Attic? <br>\n",
    "    1 Full <br>\n",
    "    2 Partial <br>\n",
    "    3 None <br>\n",
    "    </p>\"\"\"\n",
    ")\n",
    "\n",
    "attic_type = widgets.Dropdown(\n",
    "    options=[1, 2, 3],\n",
    "    description = \"Choice:\",\n",
    "    style={'description_width': 'initial'},\n",
    "    disabled = False,\n",
    ")\n",
    "\n",
    "attic_finish_html = widgets.HTML(\n",
    "    value = \"\"\"\n",
    "    <p>\n",
    "    Select Attic Finish <br>\n",
    "    1 Living Area <br>\n",
    "    2 Apartment <br>\n",
    "    3 Unfinished <br>\n",
    "    </p>\"\"\"\n",
    ")\n",
    "\n",
    "attic_finish = widgets.Dropdown(\n",
    "    options=[1, 2, 3],\n",
    "    description = \"Choice:\",\n",
    "    style={'description_width': 'initial'},\n",
    "    disabled = False,\n",
    ")\n",
    "\n",
    "design_plan_html = widgets.HTML(\n",
    "    value = \"\"\"\n",
    "    <p>\n",
    "    Select Design Plan <br>\n",
    "    1 Architect <br>\n",
    "    2 Stock Plan <br>\n",
    "    </p>\"\"\"\n",
    ")\n",
    "\n",
    "design_plan = widgets.Dropdown(\n",
    "    options=[1, 2],\n",
    "    description = \"Choice:\",\n",
    "    style={'description_width': 'initial'},\n",
    "    disabled = False,\n",
    ")\n",
    "\n",
    "cathedral_ceiling_html = widgets.HTML(\n",
    "    value = \"\"\"\n",
    "    <p>\n",
    "    Cathedral Ceiling? <br>\n",
    "    1 Yes <br>\n",
    "    2 No <br>\n",
    "    </p>\"\"\"\n",
    ")\n",
    "\n",
    "cathedral_ceiling = widgets.Dropdown(\n",
    "    options=[1, 2],\n",
    "    description = \"Choice:\",\n",
    "    style={'description_width': 'initial'},\n",
    "    disabled = False,\n",
    ")\n",
    "\n",
    "garage1_size = widgets.Dropdown(\n",
    "    options=[0, 1, 1.5, 2, 2.5, 3, 3.5, 4],\n",
    "    description = \"How many cars can garage 1 fit?:\",\n",
    "    style={'description_width': 'initial'},\n",
    "    disabled = False,\n",
    ")\n",
    "\n",
    "garage1_mat_html = widgets.HTML(\n",
    "    value = \"\"\"\n",
    "    <p>\n",
    "    Select Garage 1 Material <br>\n",
    "    1 Frame <br>\n",
    "    2 Masonry <br>\n",
    "    3 Frame/Masony <br>\n",
    "    4 Stucco <br>\n",
    "    </p>\"\"\"\n",
    ")\n",
    "\n",
    "garage1_mat = widgets.Dropdown(\n",
    "    options=[1, 2, 3, 4],\n",
    "    description = \"Choice:\",\n",
    "    style={'description_width': 'initial'},\n",
    "    disabled = False,\n",
    ")\n",
    "\n",
    "garage1_attach_html = widgets.HTML(\n",
    "    value = \"\"\"\n",
    "    <p>\n",
    "    Is Garage 1 Attached? <br>\n",
    "    1 Yes <br>\n",
    "    2 No <br>\n",
    "    </p>\"\"\"\n",
    ")\n",
    "\n",
    "\n",
    "garage1_attach = widgets.Dropdown(\n",
    "    options=[1, 2],\n",
    "    description = \"Choice:\",\n",
    "    style={'description_width': 'initial'},\n",
    "    disabled = False,\n",
    ")\n",
    "\n",
    "garage1_area_html = widgets.HTML(\n",
    "    value = \"\"\"\n",
    "    <p>\n",
    "    Is Garage 1 physically included within the building area? <br>\n",
    "    1 Yes <br>\n",
    "    2 No <br>\n",
    "    </p>\"\"\"\n",
    ")\n",
    "\n",
    "garage1_area = widgets.Dropdown(\n",
    "    options=[1, 2],\n",
    "    description = \"Choice:\",\n",
    "    style={'description_width': 'initial'},\n",
    "    disabled = False,\n",
    ")\n",
    "\n",
    "garage2_size = widgets.Dropdown(\n",
    "    options=[0, 1, 1.5, 2, 2.5, 3, 3.5, 4],\n",
    "    description = \"How many cars can garage 2 fit?:\",\n",
    "    style={'description_width': 'initial'},\n",
    "    disabled = False,\n",
    ")\n",
    "\n",
    "garage2_mat_html = widgets.HTML(\n",
    "    value = \"\"\"\n",
    "    <p>\n",
    "    Select Garage 2 Material <br>\n",
    "    1 Frame <br>\n",
    "    2 Masonry <br>\n",
    "    3 Frame/Masony <br>\n",
    "    4 Stucco <br>\n",
    "    </p>\"\"\"\n",
    ")\n",
    "\n",
    "garage2_mat = widgets.Dropdown(\n",
    "    options=[1, 2, 3, 4],\n",
    "    description = \"Choice:\",\n",
    "    style={'description_width': 'initial'},\n",
    "    disabled = False,\n",
    ")\n",
    "\n",
    "garage2_attach_html = widgets.HTML(\n",
    "    value = \"\"\"\n",
    "    <p>\n",
    "    Is Garage 2 Attached? <br>\n",
    "    1 Yes <br>\n",
    "    2 No <br>\n",
    "    </p>\"\"\"\n",
    ")\n",
    "\n",
    "garage2_attach = widgets.Dropdown(\n",
    "    options=[1, 2],\n",
    "    description = \"Choice:\",\n",
    "    style={'description_width': 'initial'},\n",
    "    disabled = False,\n",
    ")\n",
    "\n",
    "garage2_area_html = widgets.HTML(\n",
    "    value = \"\"\"\n",
    "    <p>\n",
    "    Is Garage 2 physically included within the building area? <br>\n",
    "    1 Yes <br>\n",
    "    2 No <br>\n",
    "    </p>\"\"\"\n",
    ")\n",
    "\n",
    "garage2_area = widgets.Dropdown(\n",
    "    options=[1, 2],\n",
    "    description = \"Choice:\",\n",
    "    style={'description_width': 'initial'},\n",
    "    disabled = False,\n",
    ")\n",
    "\n",
    "porch_html = widgets.HTML(\n",
    "    value = \"\"\"\n",
    "    <p>\n",
    "    Select the type of Porch <br>\n",
    "    1 Frame <br>\n",
    "    2 Masonry <br>\n",
    "    3 None <br>\n",
    "    </p>\"\"\"\n",
    ")\n",
    "\n",
    "porch = widgets.Dropdown(\n",
    "    options=[1, 2, 3],\n",
    "    description = \"Choice:\",\n",
    "    style={'description_width': 'initial'},\n",
    "    disabled = False,\n",
    ")\n",
    "\n",
    "building_square_feet = widgets.Text(\n",
    "    value='',\n",
    "    placeholder='Enter Building Square Feet',\n",
    "    description='Building Square Feet:',\n",
    "    style={'description_width': 'initial'},\n",
    "    layout=widgets.Layout(width='400px'),\n",
    "    disabled=False\n",
    ")\n",
    "\n",
    "repair_cond_html = widgets.HTML(\n",
    "    value = \"\"\"\n",
    "    <p>\n",
    "    Select Repair Condition <br>\n",
    "    1 Above Average <br>\n",
    "    2 Average <br>\n",
    "    3 Below Average <br>\n",
    "    </p>\"\"\"\n",
    ")\n",
    "\n",
    "repair_cond = widgets.Dropdown(\n",
    "    options=[1, 2, 3],\n",
    "    description = \"Choice:\",\n",
    "    style={'description_width': 'initial'},\n",
    "    disabled = False,\n",
    ")\n",
    "\n",
    "multi_code = widgets.Dropdown(\n",
    "    options=[1, 2, 3, 4, 5, 6],\n",
    "    description = \"How many buildings exists on the pin?:\",\n",
    "    style={'description_width': 'initial'},\n",
    "    disabled = False,\n",
    ")\n",
    "\n",
    "comm_units = widgets.Text(\n",
    "    value='',\n",
    "    placeholder='Enter Number of Commercial Units',\n",
    "    description='Commercial Units:',\n",
    "    style = {'description_width':'initial'},\n",
    "    layout=widgets.Layout(width='500px'),\n",
    "    disabled=False\n",
    ")\n",
    "\n",
    "longitude = widgets.Text(\n",
    "    value='',\n",
    "    placeholder='Enter Longitude',\n",
    "    description='Longitude:',\n",
    "    style = {'description_width':'initial'},\n",
    "    disabled=False\n",
    ")\n",
    "\n",
    "latitude = widgets.Text(\n",
    "    value='',\n",
    "    placeholder='Enter Latitude',\n",
    "    description='Latitude:',\n",
    "    style = {'description_width':'initial'},\n",
    "    disabled=False\n",
    ")\n",
    "\n",
    "census_tract = widgets.Text(\n",
    "    value='',\n",
    "    placeholder='Enter Census Tract Identifier',\n",
    "    description='Census Tract Identifier:',\n",
    "    style = {'description_width':'initial'},\n",
    "    layout=widgets.Layout(width='400px'),\n",
    "    disabled=False\n",
    ")\n",
    "\n",
    "multi_prop_ind_html = widgets.HTML(\n",
    "    value = \"\"\"\n",
    "    <p>\n",
    "    Property with multiple improvements on one PIN? <br>\n",
    "    e.g. a main house and a couch house, not to be confused with <br>\n",
    "    property which was part of a multi-pin sale <br>\n",
    "    1 Yes <br>\n",
    "    2 No <br>\n",
    "    </p>\"\"\"\n",
    ")\n",
    "\n",
    "multi_prop_ind = widgets.Dropdown(\n",
    "    options=[1, 2],\n",
    "    description = \"Choice:\",\n",
    "    style={'description_width': 'initial'},\n",
    "    disabled = False,\n",
    ")\n",
    "\n",
    "age = widgets.Text(\n",
    "    value='',\n",
    "    placeholder='Enter Age',\n",
    "    description='Age:',\n",
    "    style = {'description_width':'initial'},\n",
    "    disabled=False\n",
    ")\n",
    "\n",
    "use_html = widgets.HTML(\n",
    "    value = \"\"\"\n",
    "    <p>\n",
    "    Use of property? <br>\n",
    "    1 single family <br>\n",
    "    2 multi-family <br>\n",
    "    </p>\"\"\"\n",
    ")\n",
    "\n",
    "use = widgets.Dropdown(\n",
    "    options=[1, 2],\n",
    "    description = \"Choice:\",\n",
    "    style={'description_width': 'initial'},\n",
    "    disabled = False,\n",
    ")\n",
    "\n",
    "noise_html = widgets.HTML(\n",
    "    value = \"\"\"\n",
    "    <p>\n",
    "    Within 1/4 mile under O'Hare approach flight path? <br>\n",
    "    1 Yes <br>\n",
    "    2 No <br>\n",
    "    </p>\"\"\"\n",
    ")\n",
    "\n",
    "noise = widgets.Dropdown(\n",
    "    options=[1, 2],\n",
    "    description = \"Choice:\",\n",
    "    style={'description_width': 'initial'},\n",
    "    disabled = False,\n",
    ")\n",
    "\n",
    "flood_html = widgets.HTML(\n",
    "    value = \"\"\"\n",
    "    <p>\n",
    "    Is the property on a floodplain as defined by FEMA? <br>\n",
    "    1 Yes <br>\n",
    "    2 No <br>\n",
    "    </p>\"\"\"\n",
    ")\n",
    "\n",
    "flood = widgets.Dropdown(\n",
    "    options=[1, 2],\n",
    "    description = \"Choice:\",\n",
    "    style={'description_width': 'initial'},\n",
    "    disabled = False,\n",
    ")\n",
    "\n",
    "road_proximity_html = widgets.HTML(\n",
    "    value = \"\"\"\n",
    "    <p>\n",
    "    Within 300 ft of a major road? <br>\n",
    "    1 Yes <br>\n",
    "    2 No <br>\n",
    "    </p>\"\"\"\n",
    ")\n",
    "\n",
    "road_proximity = widgets.Dropdown(\n",
    "    options=[1, 2],\n",
    "    description = \"Choice:\",\n",
    "    style={'description_width': 'initial'},\n",
    "    disabled = False,\n",
    ")\n",
    "\n",
    "sale_year = widgets.Text(\n",
    "    value='',\n",
    "    placeholder='Enter Sale Year',\n",
    "    description='Year of sale:',\n",
    "    style = {'description_width':'initial'},\n",
    "    disabled=False\n",
    ")\n",
    "\n",
    "sale_quarter = widgets.Text(\n",
    "    value='',\n",
    "    placeholder='Enter Quarter of Sale',\n",
    "    description='Quarter of Sale:',\n",
    "    style = {'description_width':'initial'},\n",
    "    disabled=False\n",
    ")\n",
    "\n",
    "sale_half_year = widgets.Text(\n",
    "    value='',\n",
    "    placeholder='Enter Half-year of Sale',\n",
    "    description='Half-year of sale:',\n",
    "    style = {'description_width':'initial'},\n",
    "    disabled=False\n",
    ")\n",
    "\n",
    "sale_month = widgets.Text(\n",
    "    value='',\n",
    "    placeholder='Enter Month of Sale',\n",
    "    description='Sale Month:',\n",
    "    style = {'description_width':'initial'},\n",
    "    disabled=False\n",
    ")\n",
    "\n",
    "recent_html = widgets.HTML(\n",
    "    value = \"\"\"\n",
    "    <p>\n",
    "    Is this the most recent sale of the property <br>\n",
    "    1 Yes <br>\n",
    "    2 No <br>\n",
    "    </p>\"\"\"\n",
    ")\n",
    "\n",
    "recent = widgets.Dropdown(\n",
    "    options=[1, 2],\n",
    "    description = \"Choice:\",\n",
    "    style={'description_width': 'initial'},\n",
    "    disabled = False,\n",
    ")\n",
    "\n",
    "age_decade = widgets.Text(\n",
    "    value='',\n",
    "    placeholder='Enter Age in Decades',\n",
    "    description='Age in Decades:',\n",
    "    style = {'description_width':'initial'},\n",
    "    disabled=False\n",
    ")\n",
    "\n",
    "pure_market_html = widgets.HTML(\n",
    "    value = \"\"\"\n",
    "    <p>\n",
    "    Is this a pure market sale? <br>\n",
    "    1 Yes <br>\n",
    "    2 No <br>\n",
    "    </p>\"\"\"\n",
    ")\n",
    "\n",
    "pure_market = widgets.Dropdown(\n",
    "    options=[1, 2],\n",
    "    description = \"Choice:\",\n",
    "    style={'description_width': 'initial'},\n",
    "    disabled = False,\n",
    ")\n",
    "\n",
    "garage_indicator_html = widgets.HTML(\n",
    "    value = \"\"\"\n",
    "    <p>\n",
    "    Is there a garage? <br>\n",
    "    1 Yes <br>\n",
    "    2 No <br>\n",
    "    </p>\"\"\"\n",
    ")\n",
    "\n",
    "garage_indicator = widgets.Dropdown(\n",
    "    options=[1, 2],\n",
    "    description = \"Choice:\",\n",
    "    style={'description_width': 'initial'},\n",
    "    disabled = False,\n",
    ")\n",
    "\n",
    "neighborhood_code_unmod = widgets.Text(\n",
    "    value='',\n",
    "    placeholder='Enter Neighborhood Code',\n",
    "    description='Unmodified neighborhood code for mapping:',\n",
    "    style = {'description_width':'initial'},\n",
    "    layout=widgets.Layout(width='500px'),\n",
    "    disabled=False\n",
    ")\n",
    "\n",
    "town_and_neighborhood = widgets.Text(\n",
    "    value='',\n",
    "    placeholder='Enter Combination of Town and Neighborhood',\n",
    "    description='Combination of town and neighborhood:',\n",
    "    style = {'description_width':'initial'},\n",
    "    layout=widgets.Layout(width='550px'),\n",
    "    disabled=False\n",
    ")\n",
    "\n",
    "lot_size = widgets.Text(\n",
    "    value='',\n",
    "    placeholder='Enter Lot Size',\n",
    "    description='Lot Size:',\n",
    "    style = {'description_width':'initial'},\n",
    "    disabled=False\n",
    ")\n",
    "\n",
    "bedrooms = widgets.Text(\n",
    "    value='',\n",
    "    placeholder='Enter Number of Bedrooms',\n",
    "    description='Bedrooms:',\n",
    "    style = {'description_width':'initial'},\n",
    "    layout=widgets.Layout(width='550px'),\n",
    "    disabled=False\n",
    ")\n",
    "\n",
    "# Create a submit button.\n",
    "submit_button = widgets.Button(\n",
    "    description='Submit',\n",
    "    button_style='success'\n",
    ")\n",
    "\n",
    "# Output widget to display results.\n",
    "output = widgets.Output()\n",
    "\n",
    "# Define the callback function for the button click.\n",
    "def on_submit_clicked(b):\n",
    "    with output:\n",
    "        clear_output()  # Clear previous output\n",
    "        \n",
    "        # Read values from text boxes.\n",
    "        try:\n",
    "            # Convert text inputs to float or int.\n",
    "            f1 = float(property_class.value)\n",
    "            f2 = float(neighborhood_code.value)\n",
    "            f3 = float(land_square_feet.value)\n",
    "            f4 = float(town_code.value)\n",
    "            f5 = float(apartments.value)\n",
    "            f6 = float(wall_mat.value)\n",
    "            f7 = float(roof_mat.value)\n",
    "            f8 = float(basement.value)\n",
    "            f9 = float(basement_finish.value)\n",
    "            f10 = float(central_heat.value)\n",
    "            f11 = float(other_heat.value)\n",
    "            f12 = float(central_air.value)\n",
    "            f13 = float(fireplaces.value)\n",
    "            f14 = float(attic_type.value)\n",
    "            f15 = float(attic_finish.value)\n",
    "            f16 = float(design_plan.value)\n",
    "            f17 = float(cathedral_ceiling.value)\n",
    "            f18 = float(garage1_size.value)\n",
    "            f19 = float(garage1_mat.value)\n",
    "            f20 = float(garage1_attach.value)\n",
    "            f21 = float(garage1_area.value)\n",
    "            f22 = float(garage2_size.value)\n",
    "            f23 = float(garage2_mat.value)\n",
    "            f24 = float(garage2_attach.value)\n",
    "            f25 = float(garage2_area.value)\n",
    "            f26 = float(porch.value)\n",
    "            f27 = float(building_square_feet.value)\n",
    "            f28 = float(repair_cond.value)\n",
    "            f29 = float(multi_code.value + 1)\n",
    "            f30 = float(comm_units.value)\n",
    "            f31 = float(longitude.value)\n",
    "            f32 = float(latitude.value)\n",
    "            f33 = float(census_tract.value)\n",
    "            f34 = float(multi_prop_ind.value)\n",
    "            f35 = float(age.value)\n",
    "            f36 = float(use.value)\n",
    "            f37 = float(noise.value)\n",
    "            f38 = float(flood.value)\n",
    "            f39 = float(road_proximity.value)\n",
    "            f40 = float(sale_year.value)\n",
    "            f41 = float(sale_quarter.value)\n",
    "            f42 = float(sale_half_year.value)\n",
    "            f43 = float(sale_month.value)\n",
    "            f44 = float(recent.value)\n",
    "            f45 = float(age_decade.value)\n",
    "            f46 = float(pure_market.value)\n",
    "            f47 = float(garage_indicator.value)\n",
    "            f48 = float(neighborhood_code_unmod.value)\n",
    "            f49 = float(town_and_neighborhood.value)\n",
    "            f50 = float(lot_size.value)\n",
    "            f51 = float(np.log(1 + f27))\n",
    "            f52 = float(np.log(1 + f3))\n",
    "            f53 = float(np.log(1 + f50))\n",
    "            f54 = float(bedrooms.value)\n",
    "        except ValueError:\n",
    "            print(\"Please ensure all inputs are numeric.\")\n",
    "            return\n",
    "        \n",
    "        # Create a new DataFrame with the input values.\n",
    "        new_data = pd.DataFrame([[f1, f2, f3, f4, f5, f6, f7, f8, f9, f10, f11, f12,\n",
    "                                  f13, f14, f15, f16, f17, f18, f19, f20, f21, f22, f23,\n",
    "                                  f24, f25, f26, f27, f28, f29, f30, f31, f32, f33, f34,\n",
    "                                  f35, f36, f37, f38, f39, f40, f41, f42, f43, f44, f45, \n",
    "                                  f46, f47, f48, f49, f50, f51, f52, f53, f54\n",
    "                                 ]], \n",
    "                                columns=['Property_Class', 'Neighborhood_Code', 'Land_Square_Feet', 'Town_Code',\n",
    "       'Apartments', 'Wall_Material', 'Roof_Material', 'Basement',\n",
    "       'Basement_Finish', 'Central_Heating', 'Other_Heating', 'Central_Air',\n",
    "       'Fireplaces', 'Attic_Type', 'Attic_Finish', 'Design_Plan',\n",
    "       'Cathedral_Ceiling', 'Garage_1_Size', 'Garage_1_Material',\n",
    "       'Garage_1_Attachment', 'Garage_1_Area', 'Garage_2_Size',\n",
    "       'Garage_2_Material', 'Garage_2_Attachment', 'Garage_2_Area', 'Porch',\n",
    "       'Building_Square_Feet', 'Repair_Condition', 'Multi_Code',\n",
    "       'Number_of_Commercial_Units', 'Longitude', 'Latitude', 'Census_Tract',\n",
    "       'Multi_Property_Indicator', 'Age', 'Use', \"O'Hare_Noise\", 'Floodplain',\n",
    "       'Road_Proximity', 'Sale_Year', 'Sale_Quarter', 'Sale_Half_Year',\n",
    "       'Sale_Month_of_Year', 'Most_Recent_Sale', 'Age_Decade',\n",
    "       'Pure_Market_Filter', 'Garage_Indicator', 'Neigborhood_Code_mapping',\n",
    "       'Town_and_Neighborhood', 'Lot_Size', 'Log Building Square Feet', 'Log Land Square Feet', 'Log Lot Size', 'Bedrooms'])\n",
    "        print(\"New input data:\")\n",
    "        display(new_data)\n",
    "        \n",
    "        def rmse_loss(y_true, y_pred):\n",
    "            return K.sqrt(K.mean(K.square(y_pred - y_true)))\n",
    "\n",
    "        model = tf.keras.models.load_model('best_model.keras',\n",
    "                                          custom_objects = {\"rmse_loss\":rmse_loss})\n",
    "        \n",
    "        # Use the model to make a prediction.\n",
    "        prediction = model.predict(new_data)\n",
    "        \n",
    "        # Display the prediction result.\n",
    "        print(\"Model Prediction:\", prediction[0])\n",
    "\n",
    "# Link the button click event to the callback.\n",
    "submit_button.on_click(on_submit_clicked)\n",
    "\n",
    "# Display all the widgets together.\n",
    "display(property_class, neighborhood_code, land_square_feet,town_code, apartments, \n",
    "        widgets.VBox([wall_mat_html, wall_mat]), widgets.VBox([roof_mat_html, roof_mat]), \n",
    "        widgets.VBox([basement_html, basement]), widgets.VBox([basement_finish_html, basement_finish]),\n",
    "        widgets.VBox([central_heat_html, central_heat]), widgets.VBox([other_heat_html, other_heat]),\n",
    "        widgets.VBox([central_air_html, central_air]), fireplaces, widgets.VBox([attic_type_html, attic_type]),\n",
    "        widgets.VBox([attic_finish_html, attic_finish]), widgets.VBox([design_plan_html, design_plan]),\n",
    "        widgets.VBox([cathedral_ceiling_html, cathedral_ceiling]), garage1_size, widgets.VBox([garage1_mat_html, garage1_mat]),\n",
    "        widgets.VBox([garage1_attach_html, garage1_attach]), widgets.VBox([garage1_area_html, garage1_area]),\n",
    "        garage2_size, widgets.VBox([garage2_mat_html, garage2_mat]), widgets.VBox([garage2_attach_html, garage2_attach]),\n",
    "        widgets.VBox([garage2_area_html, garage2_area]), widgets.VBox([porch_html, porch]), building_square_feet,\n",
    "        widgets.VBox([repair_cond_html, repair_cond]), multi_code, comm_units, longitude, latitude,\n",
    "        census_tract, widgets.VBox([multi_prop_ind_html, multi_prop_ind]), age, \n",
    "        widgets.VBox([use_html, use]), widgets.VBox([noise_html, noise]), \n",
    "        widgets.VBox([flood_html, flood]), widgets.VBox([road_proximity_html, road_proximity]), sale_year, sale_quarter,\n",
    "        sale_half_year, sale_month, widgets.VBox([recent_html, recent]), age_decade,\n",
    "        widgets.VBox([pure_market_html, pure_market]), widgets.VBox([garage_indicator_html, garage_indicator]),\n",
    "        neighborhood_code_unmod, town_and_neighborhood, lot_size, bedrooms,\n",
    "        submit_button, output)"
   ]
  },
  {
   "cell_type": "code",
   "execution_count": null,
   "id": "ef3ba3be-56c7-4678-883f-9a00b876eda5",
   "metadata": {},
   "outputs": [],
   "source": []
  },
  {
   "cell_type": "code",
   "execution_count": null,
   "id": "e876d4bd-a2fa-4569-adb2-fc3c827f5193",
   "metadata": {},
   "outputs": [],
   "source": []
  }
 ],
 "metadata": {
  "kernelspec": {
   "display_name": "Python 3 (ipykernel)",
   "language": "python",
   "name": "python3"
  },
  "language_info": {
   "codemirror_mode": {
    "name": "ipython",
    "version": 3
   },
   "file_extension": ".py",
   "mimetype": "text/x-python",
   "name": "python",
   "nbconvert_exporter": "python",
   "pygments_lexer": "ipython3",
   "version": "3.12.4"
  }
 },
 "nbformat": 4,
 "nbformat_minor": 5
}
