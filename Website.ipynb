{
 "cells": [
  {
   "cell_type": "code",
   "execution_count": 320,
   "id": "ac7a77c7-91a3-4c94-a231-dcb2ec20a1d7",
   "metadata": {},
   "outputs": [],
   "source": [
    "import ipywidgets as widgets\n",
    "from IPython.display import display, clear_output\n",
    "import pandas as pd\n",
    "\n",
    "import io\n",
    "import contextlib\n",
    "\n",
    "from sklearn.model_selection import train_test_split\n",
    "import numpy as np"
   ]
  },
  {
   "cell_type": "code",
   "execution_count": 322,
   "id": "eb4d16ef-0254-4e9b-a4f6-fa57e1ceef7f",
   "metadata": {},
   "outputs": [],
   "source": [
    "%%capture\n",
    "import tensorflow_decision_forests as tfdf"
   ]
  },
  {
   "cell_type": "code",
   "execution_count": 324,
   "id": "20a8004a-963d-4c5a-a732-df70ded7d5c1",
   "metadata": {},
   "outputs": [],
   "source": [
    "%%capture\n",
    "rf = tfdf.keras.RandomForestModel(task = tfdf.keras.Task.REGRESSION)\n",
    "rf.compile(metrics=['RootMeanSquaredError'])"
   ]
  },
  {
   "cell_type": "code",
   "execution_count": 326,
   "id": "0692dc0d-9243-4f3f-a57d-dedfc137feb7",
   "metadata": {},
   "outputs": [],
   "source": [
    "def log_transform(data, col):\n",
    "    copy = data.copy()\n",
    "    copy['Log ' + col] = np.log(data[col])\n",
    "    return copy"
   ]
  },
  {
   "cell_type": "code",
   "execution_count": 328,
   "id": "6b650d2e-80db-4676-bf95-a22971d406a8",
   "metadata": {},
   "outputs": [],
   "source": [
    "full_data = pd.read_csv('cook_county_train.csv')\n",
    "full_data = log_transform(full_data, 'Sale Price')\n",
    "full_data.drop(['PIN', 'Construction Quality', 'Site Desirability', 'Other Improvements', 'Deed No.',\n",
    "                   'Sale Half of Year', 'Sale Quarter of Year', 'Description', 'Modeling Group', 'Unnamed: 0'\n",
    "               ], axis=1, inplace=True)\n",
    "numeric_cols = full_data.select_dtypes(include=['int64', 'float64']).columns.tolist()\n",
    "numeric_ds = full_data[numeric_cols]"
   ]
  },
  {
   "cell_type": "code",
   "execution_count": 353,
   "id": "a8b5c99a-2035-464b-bc3a-c8bbd6ac9058",
   "metadata": {},
   "outputs": [
    {
     "name": "stdout",
     "output_type": "stream",
     "text": [
      "Test RMSE: 398963.6875\n"
     ]
    }
   ],
   "source": [
    "from sklearn.model_selection import train_test_split\n",
    "from sklearn.preprocessing import StandardScaler\n",
    "from tensorflow.keras.models import Sequential\n",
    "from tensorflow.keras.layers import Dense\n",
    "import tensorflow as tf\n",
    "from tensorflow.keras import backend as K\n",
    "from tensorflow.keras.layers import Input, Dense\n",
    "from tensorflow.keras.models import Sequential\n",
    "\n",
    "\n",
    "def rmse_loss(y_true, y_pred):\n",
    "    return K.sqrt(K.mean(K.square(y_pred - y_true)))\n",
    "\n",
    "X = numeric_ds.drop('Sale Price', axis = 1)\n",
    "y = numeric_ds['Sale Price']\n",
    "\n",
    "X_train, X_test, y_train, y_test = train_test_split(X, y, test_size=0.2)\n",
    "\n",
    "scaler = StandardScaler()\n",
    "X_train = scaler.fit_transform(X_train)\n",
    "X_test = scaler.transform(X_test)\n",
    "input_dim = X_train.shape[1]\n",
    "\n",
    "model = Sequential([\n",
    "    Input(shape=(input_dim,)),\n",
    "    Dense(64, activation = 'relu'),\n",
    "    Dense(32, activation = 'relu'),\n",
    "    Dense(1)\n",
    "])\n",
    "\n",
    "model.compile(optimizer = 'adam', loss = rmse_loss, metrics = [tf.keras.metrics.RootMeanSquaredError()])\n",
    "history = model.fit(X_train, y_train, epochs=10, batch_size=32, validation_split=0.2, verbose = 0)\n",
    "\n",
    "# 7. Evaluating the Model\n",
    "loss, rmse = model.evaluate(X_test, y_test, verbose = 0)"
   ]
  },
  {
   "cell_type": "code",
   "execution_count": 351,
   "id": "a7869e4a-24c7-47ac-b126-f21160f75aba",
   "metadata": {
    "collapsed": true,
    "jupyter": {
     "outputs_hidden": true,
     "source_hidden": true
    }
   },
   "outputs": [
    {
     "data": {
      "application/vnd.jupyter.widget-view+json": {
       "model_id": "f1723784dd8e4775b00c693d7340c538",
       "version_major": 2,
       "version_minor": 0
      },
      "text/plain": [
       "Text(value='', description='Property Class:', placeholder='Enter Property Class', style=DescriptionStyle(descr…"
      ]
     },
     "metadata": {},
     "output_type": "display_data"
    },
    {
     "data": {
      "application/vnd.jupyter.widget-view+json": {
       "model_id": "8466a4c291f24506a4130c94c37ebeab",
       "version_major": 2,
       "version_minor": 0
      },
      "text/plain": [
       "Text(value='', description='Neighborhood Code as assigned by Assessment office:', layout=Layout(width='600px')…"
      ]
     },
     "metadata": {},
     "output_type": "display_data"
    },
    {
     "data": {
      "application/vnd.jupyter.widget-view+json": {
       "model_id": "434e43b76f0d42c5b8d3db3e39f7cfac",
       "version_major": 2,
       "version_minor": 0
      },
      "text/plain": [
       "Text(value='', description='Land Square Feet:', placeholder='Enter Land Square Feet', style=DescriptionStyle(d…"
      ]
     },
     "metadata": {},
     "output_type": "display_data"
    },
    {
     "data": {
      "application/vnd.jupyter.widget-view+json": {
       "model_id": "e00cc01cb73f4d83a7c50acdad034dee",
       "version_major": 2,
       "version_minor": 0
      },
      "text/plain": [
       "Text(value='', description='Town Code:', placeholder='Enter Town Code', style=DescriptionStyle(description_wid…"
      ]
     },
     "metadata": {},
     "output_type": "display_data"
    },
    {
     "data": {
      "application/vnd.jupyter.widget-view+json": {
       "model_id": "12775d34fd634949bbf4e7141e4f0e7f",
       "version_major": 2,
       "version_minor": 0
      },
      "text/plain": [
       "Text(value='', description='Number of Apartments:', layout=Layout(width='300px'), placeholder='Enter Apartment…"
      ]
     },
     "metadata": {},
     "output_type": "display_data"
    },
    {
     "data": {
      "application/vnd.jupyter.widget-view+json": {
       "model_id": "6c1734724fd744c2bd47a6e6753fbd61",
       "version_major": 2,
       "version_minor": 0
      },
      "text/plain": [
       "VBox(children=(HTML(value='\\n    <p>\\n    Select Exterior wall material <br>\\n    1 wood <br>\\n    2 masonry <…"
      ]
     },
     "metadata": {},
     "output_type": "display_data"
    },
    {
     "data": {
      "application/vnd.jupyter.widget-view+json": {
       "model_id": "d13dfa86d03f4a849f3cf86aba973642",
       "version_major": 2,
       "version_minor": 0
      },
      "text/plain": [
       "VBox(children=(HTML(value='\\n    <p>\\n    Select Roof material <br>\\n    1 Shingle/Asphalt <br>\\n    2 Tar & G…"
      ]
     },
     "metadata": {},
     "output_type": "display_data"
    },
    {
     "data": {
      "application/vnd.jupyter.widget-view+json": {
       "model_id": "a9ebb3baf204468c8b9eed7194a1b684",
       "version_major": 2,
       "version_minor": 0
      },
      "text/plain": [
       "VBox(children=(HTML(value='\\n    <p>\\n    Select Basement type <br>\\n    1 Full <br>\\n    2 Slab <br>\\n    3 P…"
      ]
     },
     "metadata": {},
     "output_type": "display_data"
    },
    {
     "data": {
      "application/vnd.jupyter.widget-view+json": {
       "model_id": "1331382c6f5a48eca2e46f2f5fad1ee4",
       "version_major": 2,
       "version_minor": 0
      },
      "text/plain": [
       "VBox(children=(HTML(value='\\n    <p>\\n    Select Basement Finish <br>\\n    1 Formal rec room <br>\\n    2 Apart…"
      ]
     },
     "metadata": {},
     "output_type": "display_data"
    },
    {
     "data": {
      "application/vnd.jupyter.widget-view+json": {
       "model_id": "e90bef8d58eb4332b183462f03057734",
       "version_major": 2,
       "version_minor": 0
      },
      "text/plain": [
       "VBox(children=(HTML(value='\\n    <p>\\n    Select Roof material <br>\\n    1 Warm air <br>\\n    2 Hot water stea…"
      ]
     },
     "metadata": {},
     "output_type": "display_data"
    },
    {
     "data": {
      "application/vnd.jupyter.widget-view+json": {
       "model_id": "2e8f2b08e9424048b21296f7a0a21c9e",
       "version_major": 2,
       "version_minor": 0
      },
      "text/plain": [
       "VBox(children=(HTML(value='\\n    <p>\\n    Select Other Heating <br>\\n    1 Floor furnace <br>\\n    2 Unit heat…"
      ]
     },
     "metadata": {},
     "output_type": "display_data"
    },
    {
     "data": {
      "application/vnd.jupyter.widget-view+json": {
       "model_id": "816d2f5604614f06ac7ff7c6d755f43b",
       "version_major": 2,
       "version_minor": 0
      },
      "text/plain": [
       "VBox(children=(HTML(value='\\n    <p>\\n    Is central airconditioning present? <br>\\n    1 Yes <br>\\n    2 No <…"
      ]
     },
     "metadata": {},
     "output_type": "display_data"
    },
    {
     "data": {
      "application/vnd.jupyter.widget-view+json": {
       "model_id": "f2d2dba6761940a286109c88f5ac8883",
       "version_major": 2,
       "version_minor": 0
      },
      "text/plain": [
       "Text(value='', description='Number of Fireplaces:', placeholder='Number of Fireplaces', style=DescriptionStyle…"
      ]
     },
     "metadata": {},
     "output_type": "display_data"
    },
    {
     "data": {
      "application/vnd.jupyter.widget-view+json": {
       "model_id": "b47f8ac5f600470e84c1ca5766707d0f",
       "version_major": 2,
       "version_minor": 0
      },
      "text/plain": [
       "VBox(children=(HTML(value='\\n    <p>\\n    Type of Attic? <br>\\n    1 Full <br>\\n    2 Partial <br>\\n    3 None…"
      ]
     },
     "metadata": {},
     "output_type": "display_data"
    },
    {
     "data": {
      "application/vnd.jupyter.widget-view+json": {
       "model_id": "e32d239f35c7444c97a34186b6f453ab",
       "version_major": 2,
       "version_minor": 0
      },
      "text/plain": [
       "VBox(children=(HTML(value='\\n    <p>\\n    Select Attic Finish <br>\\n    1 Living Area <br>\\n    2 Apartment <b…"
      ]
     },
     "metadata": {},
     "output_type": "display_data"
    },
    {
     "data": {
      "application/vnd.jupyter.widget-view+json": {
       "model_id": "7fcacb3e6a14443e84f31e4e91a94626",
       "version_major": 2,
       "version_minor": 0
      },
      "text/plain": [
       "VBox(children=(HTML(value='\\n    <p>\\n    Select Design Plan <br>\\n    1 Architect <br>\\n    2 Stock Plan <br>…"
      ]
     },
     "metadata": {},
     "output_type": "display_data"
    },
    {
     "data": {
      "application/vnd.jupyter.widget-view+json": {
       "model_id": "048ee19dadd34259badd995c84995b10",
       "version_major": 2,
       "version_minor": 0
      },
      "text/plain": [
       "VBox(children=(HTML(value='\\n    <p>\\n    Cathedral Ceiling? <br>\\n    1 Yes <br>\\n    2 No <br>\\n    </p>'), …"
      ]
     },
     "metadata": {},
     "output_type": "display_data"
    },
    {
     "data": {
      "application/vnd.jupyter.widget-view+json": {
       "model_id": "2bbb8eca400c45e1b33c64a3aeafadec",
       "version_major": 2,
       "version_minor": 0
      },
      "text/plain": [
       "Dropdown(description='How many cars can garage 1 fit?:', options=(0, 1, 1.5, 2, 2.5, 3, 3.5, 4), style=Descrip…"
      ]
     },
     "metadata": {},
     "output_type": "display_data"
    },
    {
     "data": {
      "application/vnd.jupyter.widget-view+json": {
       "model_id": "f616166bb4d84f3c9a890e612c741bef",
       "version_major": 2,
       "version_minor": 0
      },
      "text/plain": [
       "VBox(children=(HTML(value='\\n    <p>\\n    Select Garage 1 Material <br>\\n    1 Frame <br>\\n    2 Masonry <br>\\…"
      ]
     },
     "metadata": {},
     "output_type": "display_data"
    },
    {
     "data": {
      "application/vnd.jupyter.widget-view+json": {
       "model_id": "3f29591eac7d4dcca81cfae3ebcb378b",
       "version_major": 2,
       "version_minor": 0
      },
      "text/plain": [
       "VBox(children=(HTML(value='\\n    <p>\\n    Is Garage 1 Attached? <br>\\n    1 Yes <br>\\n    2 No <br>\\n    </p>'…"
      ]
     },
     "metadata": {},
     "output_type": "display_data"
    },
    {
     "data": {
      "application/vnd.jupyter.widget-view+json": {
       "model_id": "fe12c35f9dd34c2aa99a5cadca5e7418",
       "version_major": 2,
       "version_minor": 0
      },
      "text/plain": [
       "VBox(children=(HTML(value='\\n    <p>\\n    Is Garage 1 physically included within the building area? <br>\\n    …"
      ]
     },
     "metadata": {},
     "output_type": "display_data"
    },
    {
     "data": {
      "application/vnd.jupyter.widget-view+json": {
       "model_id": "7314677603ce44a38a7d88984222decd",
       "version_major": 2,
       "version_minor": 0
      },
      "text/plain": [
       "Dropdown(description='How many cars can garage 2 fit?:', options=(0, 1, 1.5, 2, 2.5, 3, 3.5, 4), style=Descrip…"
      ]
     },
     "metadata": {},
     "output_type": "display_data"
    },
    {
     "data": {
      "application/vnd.jupyter.widget-view+json": {
       "model_id": "cd1c83fd28574d0eb618b33a30031d8f",
       "version_major": 2,
       "version_minor": 0
      },
      "text/plain": [
       "VBox(children=(HTML(value='\\n    <p>\\n    Select Garage 2 Material <br>\\n    1 Frame <br>\\n    2 Masonry <br>\\…"
      ]
     },
     "metadata": {},
     "output_type": "display_data"
    },
    {
     "data": {
      "application/vnd.jupyter.widget-view+json": {
       "model_id": "5cbf5bd6731d498185eb44e75af3a9c7",
       "version_major": 2,
       "version_minor": 0
      },
      "text/plain": [
       "VBox(children=(HTML(value='\\n    <p>\\n    Is Garage 2 Attached? <br>\\n    1 Yes <br>\\n    2 No <br>\\n    </p>'…"
      ]
     },
     "metadata": {},
     "output_type": "display_data"
    },
    {
     "data": {
      "application/vnd.jupyter.widget-view+json": {
       "model_id": "8816d14f7a344838954a255502c4c9f7",
       "version_major": 2,
       "version_minor": 0
      },
      "text/plain": [
       "VBox(children=(HTML(value='\\n    <p>\\n    Is Garage 2 physically included within the building area? <br>\\n    …"
      ]
     },
     "metadata": {},
     "output_type": "display_data"
    },
    {
     "data": {
      "application/vnd.jupyter.widget-view+json": {
       "model_id": "529ec84fd4c7475fab284d0f1ac74272",
       "version_major": 2,
       "version_minor": 0
      },
      "text/plain": [
       "VBox(children=(HTML(value='\\n    <p>\\n    Select the type of Porch <br>\\n    1 Frame <br>\\n    2 Masonry <br>\\…"
      ]
     },
     "metadata": {},
     "output_type": "display_data"
    },
    {
     "data": {
      "application/vnd.jupyter.widget-view+json": {
       "model_id": "667e331c762647668c3019321056d15e",
       "version_major": 2,
       "version_minor": 0
      },
      "text/plain": [
       "Text(value='', description='Building Square Feet:', layout=Layout(width='400px'), placeholder='Enter Building …"
      ]
     },
     "metadata": {},
     "output_type": "display_data"
    },
    {
     "data": {
      "application/vnd.jupyter.widget-view+json": {
       "model_id": "42f79218f80d4059b31457ffb8b87435",
       "version_major": 2,
       "version_minor": 0
      },
      "text/plain": [
       "VBox(children=(HTML(value='\\n    <p>\\n    Select Repair Condition <br>\\n    1 Above Average <br>\\n    2 Averag…"
      ]
     },
     "metadata": {},
     "output_type": "display_data"
    },
    {
     "data": {
      "application/vnd.jupyter.widget-view+json": {
       "model_id": "05051e8d62514dcbb8fac2f7606e485f",
       "version_major": 2,
       "version_minor": 0
      },
      "text/plain": [
       "Dropdown(description='How many buildings exists on the pin?:', options=(1, 2, 3, 4, 5, 6), style=DescriptionSt…"
      ]
     },
     "metadata": {},
     "output_type": "display_data"
    },
    {
     "data": {
      "application/vnd.jupyter.widget-view+json": {
       "model_id": "50b523014cd84c22928fd73d3627e1f1",
       "version_major": 2,
       "version_minor": 0
      },
      "text/plain": [
       "Text(value='', description='Commercial Units:', layout=Layout(width='500px'), placeholder='Enter Number of Com…"
      ]
     },
     "metadata": {},
     "output_type": "display_data"
    },
    {
     "data": {
      "application/vnd.jupyter.widget-view+json": {
       "model_id": "8b93e3b4021942979997dfa67f42fe85",
       "version_major": 2,
       "version_minor": 0
      },
      "text/plain": [
       "Text(value='', description='Board of Review final estimated market value of land from prior tax year:', layout…"
      ]
     },
     "metadata": {},
     "output_type": "display_data"
    },
    {
     "data": {
      "application/vnd.jupyter.widget-view+json": {
       "model_id": "bed0f1e6a2de4497b2402e364064eef4",
       "version_major": 2,
       "version_minor": 0
      },
      "text/plain": [
       "Text(value='', description='Board of Review final estimated market value of building from prior tax year:', la…"
      ]
     },
     "metadata": {},
     "output_type": "display_data"
    },
    {
     "data": {
      "application/vnd.jupyter.widget-view+json": {
       "model_id": "0d41809d9d9347f5975c0d7716c62150",
       "version_major": 2,
       "version_minor": 0
      },
      "text/plain": [
       "Text(value='', description='Longitude:', placeholder='Enter Longitude', style=DescriptionStyle(description_wid…"
      ]
     },
     "metadata": {},
     "output_type": "display_data"
    },
    {
     "data": {
      "application/vnd.jupyter.widget-view+json": {
       "model_id": "a86f699dd83b4d9bb9044387e6bb2b2a",
       "version_major": 2,
       "version_minor": 0
      },
      "text/plain": [
       "Text(value='', description='Latitude:', placeholder='Enter Latitude', style=DescriptionStyle(description_width…"
      ]
     },
     "metadata": {},
     "output_type": "display_data"
    },
    {
     "data": {
      "application/vnd.jupyter.widget-view+json": {
       "model_id": "6f601fffb8d94effb72df5b02e9ca513",
       "version_major": 2,
       "version_minor": 0
      },
      "text/plain": [
       "Text(value='', description='Census Tract Identifier:', layout=Layout(width='400px'), placeholder='Enter Census…"
      ]
     },
     "metadata": {},
     "output_type": "display_data"
    },
    {
     "data": {
      "application/vnd.jupyter.widget-view+json": {
       "model_id": "42f111ee01d74f638b926e3fc995f3cc",
       "version_major": 2,
       "version_minor": 0
      },
      "text/plain": [
       "VBox(children=(HTML(value='\\n    <p>\\n    Property with multiple improvements on one PIN? <br>\\n    e.g. a mai…"
      ]
     },
     "metadata": {},
     "output_type": "display_data"
    },
    {
     "data": {
      "application/vnd.jupyter.widget-view+json": {
       "model_id": "45ae063bf29b4433b5aaa94a8ec60d39",
       "version_major": 2,
       "version_minor": 0
      },
      "text/plain": [
       "Text(value='', description='Age:', placeholder='Enter Age', style=DescriptionStyle(description_width='initial'…"
      ]
     },
     "metadata": {},
     "output_type": "display_data"
    },
    {
     "data": {
      "application/vnd.jupyter.widget-view+json": {
       "model_id": "653ae05a59244d00bc683b884eb2a390",
       "version_major": 2,
       "version_minor": 0
      },
      "text/plain": [
       "VBox(children=(HTML(value='\\n    <p>\\n    Use of property? <br>\\n    1 single family <br>\\n    2 multi-family …"
      ]
     },
     "metadata": {},
     "output_type": "display_data"
    },
    {
     "data": {
      "application/vnd.jupyter.widget-view+json": {
       "model_id": "8e17f94c0e8b4a60a4f8d1812635ff52",
       "version_major": 2,
       "version_minor": 0
      },
      "text/plain": [
       "VBox(children=(HTML(value=\"\\n    <p>\\n    Within 1/4 mile under O'Hare approach flight path? <br>\\n    1 Yes <…"
      ]
     },
     "metadata": {},
     "output_type": "display_data"
    },
    {
     "data": {
      "application/vnd.jupyter.widget-view+json": {
       "model_id": "c22aca6b5c924fb2ae413e97ef012dfc",
       "version_major": 2,
       "version_minor": 0
      },
      "text/plain": [
       "VBox(children=(HTML(value='\\n    <p>\\n    Is the property on a floodplain as defined by FEMA? <br>\\n    1 Yes …"
      ]
     },
     "metadata": {},
     "output_type": "display_data"
    },
    {
     "data": {
      "application/vnd.jupyter.widget-view+json": {
       "model_id": "13b7bcb01e584a6b882be55fa9828ff9",
       "version_major": 2,
       "version_minor": 0
      },
      "text/plain": [
       "VBox(children=(HTML(value='\\n    <p>\\n    Within 300 ft of a major road? <br>\\n    1 Yes <br>\\n    2 No <br>\\n…"
      ]
     },
     "metadata": {},
     "output_type": "display_data"
    },
    {
     "data": {
      "application/vnd.jupyter.widget-view+json": {
       "model_id": "efdb8c5476db4b128a4764e0511253ca",
       "version_major": 2,
       "version_minor": 0
      },
      "text/plain": [
       "Text(value='', description='Year of sale:', placeholder='Enter Sale Year', style=DescriptionStyle(description_…"
      ]
     },
     "metadata": {},
     "output_type": "display_data"
    },
    {
     "data": {
      "application/vnd.jupyter.widget-view+json": {
       "model_id": "6f59d0cdefea4511a7d156dd8f715831",
       "version_major": 2,
       "version_minor": 0
      },
      "text/plain": [
       "Text(value='', description='Quarter of Sale:', placeholder='Enter Quarter of Sale', style=DescriptionStyle(des…"
      ]
     },
     "metadata": {},
     "output_type": "display_data"
    },
    {
     "data": {
      "application/vnd.jupyter.widget-view+json": {
       "model_id": "0a8cb8f7a6d94e79bd476c37fc036fb1",
       "version_major": 2,
       "version_minor": 0
      },
      "text/plain": [
       "Text(value='', description='Half-year of sale:', placeholder='Enter Half-year of Sale', style=DescriptionStyle…"
      ]
     },
     "metadata": {},
     "output_type": "display_data"
    },
    {
     "data": {
      "application/vnd.jupyter.widget-view+json": {
       "model_id": "3c78eb8cb87f424ead9146f7c5934777",
       "version_major": 2,
       "version_minor": 0
      },
      "text/plain": [
       "Text(value='', description='Sale Month:', placeholder='Enter Month of Sale', style=DescriptionStyle(descriptio…"
      ]
     },
     "metadata": {},
     "output_type": "display_data"
    },
    {
     "data": {
      "application/vnd.jupyter.widget-view+json": {
       "model_id": "7b543c6d039745c69e338d258eb3c001",
       "version_major": 2,
       "version_minor": 0
      },
      "text/plain": [
       "VBox(children=(HTML(value='\\n    <p>\\n    Is this the most recent sale of the property <br>\\n    1 Yes <br>\\n …"
      ]
     },
     "metadata": {},
     "output_type": "display_data"
    },
    {
     "data": {
      "application/vnd.jupyter.widget-view+json": {
       "model_id": "e182262cd6c247cb85ac3c0e564166a2",
       "version_major": 2,
       "version_minor": 0
      },
      "text/plain": [
       "Text(value='', description='Age in Decades:', placeholder='Enter Age in Decades', style=DescriptionStyle(descr…"
      ]
     },
     "metadata": {},
     "output_type": "display_data"
    },
    {
     "data": {
      "application/vnd.jupyter.widget-view+json": {
       "model_id": "b97612742097416d854a212169deccca",
       "version_major": 2,
       "version_minor": 0
      },
      "text/plain": [
       "VBox(children=(HTML(value='\\n    <p>\\n    Is this a pure market sale? <br>\\n    1 Yes <br>\\n    2 No <br>\\n   …"
      ]
     },
     "metadata": {},
     "output_type": "display_data"
    },
    {
     "data": {
      "application/vnd.jupyter.widget-view+json": {
       "model_id": "83f066ea92d74c39b06cb32c2a3a991e",
       "version_major": 2,
       "version_minor": 0
      },
      "text/plain": [
       "VBox(children=(HTML(value='\\n    <p>\\n    Is there a garage? <br>\\n    1 Yes <br>\\n    2 No <br>\\n    </p>'), …"
      ]
     },
     "metadata": {},
     "output_type": "display_data"
    },
    {
     "data": {
      "application/vnd.jupyter.widget-view+json": {
       "model_id": "3958a20d674c4397b70efeda73f271ab",
       "version_major": 2,
       "version_minor": 0
      },
      "text/plain": [
       "Text(value='', description='Unmodified neighborhood code for mapping:', layout=Layout(width='500px'), placehol…"
      ]
     },
     "metadata": {},
     "output_type": "display_data"
    },
    {
     "data": {
      "application/vnd.jupyter.widget-view+json": {
       "model_id": "cb4209a883e943a0b9d2b05fa3615764",
       "version_major": 2,
       "version_minor": 0
      },
      "text/plain": [
       "Text(value='', description='Combination of town and neighborhood:', layout=Layout(width='550px'), placeholder=…"
      ]
     },
     "metadata": {},
     "output_type": "display_data"
    },
    {
     "data": {
      "application/vnd.jupyter.widget-view+json": {
       "model_id": "7b9430c898714abba6dc9fb62e78eb8e",
       "version_major": 2,
       "version_minor": 0
      },
      "text/plain": [
       "Text(value='', description='Lot Size:', placeholder='Enter Lot Size', style=DescriptionStyle(description_width…"
      ]
     },
     "metadata": {},
     "output_type": "display_data"
    },
    {
     "data": {
      "application/vnd.jupyter.widget-view+json": {
       "model_id": "dccb1569b51a49e7a6fb8da09e63caab",
       "version_major": 2,
       "version_minor": 0
      },
      "text/plain": [
       "Button(button_style='success', description='Submit', style=ButtonStyle())"
      ]
     },
     "metadata": {},
     "output_type": "display_data"
    },
    {
     "data": {
      "application/vnd.jupyter.widget-view+json": {
       "model_id": "1c000e27f55c4bdaa73f9ea7feb3929e",
       "version_major": 2,
       "version_minor": 0
      },
      "text/plain": [
       "Output()"
      ]
     },
     "metadata": {},
     "output_type": "display_data"
    }
   ],
   "source": [
    "import ipywidgets as widgets\n",
    "# Define text box widgets for user input.\n",
    "# For example, assume your model needs three features: 'feature1', 'feature2', 'feature3'\n",
    "property_class = widgets.Text(\n",
    "    value='',\n",
    "    placeholder='Enter Property Class',\n",
    "    description='Property Class:',\n",
    "    style={'description_width': 'initial'},\n",
    "    disabled=False\n",
    ")\n",
    "neighborhood_code = widgets.Text(\n",
    "    value='',\n",
    "    placeholder='Enter Neighborhood Code',\n",
    "    description='Neighborhood Code as assigned by Assessment office:',\n",
    "    style={'description_width': 'initial'},\n",
    "    layout=widgets.Layout(width='600px'),\n",
    "    disabled=False\n",
    ")\n",
    "land_square_feet = widgets.Text(\n",
    "    value='',\n",
    "    placeholder='Enter Land Square Feet',\n",
    "    description='Land Square Feet:',\n",
    "    style={'description_width': 'initial'},\n",
    "    disabled=False\n",
    ")\n",
    "\n",
    "town_code = widgets.Text(\n",
    "    value='',\n",
    "    placeholder='Enter Town Code',\n",
    "    description='Town Code:',\n",
    "    style={'description_width': 'initial'},\n",
    "    disabled=False\n",
    ")\n",
    "\n",
    "apartments = widgets.Text(\n",
    "    value='',\n",
    "    placeholder='Enter Apartments',\n",
    "    description='Number of Apartments:',\n",
    "    style={'description_width': 'initial'},\n",
    "    layout=widgets.Layout(width='300px'),\n",
    "    disabled=False\n",
    ")\n",
    "\n",
    "wall_mat_html = widgets.HTML(\n",
    "    value = \"\"\"\n",
    "    <p>\n",
    "    Select Exterior wall material <br>\n",
    "    1 wood <br>\n",
    "    2 masonry <br>\n",
    "    3 wood & masonry <br>\n",
    "    4 stucco\n",
    "    </p>\"\"\"\n",
    ")\n",
    "\n",
    "wall_mat = widgets.Dropdown(\n",
    "    options=[1, 2, 3, 4],\n",
    "    description = \"Choice:\",\n",
    "    style={'description_width': 'initial'},\n",
    "    disabled = False,\n",
    ")\n",
    "\n",
    "\n",
    "roof_mat_html = widgets.HTML(\n",
    "    value = \"\"\"\n",
    "    <p>\n",
    "    Select Roof material <br>\n",
    "    1 Shingle/Asphalt <br>\n",
    "    2 Tar & Gravel <br>\n",
    "    3 Slate <br>\n",
    "    4 Shake <br>\n",
    "    5 Tile <br>\n",
    "    6 Other\n",
    "    </p>\"\"\"\n",
    ")\n",
    "\n",
    "roof_mat = widgets.Dropdown(\n",
    "    options=[1, 2, 3, 4, 5, 6],\n",
    "    description = \"Choice:\",\n",
    "    style={'description_width': 'initial'},\n",
    "    disabled = False,\n",
    ")\n",
    "\n",
    "basement_html = widgets.HTML(\n",
    "    value = \"\"\"\n",
    "    <p>\n",
    "    Select Basement type <br>\n",
    "    1 Full <br>\n",
    "    2 Slab <br>\n",
    "    3 Partial <br>\n",
    "    4 Crawl <br>\n",
    "    </p>\"\"\"\n",
    ")\n",
    "\n",
    "basement = widgets.Dropdown(\n",
    "    options=[1, 2, 3, 4],\n",
    "    description = \"Choice:\",\n",
    "    style={'description_width': 'initial'},\n",
    "    disabled = False,\n",
    ")\n",
    "\n",
    "basement_finish_html = widgets.HTML(\n",
    "    value = \"\"\"\n",
    "    <p>\n",
    "    Select Basement Finish <br>\n",
    "    1 Formal rec room <br>\n",
    "    2 Apartment <br>\n",
    "    3 Unfinished <br>\n",
    "    </p>\"\"\"\n",
    ")\n",
    "\n",
    "basement_finish = widgets.Dropdown(\n",
    "    options=[1, 2, 3],\n",
    "    description = \"Choice:\",\n",
    "    style={'description_width': 'initial'},\n",
    "    disabled = False,\n",
    ")\n",
    "\n",
    "central_heat_html = widgets.HTML(\n",
    "    value = \"\"\"\n",
    "    <p>\n",
    "    Select Roof material <br>\n",
    "    1 Warm air <br>\n",
    "    2 Hot water steam <br>\n",
    "    3 Electric <br>\n",
    "    4 Other <br>\n",
    "    </p>\"\"\"\n",
    ")\n",
    "\n",
    "central_heat = widgets.Dropdown(\n",
    "    options=[1, 2, 3, 4],\n",
    "    description = \"Choice:\",\n",
    "    style={'description_width': 'initial'},\n",
    "    disabled = False,\n",
    ")\n",
    "\n",
    "other_heat_html = widgets.HTML(\n",
    "    value = \"\"\"\n",
    "    <p>\n",
    "    Select Other Heating <br>\n",
    "    1 Floor furnace <br>\n",
    "    2 Unit heater <br>\n",
    "    3 Stove <br>\n",
    "    4 Solar <br>\n",
    "    5 None <br>\n",
    "    </p>\"\"\"\n",
    ")\n",
    "\n",
    "other_heat = widgets.Dropdown(\n",
    "    options=[1, 2, 3, 4, 5],\n",
    "    description = \"Choice:\",\n",
    "    style={'description_width': 'initial'},\n",
    "    disabled = False,\n",
    ")\n",
    "\n",
    "\n",
    "central_air_html = widgets.HTML(\n",
    "    value = \"\"\"\n",
    "    <p>\n",
    "    Is central airconditioning present? <br>\n",
    "    1 Yes <br>\n",
    "    2 No <br>\n",
    "    </p>\"\"\"\n",
    ")\n",
    "\n",
    "central_air = widgets.Dropdown(\n",
    "    options=[1, 2],\n",
    "    description = \"Choice:\",\n",
    "    style={'description_width': 'initial'},\n",
    "    disabled = False,\n",
    ")\n",
    "\n",
    "fireplaces = widgets.Text(\n",
    "    value='',\n",
    "    placeholder='Number of Fireplaces',\n",
    "    description='Number of Fireplaces:',\n",
    "    style={'description_width': 'initial'},\n",
    "    disabled=False\n",
    ")\n",
    "\n",
    "attic_type_html = widgets.HTML(\n",
    "    value = \"\"\"\n",
    "    <p>\n",
    "    Type of Attic? <br>\n",
    "    1 Full <br>\n",
    "    2 Partial <br>\n",
    "    3 None <br>\n",
    "    </p>\"\"\"\n",
    ")\n",
    "\n",
    "attic_type = widgets.Dropdown(\n",
    "    options=[1, 2, 3],\n",
    "    description = \"Choice:\",\n",
    "    style={'description_width': 'initial'},\n",
    "    disabled = False,\n",
    ")\n",
    "\n",
    "attic_finish_html = widgets.HTML(\n",
    "    value = \"\"\"\n",
    "    <p>\n",
    "    Select Attic Finish <br>\n",
    "    1 Living Area <br>\n",
    "    2 Apartment <br>\n",
    "    3 Unfinished <br>\n",
    "    </p>\"\"\"\n",
    ")\n",
    "\n",
    "attic_finish = widgets.Dropdown(\n",
    "    options=[1, 2, 3],\n",
    "    description = \"Choice:\",\n",
    "    style={'description_width': 'initial'},\n",
    "    disabled = False,\n",
    ")\n",
    "\n",
    "design_plan_html = widgets.HTML(\n",
    "    value = \"\"\"\n",
    "    <p>\n",
    "    Select Design Plan <br>\n",
    "    1 Architect <br>\n",
    "    2 Stock Plan <br>\n",
    "    </p>\"\"\"\n",
    ")\n",
    "\n",
    "design_plan = widgets.Dropdown(\n",
    "    options=[1, 2],\n",
    "    description = \"Choice:\",\n",
    "    style={'description_width': 'initial'},\n",
    "    disabled = False,\n",
    ")\n",
    "\n",
    "cathedral_ceiling_html = widgets.HTML(\n",
    "    value = \"\"\"\n",
    "    <p>\n",
    "    Cathedral Ceiling? <br>\n",
    "    1 Yes <br>\n",
    "    2 No <br>\n",
    "    </p>\"\"\"\n",
    ")\n",
    "\n",
    "cathedral_ceiling = widgets.Dropdown(\n",
    "    options=[1, 2],\n",
    "    description = \"Choice:\",\n",
    "    style={'description_width': 'initial'},\n",
    "    disabled = False,\n",
    ")\n",
    "\n",
    "garage1_size = widgets.Dropdown(\n",
    "    options=[0, 1, 1.5, 2, 2.5, 3, 3.5, 4],\n",
    "    description = \"How many cars can garage 1 fit?:\",\n",
    "    style={'description_width': 'initial'},\n",
    "    disabled = False,\n",
    ")\n",
    "\n",
    "garage1_mat_html = widgets.HTML(\n",
    "    value = \"\"\"\n",
    "    <p>\n",
    "    Select Garage 1 Material <br>\n",
    "    1 Frame <br>\n",
    "    2 Masonry <br>\n",
    "    3 Frame/Masony <br>\n",
    "    4 Stucco <br>\n",
    "    </p>\"\"\"\n",
    ")\n",
    "\n",
    "garage1_mat = widgets.Dropdown(\n",
    "    options=[1, 2, 3, 4],\n",
    "    description = \"Choice:\",\n",
    "    style={'description_width': 'initial'},\n",
    "    disabled = False,\n",
    ")\n",
    "\n",
    "garage1_attach_html = widgets.HTML(\n",
    "    value = \"\"\"\n",
    "    <p>\n",
    "    Is Garage 1 Attached? <br>\n",
    "    1 Yes <br>\n",
    "    2 No <br>\n",
    "    </p>\"\"\"\n",
    ")\n",
    "\n",
    "\n",
    "garage1_attach = widgets.Dropdown(\n",
    "    options=[1, 2],\n",
    "    description = \"Choice:\",\n",
    "    style={'description_width': 'initial'},\n",
    "    disabled = False,\n",
    ")\n",
    "\n",
    "garage1_area_html = widgets.HTML(\n",
    "    value = \"\"\"\n",
    "    <p>\n",
    "    Is Garage 1 physically included within the building area? <br>\n",
    "    1 Yes <br>\n",
    "    2 No <br>\n",
    "    </p>\"\"\"\n",
    ")\n",
    "\n",
    "garage1_area = widgets.Dropdown(\n",
    "    options=[1, 2],\n",
    "    description = \"Choice:\",\n",
    "    style={'description_width': 'initial'},\n",
    "    disabled = False,\n",
    ")\n",
    "\n",
    "garage2_size = widgets.Dropdown(\n",
    "    options=[0, 1, 1.5, 2, 2.5, 3, 3.5, 4],\n",
    "    description = \"How many cars can garage 2 fit?:\",\n",
    "    style={'description_width': 'initial'},\n",
    "    disabled = False,\n",
    ")\n",
    "\n",
    "garage2_mat_html = widgets.HTML(\n",
    "    value = \"\"\"\n",
    "    <p>\n",
    "    Select Garage 2 Material <br>\n",
    "    1 Frame <br>\n",
    "    2 Masonry <br>\n",
    "    3 Frame/Masony <br>\n",
    "    4 Stucco <br>\n",
    "    </p>\"\"\"\n",
    ")\n",
    "\n",
    "garage2_mat = widgets.Dropdown(\n",
    "    options=[1, 2, 3, 4],\n",
    "    description = \"Choice:\",\n",
    "    style={'description_width': 'initial'},\n",
    "    disabled = False,\n",
    ")\n",
    "\n",
    "garage2_attach_html = widgets.HTML(\n",
    "    value = \"\"\"\n",
    "    <p>\n",
    "    Is Garage 2 Attached? <br>\n",
    "    1 Yes <br>\n",
    "    2 No <br>\n",
    "    </p>\"\"\"\n",
    ")\n",
    "\n",
    "garage2_attach = widgets.Dropdown(\n",
    "    options=[1, 2],\n",
    "    description = \"Choice:\",\n",
    "    style={'description_width': 'initial'},\n",
    "    disabled = False,\n",
    ")\n",
    "\n",
    "garage2_area_html = widgets.HTML(\n",
    "    value = \"\"\"\n",
    "    <p>\n",
    "    Is Garage 2 physically included within the building area? <br>\n",
    "    1 Yes <br>\n",
    "    2 No <br>\n",
    "    </p>\"\"\"\n",
    ")\n",
    "\n",
    "garage2_area = widgets.Dropdown(\n",
    "    options=[1, 2],\n",
    "    description = \"Choice:\",\n",
    "    style={'description_width': 'initial'},\n",
    "    disabled = False,\n",
    ")\n",
    "\n",
    "porch_html = widgets.HTML(\n",
    "    value = \"\"\"\n",
    "    <p>\n",
    "    Select the type of Porch <br>\n",
    "    1 Frame <br>\n",
    "    2 Masonry <br>\n",
    "    3 None <br>\n",
    "    </p>\"\"\"\n",
    ")\n",
    "\n",
    "porch = widgets.Dropdown(\n",
    "    options=[1, 2, 3],\n",
    "    description = \"Choice:\",\n",
    "    style={'description_width': 'initial'},\n",
    "    disabled = False,\n",
    ")\n",
    "\n",
    "building_square_feet = widgets.Text(\n",
    "    value='',\n",
    "    placeholder='Enter Building Square Feet',\n",
    "    description='Building Square Feet:',\n",
    "    style={'description_width': 'initial'},\n",
    "    layout=widgets.Layout(width='400px'),\n",
    "    disabled=False\n",
    ")\n",
    "\n",
    "repair_cond_html = widgets.HTML(\n",
    "    value = \"\"\"\n",
    "    <p>\n",
    "    Select Repair Condition <br>\n",
    "    1 Above Average <br>\n",
    "    2 Average <br>\n",
    "    3 Below Average <br>\n",
    "    </p>\"\"\"\n",
    ")\n",
    "\n",
    "repair_cond = widgets.Dropdown(\n",
    "    options=[1, 2, 3],\n",
    "    description = \"Choice:\",\n",
    "    style={'description_width': 'initial'},\n",
    "    disabled = False,\n",
    ")\n",
    "\n",
    "multi_code = widgets.Dropdown(\n",
    "    options=[1, 2, 3, 4, 5, 6],\n",
    "    description = \"How many buildings exists on the pin?:\",\n",
    "    style={'description_width': 'initial'},\n",
    "    disabled = False,\n",
    ")\n",
    "\n",
    "comm_units = widgets.Text(\n",
    "    value='',\n",
    "    placeholder='Enter Number of Commercial Units',\n",
    "    description='Commercial Units:',\n",
    "    style = {'description_width':'initial'},\n",
    "    layout=widgets.Layout(width='500px'),\n",
    "    disabled=False\n",
    ")\n",
    "\n",
    "land_est = widgets.Text(\n",
    "    value='',\n",
    "    placeholder='Enter Estimate (Land)',\n",
    "    description='Board of Review final estimated market value of land from prior tax year:',\n",
    "    style = {'description_width':'initial'},\n",
    "    layout=widgets.Layout(width='600px'),\n",
    "    disabled=False\n",
    ")\n",
    "\n",
    "building_est = widgets.Text(\n",
    "    value='',\n",
    "    placeholder='Enter Estimate (Building)',\n",
    "    description='Board of Review final estimated market value of building from prior tax year:',\n",
    "    style = {'description_width':'initial'},\n",
    "    layout=widgets.Layout(width='650px'),\n",
    "    disabled=False\n",
    ")\n",
    "\n",
    "longitude = widgets.Text(\n",
    "    value='',\n",
    "    placeholder='Enter Longitude',\n",
    "    description='Longitude:',\n",
    "    style = {'description_width':'initial'},\n",
    "    disabled=False\n",
    ")\n",
    "\n",
    "latitude = widgets.Text(\n",
    "    value='',\n",
    "    placeholder='Enter Latitude',\n",
    "    description='Latitude:',\n",
    "    style = {'description_width':'initial'},\n",
    "    disabled=False\n",
    ")\n",
    "\n",
    "census_tract = widgets.Text(\n",
    "    value='',\n",
    "    placeholder='Enter Census Tract Identifier',\n",
    "    description='Census Tract Identifier:',\n",
    "    style = {'description_width':'initial'},\n",
    "    layout=widgets.Layout(width='400px'),\n",
    "    disabled=False\n",
    ")\n",
    "\n",
    "multi_prop_ind_html = widgets.HTML(\n",
    "    value = \"\"\"\n",
    "    <p>\n",
    "    Property with multiple improvements on one PIN? <br>\n",
    "    e.g. a main house and a couch house, not to be confused with <br>\n",
    "    property which was part of a multi-pin sale <br>\n",
    "    1 Yes <br>\n",
    "    2 No <br>\n",
    "    </p>\"\"\"\n",
    ")\n",
    "\n",
    "multi_prop_ind = widgets.Dropdown(\n",
    "    options=[1, 2],\n",
    "    description = \"Choice:\",\n",
    "    style={'description_width': 'initial'},\n",
    "    disabled = False,\n",
    ")\n",
    "\n",
    "age = widgets.Text(\n",
    "    value='',\n",
    "    placeholder='Enter Age',\n",
    "    description='Age:',\n",
    "    style = {'description_width':'initial'},\n",
    "    disabled=False\n",
    ")\n",
    "\n",
    "use_html = widgets.HTML(\n",
    "    value = \"\"\"\n",
    "    <p>\n",
    "    Use of property? <br>\n",
    "    1 single family <br>\n",
    "    2 multi-family <br>\n",
    "    </p>\"\"\"\n",
    ")\n",
    "\n",
    "use = widgets.Dropdown(\n",
    "    options=[1, 2],\n",
    "    description = \"Choice:\",\n",
    "    style={'description_width': 'initial'},\n",
    "    disabled = False,\n",
    ")\n",
    "\n",
    "noise_html = widgets.HTML(\n",
    "    value = \"\"\"\n",
    "    <p>\n",
    "    Within 1/4 mile under O'Hare approach flight path? <br>\n",
    "    1 Yes <br>\n",
    "    2 No <br>\n",
    "    </p>\"\"\"\n",
    ")\n",
    "\n",
    "noise = widgets.Dropdown(\n",
    "    options=[1, 2],\n",
    "    description = \"Choice:\",\n",
    "    style={'description_width': 'initial'},\n",
    "    disabled = False,\n",
    ")\n",
    "\n",
    "flood_html = widgets.HTML(\n",
    "    value = \"\"\"\n",
    "    <p>\n",
    "    Is the property on a floodplain as defined by FEMA? <br>\n",
    "    1 Yes <br>\n",
    "    2 No <br>\n",
    "    </p>\"\"\"\n",
    ")\n",
    "\n",
    "flood = widgets.Dropdown(\n",
    "    options=[1, 2],\n",
    "    description = \"Choice:\",\n",
    "    style={'description_width': 'initial'},\n",
    "    disabled = False,\n",
    ")\n",
    "\n",
    "road_proximity_html = widgets.HTML(\n",
    "    value = \"\"\"\n",
    "    <p>\n",
    "    Within 300 ft of a major road? <br>\n",
    "    1 Yes <br>\n",
    "    2 No <br>\n",
    "    </p>\"\"\"\n",
    ")\n",
    "\n",
    "road_proximity = widgets.Dropdown(\n",
    "    options=[1, 2],\n",
    "    description = \"Choice:\",\n",
    "    style={'description_width': 'initial'},\n",
    "    disabled = False,\n",
    ")\n",
    "\n",
    "sale_year = widgets.Text(\n",
    "    value='',\n",
    "    placeholder='Enter Sale Year',\n",
    "    description='Year of sale:',\n",
    "    style = {'description_width':'initial'},\n",
    "    disabled=False\n",
    ")\n",
    "\n",
    "sale_quarter = widgets.Text(\n",
    "    value='',\n",
    "    placeholder='Enter Quarter of Sale',\n",
    "    description='Quarter of Sale:',\n",
    "    style = {'description_width':'initial'},\n",
    "    disabled=False\n",
    ")\n",
    "\n",
    "sale_half_year = widgets.Text(\n",
    "    value='',\n",
    "    placeholder='Enter Half-year of Sale',\n",
    "    description='Half-year of sale:',\n",
    "    style = {'description_width':'initial'},\n",
    "    disabled=False\n",
    ")\n",
    "\n",
    "sale_month = widgets.Text(\n",
    "    value='',\n",
    "    placeholder='Enter Month of Sale',\n",
    "    description='Sale Month:',\n",
    "    style = {'description_width':'initial'},\n",
    "    disabled=False\n",
    ")\n",
    "\n",
    "recent_html = widgets.HTML(\n",
    "    value = \"\"\"\n",
    "    <p>\n",
    "    Is this the most recent sale of the property <br>\n",
    "    1 Yes <br>\n",
    "    2 No <br>\n",
    "    </p>\"\"\"\n",
    ")\n",
    "\n",
    "recent = widgets.Dropdown(\n",
    "    options=[1, 2],\n",
    "    description = \"Choice:\",\n",
    "    style={'description_width': 'initial'},\n",
    "    disabled = False,\n",
    ")\n",
    "\n",
    "age_decade = widgets.Text(\n",
    "    value='',\n",
    "    placeholder='Enter Age in Decades',\n",
    "    description='Age in Decades:',\n",
    "    style = {'description_width':'initial'},\n",
    "    disabled=False\n",
    ")\n",
    "\n",
    "pure_market_html = widgets.HTML(\n",
    "    value = \"\"\"\n",
    "    <p>\n",
    "    Is this a pure market sale? <br>\n",
    "    1 Yes <br>\n",
    "    2 No <br>\n",
    "    </p>\"\"\"\n",
    ")\n",
    "\n",
    "pure_market = widgets.Dropdown(\n",
    "    options=[1, 2],\n",
    "    description = \"Choice:\",\n",
    "    style={'description_width': 'initial'},\n",
    "    disabled = False,\n",
    ")\n",
    "\n",
    "garage_indicator_html = widgets.HTML(\n",
    "    value = \"\"\"\n",
    "    <p>\n",
    "    Is there a garage? <br>\n",
    "    1 Yes <br>\n",
    "    2 No <br>\n",
    "    </p>\"\"\"\n",
    ")\n",
    "\n",
    "garage_indicator = widgets.Dropdown(\n",
    "    options=[1, 2],\n",
    "    description = \"Choice:\",\n",
    "    style={'description_width': 'initial'},\n",
    "    disabled = False,\n",
    ")\n",
    "\n",
    "neighborhood_code_unmod = widgets.Text(\n",
    "    value='',\n",
    "    placeholder='Enter Neighborhood Code',\n",
    "    description='Unmodified neighborhood code for mapping:',\n",
    "    style = {'description_width':'initial'},\n",
    "    layout=widgets.Layout(width='500px'),\n",
    "    disabled=False\n",
    ")\n",
    "\n",
    "town_and_neighborhood = widgets.Text(\n",
    "    value='',\n",
    "    placeholder='Enter Combination of Town and Neighborhood',\n",
    "    description='Combination of town and neighborhood:',\n",
    "    style = {'description_width':'initial'},\n",
    "    layout=widgets.Layout(width='550px'),\n",
    "    disabled=False\n",
    ")\n",
    "\n",
    "lot_size = widgets.Text(\n",
    "    value='',\n",
    "    placeholder='Enter Lot Size',\n",
    "    description='Lot Size:',\n",
    "    style = {'description_width':'initial'},\n",
    "    disabled=False\n",
    ")\n",
    "\n",
    "# Create a submit button.\n",
    "submit_button = widgets.Button(\n",
    "    description='Submit',\n",
    "    button_style='success'\n",
    ")\n",
    "\n",
    "# Output widget to display results.\n",
    "output = widgets.Output()\n",
    "\n",
    "# Define the callback function for the button click.\n",
    "def on_submit_clicked(b):\n",
    "    with output:\n",
    "        clear_output()  # Clear previous output\n",
    "        \n",
    "        # Read values from text boxes. You might need to convert them to appropriate types.\n",
    "        try:\n",
    "            # Convert text inputs to float or int if necessary.\n",
    "            f1 = float(property_class.value)\n",
    "            f2 = float(neighborhood_code.value)\n",
    "            f3 = float(land_square_feet.value)\n",
    "            f4 = float(town_code.value)\n",
    "            f5 = float(apartments.value)\n",
    "            f6 = float(wall_mat.value)\n",
    "            f7 = float(roof_mat.value)\n",
    "            f8 = float(basement.value)\n",
    "            f9 = float(basement_finish.value)\n",
    "            f10 = float(central_heat.value)\n",
    "            f11 = float(other_heat.value)\n",
    "            f12 = float(central_air.value)\n",
    "            f13 = float(fireplaces.value)\n",
    "            f14 = float(attic_type.value)\n",
    "            f15 = float(attic_finish.value)\n",
    "            f16 = float(design_plan.value)\n",
    "            f17 = float(cathedral_ceiling.value)\n",
    "            f18 = float(garage1_size.value)\n",
    "            f19 = float(garage1_mat.value)\n",
    "            f20 = float(garage1_attach.value)\n",
    "            f21 = float(garage1_area.value)\n",
    "            f22 = float(garage2_size.value)\n",
    "            f23 = float(garage2_mat.value)\n",
    "            f24 = float(garage2_attach.value)\n",
    "            f25 = float(garage2_area.value)\n",
    "            f26 = float(porch.value)\n",
    "            f27 = float(building_square_feet.value)\n",
    "            f28 = float(repair_cond.value)\n",
    "            f29 = float(multi_code.value + 1)\n",
    "            f30 = float(comm_units.value)\n",
    "            f31 = float(land_est.value)\n",
    "            f32 = float(building_est.value)\n",
    "            f33 = float(longitude.value)\n",
    "            f34 = float(latitude.value)\n",
    "            f35 = float(census_tract.value)\n",
    "            f36 = float(multi_prop_ind.value)\n",
    "            f37 = float(age.value)\n",
    "            f38 = float(use.value)\n",
    "            f39 = float(noise.value)\n",
    "            f40 = float(flood.value)\n",
    "            f41 = float(road_proximity.value)\n",
    "            f42 = float(sale_year.value)\n",
    "            f43 = float(sale_quarter.value)\n",
    "            f44 = float(sale_half_year.value)\n",
    "            f45 = float(sale_month.value)\n",
    "            f46 = float(recent.value)\n",
    "            f47 = float(age_decade.value)\n",
    "            f48 = float(pure_market.value)\n",
    "            f49 = float(garage_indicator.value)\n",
    "            f50 = float(neighborhood_code_unmod.value)\n",
    "            f51 = float(town_and_neighborhood.value)\n",
    "            f52 = float(lot_size.value)\n",
    "        except ValueError:\n",
    "            print(\"Please ensure all inputs are numeric.\")\n",
    "            return\n",
    "        \n",
    "        # Create a new DataFrame with the input values.\n",
    "        new_data = pd.DataFrame([[f1, f2, f3, f4, f5, f6, f7, f8, f9, f10, f11, f12,\n",
    "                                  f13, f14, f15, f16, f17, f18, f19, f20, f21, f22, f23,\n",
    "                                  f24, f25, f26, f27, f28, f29, f30, f31, f32, f33, f34,\n",
    "                                  f35, f36, f37, f38, f39, f40, f41, f42, f43, f44, f45, \n",
    "                                  f46, f47, f48, f49, f50, f51, f52\n",
    "                                 ]], \n",
    "                                columns=['Property_Class', 'Neighborhood_Code', 'Land_Square_Feet', 'Town_Code',\n",
    "       'Apartments', 'Wall_Material', 'Roof_Material', 'Basement',\n",
    "       'Basement_Finish', 'Central_Heating', 'Other_Heating', 'Central_Air',\n",
    "       'Fireplaces', 'Attic_Type', 'Attic_Finish', 'Design_Plan',\n",
    "       'Cathedral_Ceiling', 'Garage_1_Size', 'Garage_1_Material',\n",
    "       'Garage_1_Attachment', 'Garage_1_Area', 'Garage_2_Size',\n",
    "       'Garage_2_Material', 'Garage_2_Attachment', 'Garage_2_Area', 'Porch',\n",
    "       'Building_Square_Feet', 'Repair_Condition', 'Multi_Code',\n",
    "       'Number_of_Commercial_Units', 'Estimate_Land', 'Estimate_Building',\n",
    "       'Longitude', 'Latitude', 'Census_Tract',\n",
    "       'Multi_Property_Indicator', 'Age', 'Use', \"O'Hare_Noise\", 'Floodplain',\n",
    "       'Road_Proximity', 'Sale_Year', 'Sale_Quarter', 'Sale_Half_Year',\n",
    "       'Sale_Month_of_Year', 'Most_Recent_Sale', 'Age_Decade',\n",
    "       'Pure_Market_Filter', 'Garage_Indicator', 'Neigborhood_Code_mapping',\n",
    "       'Town_and_Neighborhood', 'Lot_Size'])\n",
    "        print(\"New input data:\")\n",
    "        display(new_data)\n",
    "        \n",
    "        # Optionally, preprocess new_data if your model requires scaling/encoding.\n",
    "        \n",
    "        # Use the model to make a prediction.\n",
    "        new_ds = tfdf.keras.pd_dataframe_to_tf_dataset(new_data, task = tfdf.keras.Task.REGRESSION)\n",
    "        prediction = model.predict(new_ds)\n",
    "        \n",
    "        # Display the prediction result.\n",
    "        print(\"Model Prediction:\", prediction[0])\n",
    "\n",
    "# Link the button click event to the callback.\n",
    "submit_button.on_click(on_submit_clicked)\n",
    "\n",
    "# Display all the widgets together.\n",
    "display(property_class, neighborhood_code, land_square_feet,town_code, apartments, \n",
    "        widgets.VBox([wall_mat_html, wall_mat]), widgets.VBox([roof_mat_html, roof_mat]), \n",
    "        widgets.VBox([basement_html, basement]), widgets.VBox([basement_finish_html, basement_finish]),\n",
    "        widgets.VBox([central_heat_html, central_heat]), widgets.VBox([other_heat_html, other_heat]),\n",
    "        widgets.VBox([central_air_html, central_air]), fireplaces, widgets.VBox([attic_type_html, attic_type]),\n",
    "        widgets.VBox([attic_finish_html, attic_finish]), widgets.VBox([design_plan_html, design_plan]),\n",
    "        widgets.VBox([cathedral_ceiling_html, cathedral_ceiling]), garage1_size, widgets.VBox([garage1_mat_html, garage1_mat]),\n",
    "        widgets.VBox([garage1_attach_html, garage1_attach]), widgets.VBox([garage1_area_html, garage1_area]),\n",
    "        garage2_size, widgets.VBox([garage2_mat_html, garage2_mat]), widgets.VBox([garage2_attach_html, garage2_attach]),\n",
    "        widgets.VBox([garage2_area_html, garage2_area]), widgets.VBox([porch_html, porch]), building_square_feet,\n",
    "        widgets.VBox([repair_cond_html, repair_cond]), multi_code, comm_units, land_est, building_est, longitude, latitude,\n",
    "        census_tract, widgets.VBox([multi_prop_ind_html, multi_prop_ind]), age, \n",
    "        widgets.VBox([use_html, use]), widgets.VBox([noise_html, noise]), \n",
    "        widgets.VBox([flood_html, flood]), widgets.VBox([road_proximity_html, road_proximity]), sale_year, sale_quarter,\n",
    "        sale_half_year, sale_month, widgets.VBox([recent_html, recent]), age_decade,\n",
    "        widgets.VBox([pure_market_html, pure_market]), widgets.VBox([garage_indicator_html, garage_indicator]),\n",
    "        neighborhood_code_unmod, town_and_neighborhood, lot_size,\n",
    "        submit_button, output)"
   ]
  },
  {
   "cell_type": "code",
   "execution_count": null,
   "id": "ef3ba3be-56c7-4678-883f-9a00b876eda5",
   "metadata": {},
   "outputs": [],
   "source": []
  }
 ],
 "metadata": {
  "kernelspec": {
   "display_name": "Python 3 (ipykernel)",
   "language": "python",
   "name": "python3"
  },
  "language_info": {
   "codemirror_mode": {
    "name": "ipython",
    "version": 3
   },
   "file_extension": ".py",
   "mimetype": "text/x-python",
   "name": "python",
   "nbconvert_exporter": "python",
   "pygments_lexer": "ipython3",
   "version": "3.12.4"
  }
 },
 "nbformat": 4,
 "nbformat_minor": 5
}
