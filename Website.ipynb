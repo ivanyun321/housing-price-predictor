{
 "cells": [
  {
   "cell_type": "code",
   "execution_count": 439,
   "id": "ac7a77c7-91a3-4c94-a231-dcb2ec20a1d7",
   "metadata": {},
   "outputs": [],
   "source": [
    "import ipywidgets as widgets\n",
    "from IPython.display import display, clear_output\n",
    "import pandas as pd\n",
    "\n",
    "import io\n",
    "import contextlib\n",
    "\n",
    "from tensorflow.keras import backend as K\n",
    "from sklearn.model_selection import train_test_split\n",
    "import tensorflow as tf\n",
    "import numpy as np"
   ]
  },
  {
   "cell_type": "code",
   "execution_count": 444,
   "id": "a7869e4a-24c7-47ac-b126-f21160f75aba",
   "metadata": {},
   "outputs": [
    {
     "data": {
      "application/vnd.jupyter.widget-view+json": {
       "model_id": "cf53a6f5febd4bcaa940212195e9e4dc",
       "version_major": 2,
       "version_minor": 0
      },
      "text/plain": [
       "Text(value='', description='Property Class:', placeholder='Enter Property Class', style=DescriptionStyle(descr…"
      ]
     },
     "metadata": {},
     "output_type": "display_data"
    },
    {
     "data": {
      "application/vnd.jupyter.widget-view+json": {
       "model_id": "b3dc0d338d8e4c9fa1073e774f854b28",
       "version_major": 2,
       "version_minor": 0
      },
      "text/plain": [
       "Text(value='', description='Neighborhood Code as assigned by Assessment office:', layout=Layout(width='600px')…"
      ]
     },
     "metadata": {},
     "output_type": "display_data"
    },
    {
     "data": {
      "application/vnd.jupyter.widget-view+json": {
       "model_id": "15bc51b044384778a8de04e46a0359e1",
       "version_major": 2,
       "version_minor": 0
      },
      "text/plain": [
       "Text(value='', description='Land Square Feet:', placeholder='Enter Land Square Feet', style=DescriptionStyle(d…"
      ]
     },
     "metadata": {},
     "output_type": "display_data"
    },
    {
     "data": {
      "application/vnd.jupyter.widget-view+json": {
       "model_id": "8b6e6d33b8a1406c841f7d2b36943880",
       "version_major": 2,
       "version_minor": 0
      },
      "text/plain": [
       "Text(value='', description='Town Code:', placeholder='Enter Town Code', style=DescriptionStyle(description_wid…"
      ]
     },
     "metadata": {},
     "output_type": "display_data"
    },
    {
     "data": {
      "application/vnd.jupyter.widget-view+json": {
       "model_id": "3cf65e7f9bef45f6a2dbbeb134b5b7b0",
       "version_major": 2,
       "version_minor": 0
      },
      "text/plain": [
       "Text(value='', description='Number of Apartments:', layout=Layout(width='300px'), placeholder='Enter Apartment…"
      ]
     },
     "metadata": {},
     "output_type": "display_data"
    },
    {
     "data": {
      "application/vnd.jupyter.widget-view+json": {
       "model_id": "aee584de36c34da388a47f6a106ff4ed",
       "version_major": 2,
       "version_minor": 0
      },
      "text/plain": [
       "VBox(children=(HTML(value='\\n    <p>\\n    Select Exterior wall material <br>\\n    1 wood <br>\\n    2 masonry <…"
      ]
     },
     "metadata": {},
     "output_type": "display_data"
    },
    {
     "data": {
      "application/vnd.jupyter.widget-view+json": {
       "model_id": "96f07be18831460f815f489b42f92928",
       "version_major": 2,
       "version_minor": 0
      },
      "text/plain": [
       "VBox(children=(HTML(value='\\n    <p>\\n    Select Roof material <br>\\n    1 Shingle/Asphalt <br>\\n    2 Tar & G…"
      ]
     },
     "metadata": {},
     "output_type": "display_data"
    },
    {
     "data": {
      "application/vnd.jupyter.widget-view+json": {
       "model_id": "5e6af4a8ae384a59abff1ab43008a8fa",
       "version_major": 2,
       "version_minor": 0
      },
      "text/plain": [
       "VBox(children=(HTML(value='\\n    <p>\\n    Select Basement type <br>\\n    1 Full <br>\\n    2 Slab <br>\\n    3 P…"
      ]
     },
     "metadata": {},
     "output_type": "display_data"
    },
    {
     "data": {
      "application/vnd.jupyter.widget-view+json": {
       "model_id": "bd18599d6045402c97140637ddac312c",
       "version_major": 2,
       "version_minor": 0
      },
      "text/plain": [
       "VBox(children=(HTML(value='\\n    <p>\\n    Select Basement Finish <br>\\n    1 Formal rec room <br>\\n    2 Apart…"
      ]
     },
     "metadata": {},
     "output_type": "display_data"
    },
    {
     "data": {
      "application/vnd.jupyter.widget-view+json": {
       "model_id": "69c0a6eaea2a460ea6065eeb44d48dd5",
       "version_major": 2,
       "version_minor": 0
      },
      "text/plain": [
       "VBox(children=(HTML(value='\\n    <p>\\n    Select Roof material <br>\\n    1 Warm air <br>\\n    2 Hot water stea…"
      ]
     },
     "metadata": {},
     "output_type": "display_data"
    },
    {
     "data": {
      "application/vnd.jupyter.widget-view+json": {
       "model_id": "b4967d6b4b7e411fb298f532f96c7748",
       "version_major": 2,
       "version_minor": 0
      },
      "text/plain": [
       "VBox(children=(HTML(value='\\n    <p>\\n    Select Other Heating <br>\\n    1 Floor furnace <br>\\n    2 Unit heat…"
      ]
     },
     "metadata": {},
     "output_type": "display_data"
    },
    {
     "data": {
      "application/vnd.jupyter.widget-view+json": {
       "model_id": "0a21d6bf770644b687cc8929532466a4",
       "version_major": 2,
       "version_minor": 0
      },
      "text/plain": [
       "VBox(children=(HTML(value='\\n    <p>\\n    Is central airconditioning present? <br>\\n    1 Yes <br>\\n    2 No <…"
      ]
     },
     "metadata": {},
     "output_type": "display_data"
    },
    {
     "data": {
      "application/vnd.jupyter.widget-view+json": {
       "model_id": "971d9b82dae94e339b4641f3679fab65",
       "version_major": 2,
       "version_minor": 0
      },
      "text/plain": [
       "Text(value='', description='Number of Fireplaces:', placeholder='Number of Fireplaces', style=DescriptionStyle…"
      ]
     },
     "metadata": {},
     "output_type": "display_data"
    },
    {
     "data": {
      "application/vnd.jupyter.widget-view+json": {
       "model_id": "131d63ce271746589e904ad9b63776cc",
       "version_major": 2,
       "version_minor": 0
      },
      "text/plain": [
       "VBox(children=(HTML(value='\\n    <p>\\n    Type of Attic? <br>\\n    1 Full <br>\\n    2 Partial <br>\\n    3 None…"
      ]
     },
     "metadata": {},
     "output_type": "display_data"
    },
    {
     "data": {
      "application/vnd.jupyter.widget-view+json": {
       "model_id": "6c7a1f5e1b8d4f59b68d930c1d736585",
       "version_major": 2,
       "version_minor": 0
      },
      "text/plain": [
       "VBox(children=(HTML(value='\\n    <p>\\n    Select Attic Finish <br>\\n    1 Living Area <br>\\n    2 Apartment <b…"
      ]
     },
     "metadata": {},
     "output_type": "display_data"
    },
    {
     "data": {
      "application/vnd.jupyter.widget-view+json": {
       "model_id": "ecb526c3d2594373994eee99baee03cb",
       "version_major": 2,
       "version_minor": 0
      },
      "text/plain": [
       "VBox(children=(HTML(value='\\n    <p>\\n    Select Design Plan <br>\\n    1 Architect <br>\\n    2 Stock Plan <br>…"
      ]
     },
     "metadata": {},
     "output_type": "display_data"
    },
    {
     "data": {
      "application/vnd.jupyter.widget-view+json": {
       "model_id": "f046441cdf304760bd842de7a338397b",
       "version_major": 2,
       "version_minor": 0
      },
      "text/plain": [
       "VBox(children=(HTML(value='\\n    <p>\\n    Cathedral Ceiling? <br>\\n    1 Yes <br>\\n    2 No <br>\\n    </p>'), …"
      ]
     },
     "metadata": {},
     "output_type": "display_data"
    },
    {
     "data": {
      "application/vnd.jupyter.widget-view+json": {
       "model_id": "998b384cc4fb4a2eb70d98c60a61a08e",
       "version_major": 2,
       "version_minor": 0
      },
      "text/plain": [
       "Dropdown(description='How many cars can garage 1 fit?:', options=(0, 1, 1.5, 2, 2.5, 3, 3.5, 4), style=Descrip…"
      ]
     },
     "metadata": {},
     "output_type": "display_data"
    },
    {
     "data": {
      "application/vnd.jupyter.widget-view+json": {
       "model_id": "18e96a4ef774478b92bda81721340d6c",
       "version_major": 2,
       "version_minor": 0
      },
      "text/plain": [
       "VBox(children=(HTML(value='\\n    <p>\\n    Select Garage 1 Material <br>\\n    1 Frame <br>\\n    2 Masonry <br>\\…"
      ]
     },
     "metadata": {},
     "output_type": "display_data"
    },
    {
     "data": {
      "application/vnd.jupyter.widget-view+json": {
       "model_id": "e074ac279dd84cb0b122c3e9d0343a62",
       "version_major": 2,
       "version_minor": 0
      },
      "text/plain": [
       "VBox(children=(HTML(value='\\n    <p>\\n    Is Garage 1 Attached? <br>\\n    1 Yes <br>\\n    2 No <br>\\n    </p>'…"
      ]
     },
     "metadata": {},
     "output_type": "display_data"
    },
    {
     "data": {
      "application/vnd.jupyter.widget-view+json": {
       "model_id": "b3fb1dc7867b4b23a78ac93cfcf90fcb",
       "version_major": 2,
       "version_minor": 0
      },
      "text/plain": [
       "VBox(children=(HTML(value='\\n    <p>\\n    Is Garage 1 physically included within the building area? <br>\\n    …"
      ]
     },
     "metadata": {},
     "output_type": "display_data"
    },
    {
     "data": {
      "application/vnd.jupyter.widget-view+json": {
       "model_id": "4b29e9a203e24b65b99556f750845d2d",
       "version_major": 2,
       "version_minor": 0
      },
      "text/plain": [
       "Dropdown(description='How many cars can garage 2 fit?:', options=(0, 1, 1.5, 2, 2.5, 3, 3.5, 4), style=Descrip…"
      ]
     },
     "metadata": {},
     "output_type": "display_data"
    },
    {
     "data": {
      "application/vnd.jupyter.widget-view+json": {
       "model_id": "4ec9f0fdd49c47c5bc32efc26d3ab14e",
       "version_major": 2,
       "version_minor": 0
      },
      "text/plain": [
       "VBox(children=(HTML(value='\\n    <p>\\n    Select Garage 2 Material <br>\\n    1 Frame <br>\\n    2 Masonry <br>\\…"
      ]
     },
     "metadata": {},
     "output_type": "display_data"
    },
    {
     "data": {
      "application/vnd.jupyter.widget-view+json": {
       "model_id": "5d9bfcc78cf4479e8d8ab71d91af831e",
       "version_major": 2,
       "version_minor": 0
      },
      "text/plain": [
       "VBox(children=(HTML(value='\\n    <p>\\n    Is Garage 2 Attached? <br>\\n    1 Yes <br>\\n    2 No <br>\\n    </p>'…"
      ]
     },
     "metadata": {},
     "output_type": "display_data"
    },
    {
     "data": {
      "application/vnd.jupyter.widget-view+json": {
       "model_id": "0a34a7e44dcb474a912aadb2fa891181",
       "version_major": 2,
       "version_minor": 0
      },
      "text/plain": [
       "VBox(children=(HTML(value='\\n    <p>\\n    Is Garage 2 physically included within the building area? <br>\\n    …"
      ]
     },
     "metadata": {},
     "output_type": "display_data"
    },
    {
     "data": {
      "application/vnd.jupyter.widget-view+json": {
       "model_id": "217fda4de5c94dce83183e0334234edc",
       "version_major": 2,
       "version_minor": 0
      },
      "text/plain": [
       "VBox(children=(HTML(value='\\n    <p>\\n    Select the type of Porch <br>\\n    1 Frame <br>\\n    2 Masonry <br>\\…"
      ]
     },
     "metadata": {},
     "output_type": "display_data"
    },
    {
     "data": {
      "application/vnd.jupyter.widget-view+json": {
       "model_id": "6a1c90eedccf473f8d0efd35cacc1778",
       "version_major": 2,
       "version_minor": 0
      },
      "text/plain": [
       "Text(value='', description='Building Square Feet:', layout=Layout(width='400px'), placeholder='Enter Building …"
      ]
     },
     "metadata": {},
     "output_type": "display_data"
    },
    {
     "data": {
      "application/vnd.jupyter.widget-view+json": {
       "model_id": "182f807e3516495cb9f680241e3fe7e5",
       "version_major": 2,
       "version_minor": 0
      },
      "text/plain": [
       "VBox(children=(HTML(value='\\n    <p>\\n    Select Repair Condition <br>\\n    1 Above Average <br>\\n    2 Averag…"
      ]
     },
     "metadata": {},
     "output_type": "display_data"
    },
    {
     "data": {
      "application/vnd.jupyter.widget-view+json": {
       "model_id": "a43d66a74ba642e5ab676357f200c409",
       "version_major": 2,
       "version_minor": 0
      },
      "text/plain": [
       "Dropdown(description='How many buildings exists on the pin?:', options=(1, 2, 3, 4, 5, 6), style=DescriptionSt…"
      ]
     },
     "metadata": {},
     "output_type": "display_data"
    },
    {
     "data": {
      "application/vnd.jupyter.widget-view+json": {
       "model_id": "bafd020959904b1b86b7c524ddc65852",
       "version_major": 2,
       "version_minor": 0
      },
      "text/plain": [
       "Text(value='', description='Commercial Units:', layout=Layout(width='500px'), placeholder='Enter Number of Com…"
      ]
     },
     "metadata": {},
     "output_type": "display_data"
    },
    {
     "data": {
      "application/vnd.jupyter.widget-view+json": {
       "model_id": "29876b69741c4e5bab9c3ea77ebde22a",
       "version_major": 2,
       "version_minor": 0
      },
      "text/plain": [
       "Text(value='', description='Longitude:', placeholder='Enter Longitude', style=DescriptionStyle(description_wid…"
      ]
     },
     "metadata": {},
     "output_type": "display_data"
    },
    {
     "data": {
      "application/vnd.jupyter.widget-view+json": {
       "model_id": "b4695ecf19024922a26edc3280b68853",
       "version_major": 2,
       "version_minor": 0
      },
      "text/plain": [
       "Text(value='', description='Latitude:', placeholder='Enter Latitude', style=DescriptionStyle(description_width…"
      ]
     },
     "metadata": {},
     "output_type": "display_data"
    },
    {
     "data": {
      "application/vnd.jupyter.widget-view+json": {
       "model_id": "773d3891dce949f08a65339bb77c442f",
       "version_major": 2,
       "version_minor": 0
      },
      "text/plain": [
       "Text(value='', description='Census Tract Identifier:', layout=Layout(width='400px'), placeholder='Enter Census…"
      ]
     },
     "metadata": {},
     "output_type": "display_data"
    },
    {
     "data": {
      "application/vnd.jupyter.widget-view+json": {
       "model_id": "51d3c80e64dc42288c8cdb5a5607f96f",
       "version_major": 2,
       "version_minor": 0
      },
      "text/plain": [
       "VBox(children=(HTML(value='\\n    <p>\\n    Property with multiple improvements on one PIN? <br>\\n    e.g. a mai…"
      ]
     },
     "metadata": {},
     "output_type": "display_data"
    },
    {
     "data": {
      "application/vnd.jupyter.widget-view+json": {
       "model_id": "1d5472203eac41b19abc93d260f2138c",
       "version_major": 2,
       "version_minor": 0
      },
      "text/plain": [
       "Text(value='', description='Age:', placeholder='Enter Age', style=DescriptionStyle(description_width='initial'…"
      ]
     },
     "metadata": {},
     "output_type": "display_data"
    },
    {
     "data": {
      "application/vnd.jupyter.widget-view+json": {
       "model_id": "c81f8a2ed6f7403a98b8835f33e2ccec",
       "version_major": 2,
       "version_minor": 0
      },
      "text/plain": [
       "VBox(children=(HTML(value='\\n    <p>\\n    Use of property? <br>\\n    1 single family <br>\\n    2 multi-family …"
      ]
     },
     "metadata": {},
     "output_type": "display_data"
    },
    {
     "data": {
      "application/vnd.jupyter.widget-view+json": {
       "model_id": "f7d8663c67ce4853bd77b61e5811ce28",
       "version_major": 2,
       "version_minor": 0
      },
      "text/plain": [
       "VBox(children=(HTML(value=\"\\n    <p>\\n    Within 1/4 mile under O'Hare approach flight path? <br>\\n    1 Yes <…"
      ]
     },
     "metadata": {},
     "output_type": "display_data"
    },
    {
     "data": {
      "application/vnd.jupyter.widget-view+json": {
       "model_id": "dcd1029b9255437b83cab4d6c4684248",
       "version_major": 2,
       "version_minor": 0
      },
      "text/plain": [
       "VBox(children=(HTML(value='\\n    <p>\\n    Is the property on a floodplain as defined by FEMA? <br>\\n    1 Yes …"
      ]
     },
     "metadata": {},
     "output_type": "display_data"
    },
    {
     "data": {
      "application/vnd.jupyter.widget-view+json": {
       "model_id": "f76074af2478473caa906dc92fa23be3",
       "version_major": 2,
       "version_minor": 0
      },
      "text/plain": [
       "VBox(children=(HTML(value='\\n    <p>\\n    Within 300 ft of a major road? <br>\\n    1 Yes <br>\\n    2 No <br>\\n…"
      ]
     },
     "metadata": {},
     "output_type": "display_data"
    },
    {
     "data": {
      "application/vnd.jupyter.widget-view+json": {
       "model_id": "1f753d07edad4494a2289e52b5b6356f",
       "version_major": 2,
       "version_minor": 0
      },
      "text/plain": [
       "Text(value='', description='Year of sale:', placeholder='Enter Sale Year', style=DescriptionStyle(description_…"
      ]
     },
     "metadata": {},
     "output_type": "display_data"
    },
    {
     "data": {
      "application/vnd.jupyter.widget-view+json": {
       "model_id": "03a834c7f68d496b9572219fc9a108d3",
       "version_major": 2,
       "version_minor": 0
      },
      "text/plain": [
       "Text(value='', description='Quarter of Sale:', placeholder='Enter Quarter of Sale', style=DescriptionStyle(des…"
      ]
     },
     "metadata": {},
     "output_type": "display_data"
    },
    {
     "data": {
      "application/vnd.jupyter.widget-view+json": {
       "model_id": "a9bc2423eeb94bf2827e013e3876d9a9",
       "version_major": 2,
       "version_minor": 0
      },
      "text/plain": [
       "Text(value='', description='Half-year of sale:', placeholder='Enter Half-year of Sale', style=DescriptionStyle…"
      ]
     },
     "metadata": {},
     "output_type": "display_data"
    },
    {
     "data": {
      "application/vnd.jupyter.widget-view+json": {
       "model_id": "24ba430c45894dcb9e1d2423f4c30167",
       "version_major": 2,
       "version_minor": 0
      },
      "text/plain": [
       "Text(value='', description='Sale Month:', placeholder='Enter Month of Sale', style=DescriptionStyle(descriptio…"
      ]
     },
     "metadata": {},
     "output_type": "display_data"
    },
    {
     "data": {
      "application/vnd.jupyter.widget-view+json": {
       "model_id": "48913f25976942cead80c1f66b063a7b",
       "version_major": 2,
       "version_minor": 0
      },
      "text/plain": [
       "VBox(children=(HTML(value='\\n    <p>\\n    Is this the most recent sale of the property <br>\\n    1 Yes <br>\\n …"
      ]
     },
     "metadata": {},
     "output_type": "display_data"
    },
    {
     "data": {
      "application/vnd.jupyter.widget-view+json": {
       "model_id": "67efa11da8a849fd96541f1df16257ca",
       "version_major": 2,
       "version_minor": 0
      },
      "text/plain": [
       "Text(value='', description='Age in Decades:', placeholder='Enter Age in Decades', style=DescriptionStyle(descr…"
      ]
     },
     "metadata": {},
     "output_type": "display_data"
    },
    {
     "data": {
      "application/vnd.jupyter.widget-view+json": {
       "model_id": "c645a2c0697c4e7bbd7b69fd6847d6ca",
       "version_major": 2,
       "version_minor": 0
      },
      "text/plain": [
       "VBox(children=(HTML(value='\\n    <p>\\n    Is this a pure market sale? <br>\\n    1 Yes <br>\\n    2 No <br>\\n   …"
      ]
     },
     "metadata": {},
     "output_type": "display_data"
    },
    {
     "data": {
      "application/vnd.jupyter.widget-view+json": {
       "model_id": "71b436b5e6eb41eaa2a2138c10165807",
       "version_major": 2,
       "version_minor": 0
      },
      "text/plain": [
       "VBox(children=(HTML(value='\\n    <p>\\n    Is there a garage? <br>\\n    1 Yes <br>\\n    2 No <br>\\n    </p>'), …"
      ]
     },
     "metadata": {},
     "output_type": "display_data"
    },
    {
     "data": {
      "application/vnd.jupyter.widget-view+json": {
       "model_id": "6abc715f8e2e462ebc24a67bd8e83255",
       "version_major": 2,
       "version_minor": 0
      },
      "text/plain": [
       "Text(value='', description='Unmodified neighborhood code for mapping:', layout=Layout(width='500px'), placehol…"
      ]
     },
     "metadata": {},
     "output_type": "display_data"
    },
    {
     "data": {
      "application/vnd.jupyter.widget-view+json": {
       "model_id": "03f17a75954c4d63b5e75bc79e5022e9",
       "version_major": 2,
       "version_minor": 0
      },
      "text/plain": [
       "Text(value='', description='Combination of town and neighborhood:', layout=Layout(width='550px'), placeholder=…"
      ]
     },
     "metadata": {},
     "output_type": "display_data"
    },
    {
     "data": {
      "application/vnd.jupyter.widget-view+json": {
       "model_id": "bc227e34f24748d2a8cfd37d316a9753",
       "version_major": 2,
       "version_minor": 0
      },
      "text/plain": [
       "Text(value='', description='Lot Size:', placeholder='Enter Lot Size', style=DescriptionStyle(description_width…"
      ]
     },
     "metadata": {},
     "output_type": "display_data"
    },
    {
     "data": {
      "application/vnd.jupyter.widget-view+json": {
       "model_id": "38dde68ca75f400da2d8d7629658f187",
       "version_major": 2,
       "version_minor": 0
      },
      "text/plain": [
       "Button(button_style='success', description='Submit', style=ButtonStyle())"
      ]
     },
     "metadata": {},
     "output_type": "display_data"
    },
    {
     "data": {
      "application/vnd.jupyter.widget-view+json": {
       "model_id": "71b929dc47e544b8bf8c765739a87e4d",
       "version_major": 2,
       "version_minor": 0
      },
      "text/plain": [
       "Output()"
      ]
     },
     "metadata": {},
     "output_type": "display_data"
    }
   ],
   "source": [
    "import ipywidgets as widgets\n",
    "property_class = widgets.Text(\n",
    "    value='',\n",
    "    placeholder='Enter Property Class',\n",
    "    description='Property Class:',\n",
    "    style={'description_width': 'initial'},\n",
    "    disabled=False\n",
    ")\n",
    "neighborhood_code = widgets.Text(\n",
    "    value='',\n",
    "    placeholder='Enter Neighborhood Code',\n",
    "    description='Neighborhood Code as assigned by Assessment office:',\n",
    "    style={'description_width': 'initial'},\n",
    "    layout=widgets.Layout(width='600px'),\n",
    "    disabled=False\n",
    ")\n",
    "land_square_feet = widgets.Text(\n",
    "    value='',\n",
    "    placeholder='Enter Land Square Feet',\n",
    "    description='Land Square Feet:',\n",
    "    style={'description_width': 'initial'},\n",
    "    disabled=False\n",
    ")\n",
    "\n",
    "town_code = widgets.Text(\n",
    "    value='',\n",
    "    placeholder='Enter Town Code',\n",
    "    description='Town Code:',\n",
    "    style={'description_width': 'initial'},\n",
    "    disabled=False\n",
    ")\n",
    "\n",
    "apartments = widgets.Text(\n",
    "    value='',\n",
    "    placeholder='Enter Apartments',\n",
    "    description='Number of Apartments:',\n",
    "    style={'description_width': 'initial'},\n",
    "    layout=widgets.Layout(width='300px'),\n",
    "    disabled=False\n",
    ")\n",
    "\n",
    "wall_mat_html = widgets.HTML(\n",
    "    value = \"\"\"\n",
    "    <p>\n",
    "    Select Exterior wall material <br>\n",
    "    1 wood <br>\n",
    "    2 masonry <br>\n",
    "    3 wood & masonry <br>\n",
    "    4 stucco\n",
    "    </p>\"\"\"\n",
    ")\n",
    "\n",
    "wall_mat = widgets.Dropdown(\n",
    "    options=[1, 2, 3, 4],\n",
    "    description = \"Choice:\",\n",
    "    style={'description_width': 'initial'},\n",
    "    disabled = False,\n",
    ")\n",
    "\n",
    "\n",
    "roof_mat_html = widgets.HTML(\n",
    "    value = \"\"\"\n",
    "    <p>\n",
    "    Select Roof material <br>\n",
    "    1 Shingle/Asphalt <br>\n",
    "    2 Tar & Gravel <br>\n",
    "    3 Slate <br>\n",
    "    4 Shake <br>\n",
    "    5 Tile <br>\n",
    "    6 Other\n",
    "    </p>\"\"\"\n",
    ")\n",
    "\n",
    "roof_mat = widgets.Dropdown(\n",
    "    options=[1, 2, 3, 4, 5, 6],\n",
    "    description = \"Choice:\",\n",
    "    style={'description_width': 'initial'},\n",
    "    disabled = False,\n",
    ")\n",
    "\n",
    "basement_html = widgets.HTML(\n",
    "    value = \"\"\"\n",
    "    <p>\n",
    "    Select Basement type <br>\n",
    "    1 Full <br>\n",
    "    2 Slab <br>\n",
    "    3 Partial <br>\n",
    "    4 Crawl <br>\n",
    "    </p>\"\"\"\n",
    ")\n",
    "\n",
    "basement = widgets.Dropdown(\n",
    "    options=[1, 2, 3, 4],\n",
    "    description = \"Choice:\",\n",
    "    style={'description_width': 'initial'},\n",
    "    disabled = False,\n",
    ")\n",
    "\n",
    "basement_finish_html = widgets.HTML(\n",
    "    value = \"\"\"\n",
    "    <p>\n",
    "    Select Basement Finish <br>\n",
    "    1 Formal rec room <br>\n",
    "    2 Apartment <br>\n",
    "    3 Unfinished <br>\n",
    "    </p>\"\"\"\n",
    ")\n",
    "\n",
    "basement_finish = widgets.Dropdown(\n",
    "    options=[1, 2, 3],\n",
    "    description = \"Choice:\",\n",
    "    style={'description_width': 'initial'},\n",
    "    disabled = False,\n",
    ")\n",
    "\n",
    "central_heat_html = widgets.HTML(\n",
    "    value = \"\"\"\n",
    "    <p>\n",
    "    Select Roof material <br>\n",
    "    1 Warm air <br>\n",
    "    2 Hot water steam <br>\n",
    "    3 Electric <br>\n",
    "    4 Other <br>\n",
    "    </p>\"\"\"\n",
    ")\n",
    "\n",
    "central_heat = widgets.Dropdown(\n",
    "    options=[1, 2, 3, 4],\n",
    "    description = \"Choice:\",\n",
    "    style={'description_width': 'initial'},\n",
    "    disabled = False,\n",
    ")\n",
    "\n",
    "other_heat_html = widgets.HTML(\n",
    "    value = \"\"\"\n",
    "    <p>\n",
    "    Select Other Heating <br>\n",
    "    1 Floor furnace <br>\n",
    "    2 Unit heater <br>\n",
    "    3 Stove <br>\n",
    "    4 Solar <br>\n",
    "    5 None <br>\n",
    "    </p>\"\"\"\n",
    ")\n",
    "\n",
    "other_heat = widgets.Dropdown(\n",
    "    options=[1, 2, 3, 4, 5],\n",
    "    description = \"Choice:\",\n",
    "    style={'description_width': 'initial'},\n",
    "    disabled = False,\n",
    ")\n",
    "\n",
    "\n",
    "central_air_html = widgets.HTML(\n",
    "    value = \"\"\"\n",
    "    <p>\n",
    "    Is central airconditioning present? <br>\n",
    "    1 Yes <br>\n",
    "    2 No <br>\n",
    "    </p>\"\"\"\n",
    ")\n",
    "\n",
    "central_air = widgets.Dropdown(\n",
    "    options=[1, 2],\n",
    "    description = \"Choice:\",\n",
    "    style={'description_width': 'initial'},\n",
    "    disabled = False,\n",
    ")\n",
    "\n",
    "fireplaces = widgets.Text(\n",
    "    value='',\n",
    "    placeholder='Number of Fireplaces',\n",
    "    description='Number of Fireplaces:',\n",
    "    style={'description_width': 'initial'},\n",
    "    disabled=False\n",
    ")\n",
    "\n",
    "attic_type_html = widgets.HTML(\n",
    "    value = \"\"\"\n",
    "    <p>\n",
    "    Type of Attic? <br>\n",
    "    1 Full <br>\n",
    "    2 Partial <br>\n",
    "    3 None <br>\n",
    "    </p>\"\"\"\n",
    ")\n",
    "\n",
    "attic_type = widgets.Dropdown(\n",
    "    options=[1, 2, 3],\n",
    "    description = \"Choice:\",\n",
    "    style={'description_width': 'initial'},\n",
    "    disabled = False,\n",
    ")\n",
    "\n",
    "attic_finish_html = widgets.HTML(\n",
    "    value = \"\"\"\n",
    "    <p>\n",
    "    Select Attic Finish <br>\n",
    "    1 Living Area <br>\n",
    "    2 Apartment <br>\n",
    "    3 Unfinished <br>\n",
    "    </p>\"\"\"\n",
    ")\n",
    "\n",
    "attic_finish = widgets.Dropdown(\n",
    "    options=[1, 2, 3],\n",
    "    description = \"Choice:\",\n",
    "    style={'description_width': 'initial'},\n",
    "    disabled = False,\n",
    ")\n",
    "\n",
    "design_plan_html = widgets.HTML(\n",
    "    value = \"\"\"\n",
    "    <p>\n",
    "    Select Design Plan <br>\n",
    "    1 Architect <br>\n",
    "    2 Stock Plan <br>\n",
    "    </p>\"\"\"\n",
    ")\n",
    "\n",
    "design_plan = widgets.Dropdown(\n",
    "    options=[1, 2],\n",
    "    description = \"Choice:\",\n",
    "    style={'description_width': 'initial'},\n",
    "    disabled = False,\n",
    ")\n",
    "\n",
    "cathedral_ceiling_html = widgets.HTML(\n",
    "    value = \"\"\"\n",
    "    <p>\n",
    "    Cathedral Ceiling? <br>\n",
    "    1 Yes <br>\n",
    "    2 No <br>\n",
    "    </p>\"\"\"\n",
    ")\n",
    "\n",
    "cathedral_ceiling = widgets.Dropdown(\n",
    "    options=[1, 2],\n",
    "    description = \"Choice:\",\n",
    "    style={'description_width': 'initial'},\n",
    "    disabled = False,\n",
    ")\n",
    "\n",
    "garage1_size = widgets.Dropdown(\n",
    "    options=[0, 1, 1.5, 2, 2.5, 3, 3.5, 4],\n",
    "    description = \"How many cars can garage 1 fit?:\",\n",
    "    style={'description_width': 'initial'},\n",
    "    disabled = False,\n",
    ")\n",
    "\n",
    "garage1_mat_html = widgets.HTML(\n",
    "    value = \"\"\"\n",
    "    <p>\n",
    "    Select Garage 1 Material <br>\n",
    "    1 Frame <br>\n",
    "    2 Masonry <br>\n",
    "    3 Frame/Masony <br>\n",
    "    4 Stucco <br>\n",
    "    </p>\"\"\"\n",
    ")\n",
    "\n",
    "garage1_mat = widgets.Dropdown(\n",
    "    options=[1, 2, 3, 4],\n",
    "    description = \"Choice:\",\n",
    "    style={'description_width': 'initial'},\n",
    "    disabled = False,\n",
    ")\n",
    "\n",
    "garage1_attach_html = widgets.HTML(\n",
    "    value = \"\"\"\n",
    "    <p>\n",
    "    Is Garage 1 Attached? <br>\n",
    "    1 Yes <br>\n",
    "    2 No <br>\n",
    "    </p>\"\"\"\n",
    ")\n",
    "\n",
    "\n",
    "garage1_attach = widgets.Dropdown(\n",
    "    options=[1, 2],\n",
    "    description = \"Choice:\",\n",
    "    style={'description_width': 'initial'},\n",
    "    disabled = False,\n",
    ")\n",
    "\n",
    "garage1_area_html = widgets.HTML(\n",
    "    value = \"\"\"\n",
    "    <p>\n",
    "    Is Garage 1 physically included within the building area? <br>\n",
    "    1 Yes <br>\n",
    "    2 No <br>\n",
    "    </p>\"\"\"\n",
    ")\n",
    "\n",
    "garage1_area = widgets.Dropdown(\n",
    "    options=[1, 2],\n",
    "    description = \"Choice:\",\n",
    "    style={'description_width': 'initial'},\n",
    "    disabled = False,\n",
    ")\n",
    "\n",
    "garage2_size = widgets.Dropdown(\n",
    "    options=[0, 1, 1.5, 2, 2.5, 3, 3.5, 4],\n",
    "    description = \"How many cars can garage 2 fit?:\",\n",
    "    style={'description_width': 'initial'},\n",
    "    disabled = False,\n",
    ")\n",
    "\n",
    "garage2_mat_html = widgets.HTML(\n",
    "    value = \"\"\"\n",
    "    <p>\n",
    "    Select Garage 2 Material <br>\n",
    "    1 Frame <br>\n",
    "    2 Masonry <br>\n",
    "    3 Frame/Masony <br>\n",
    "    4 Stucco <br>\n",
    "    </p>\"\"\"\n",
    ")\n",
    "\n",
    "garage2_mat = widgets.Dropdown(\n",
    "    options=[1, 2, 3, 4],\n",
    "    description = \"Choice:\",\n",
    "    style={'description_width': 'initial'},\n",
    "    disabled = False,\n",
    ")\n",
    "\n",
    "garage2_attach_html = widgets.HTML(\n",
    "    value = \"\"\"\n",
    "    <p>\n",
    "    Is Garage 2 Attached? <br>\n",
    "    1 Yes <br>\n",
    "    2 No <br>\n",
    "    </p>\"\"\"\n",
    ")\n",
    "\n",
    "garage2_attach = widgets.Dropdown(\n",
    "    options=[1, 2],\n",
    "    description = \"Choice:\",\n",
    "    style={'description_width': 'initial'},\n",
    "    disabled = False,\n",
    ")\n",
    "\n",
    "garage2_area_html = widgets.HTML(\n",
    "    value = \"\"\"\n",
    "    <p>\n",
    "    Is Garage 2 physically included within the building area? <br>\n",
    "    1 Yes <br>\n",
    "    2 No <br>\n",
    "    </p>\"\"\"\n",
    ")\n",
    "\n",
    "garage2_area = widgets.Dropdown(\n",
    "    options=[1, 2],\n",
    "    description = \"Choice:\",\n",
    "    style={'description_width': 'initial'},\n",
    "    disabled = False,\n",
    ")\n",
    "\n",
    "porch_html = widgets.HTML(\n",
    "    value = \"\"\"\n",
    "    <p>\n",
    "    Select the type of Porch <br>\n",
    "    1 Frame <br>\n",
    "    2 Masonry <br>\n",
    "    3 None <br>\n",
    "    </p>\"\"\"\n",
    ")\n",
    "\n",
    "porch = widgets.Dropdown(\n",
    "    options=[1, 2, 3],\n",
    "    description = \"Choice:\",\n",
    "    style={'description_width': 'initial'},\n",
    "    disabled = False,\n",
    ")\n",
    "\n",
    "building_square_feet = widgets.Text(\n",
    "    value='',\n",
    "    placeholder='Enter Building Square Feet',\n",
    "    description='Building Square Feet:',\n",
    "    style={'description_width': 'initial'},\n",
    "    layout=widgets.Layout(width='400px'),\n",
    "    disabled=False\n",
    ")\n",
    "\n",
    "repair_cond_html = widgets.HTML(\n",
    "    value = \"\"\"\n",
    "    <p>\n",
    "    Select Repair Condition <br>\n",
    "    1 Above Average <br>\n",
    "    2 Average <br>\n",
    "    3 Below Average <br>\n",
    "    </p>\"\"\"\n",
    ")\n",
    "\n",
    "repair_cond = widgets.Dropdown(\n",
    "    options=[1, 2, 3],\n",
    "    description = \"Choice:\",\n",
    "    style={'description_width': 'initial'},\n",
    "    disabled = False,\n",
    ")\n",
    "\n",
    "multi_code = widgets.Dropdown(\n",
    "    options=[1, 2, 3, 4, 5, 6],\n",
    "    description = \"How many buildings exists on the pin?:\",\n",
    "    style={'description_width': 'initial'},\n",
    "    disabled = False,\n",
    ")\n",
    "\n",
    "comm_units = widgets.Text(\n",
    "    value='',\n",
    "    placeholder='Enter Number of Commercial Units',\n",
    "    description='Commercial Units:',\n",
    "    style = {'description_width':'initial'},\n",
    "    layout=widgets.Layout(width='500px'),\n",
    "    disabled=False\n",
    ")\n",
    "\n",
    "longitude = widgets.Text(\n",
    "    value='',\n",
    "    placeholder='Enter Longitude',\n",
    "    description='Longitude:',\n",
    "    style = {'description_width':'initial'},\n",
    "    disabled=False\n",
    ")\n",
    "\n",
    "latitude = widgets.Text(\n",
    "    value='',\n",
    "    placeholder='Enter Latitude',\n",
    "    description='Latitude:',\n",
    "    style = {'description_width':'initial'},\n",
    "    disabled=False\n",
    ")\n",
    "\n",
    "census_tract = widgets.Text(\n",
    "    value='',\n",
    "    placeholder='Enter Census Tract Identifier',\n",
    "    description='Census Tract Identifier:',\n",
    "    style = {'description_width':'initial'},\n",
    "    layout=widgets.Layout(width='400px'),\n",
    "    disabled=False\n",
    ")\n",
    "\n",
    "multi_prop_ind_html = widgets.HTML(\n",
    "    value = \"\"\"\n",
    "    <p>\n",
    "    Property with multiple improvements on one PIN? <br>\n",
    "    e.g. a main house and a couch house, not to be confused with <br>\n",
    "    property which was part of a multi-pin sale <br>\n",
    "    1 Yes <br>\n",
    "    2 No <br>\n",
    "    </p>\"\"\"\n",
    ")\n",
    "\n",
    "multi_prop_ind = widgets.Dropdown(\n",
    "    options=[1, 2],\n",
    "    description = \"Choice:\",\n",
    "    style={'description_width': 'initial'},\n",
    "    disabled = False,\n",
    ")\n",
    "\n",
    "age = widgets.Text(\n",
    "    value='',\n",
    "    placeholder='Enter Age',\n",
    "    description='Age:',\n",
    "    style = {'description_width':'initial'},\n",
    "    disabled=False\n",
    ")\n",
    "\n",
    "use_html = widgets.HTML(\n",
    "    value = \"\"\"\n",
    "    <p>\n",
    "    Use of property? <br>\n",
    "    1 single family <br>\n",
    "    2 multi-family <br>\n",
    "    </p>\"\"\"\n",
    ")\n",
    "\n",
    "use = widgets.Dropdown(\n",
    "    options=[1, 2],\n",
    "    description = \"Choice:\",\n",
    "    style={'description_width': 'initial'},\n",
    "    disabled = False,\n",
    ")\n",
    "\n",
    "noise_html = widgets.HTML(\n",
    "    value = \"\"\"\n",
    "    <p>\n",
    "    Within 1/4 mile under O'Hare approach flight path? <br>\n",
    "    1 Yes <br>\n",
    "    2 No <br>\n",
    "    </p>\"\"\"\n",
    ")\n",
    "\n",
    "noise = widgets.Dropdown(\n",
    "    options=[1, 2],\n",
    "    description = \"Choice:\",\n",
    "    style={'description_width': 'initial'},\n",
    "    disabled = False,\n",
    ")\n",
    "\n",
    "flood_html = widgets.HTML(\n",
    "    value = \"\"\"\n",
    "    <p>\n",
    "    Is the property on a floodplain as defined by FEMA? <br>\n",
    "    1 Yes <br>\n",
    "    2 No <br>\n",
    "    </p>\"\"\"\n",
    ")\n",
    "\n",
    "flood = widgets.Dropdown(\n",
    "    options=[1, 2],\n",
    "    description = \"Choice:\",\n",
    "    style={'description_width': 'initial'},\n",
    "    disabled = False,\n",
    ")\n",
    "\n",
    "road_proximity_html = widgets.HTML(\n",
    "    value = \"\"\"\n",
    "    <p>\n",
    "    Within 300 ft of a major road? <br>\n",
    "    1 Yes <br>\n",
    "    2 No <br>\n",
    "    </p>\"\"\"\n",
    ")\n",
    "\n",
    "road_proximity = widgets.Dropdown(\n",
    "    options=[1, 2],\n",
    "    description = \"Choice:\",\n",
    "    style={'description_width': 'initial'},\n",
    "    disabled = False,\n",
    ")\n",
    "\n",
    "sale_year = widgets.Text(\n",
    "    value='',\n",
    "    placeholder='Enter Sale Year',\n",
    "    description='Year of sale:',\n",
    "    style = {'description_width':'initial'},\n",
    "    disabled=False\n",
    ")\n",
    "\n",
    "sale_quarter = widgets.Text(\n",
    "    value='',\n",
    "    placeholder='Enter Quarter of Sale',\n",
    "    description='Quarter of Sale:',\n",
    "    style = {'description_width':'initial'},\n",
    "    disabled=False\n",
    ")\n",
    "\n",
    "sale_half_year = widgets.Text(\n",
    "    value='',\n",
    "    placeholder='Enter Half-year of Sale',\n",
    "    description='Half-year of sale:',\n",
    "    style = {'description_width':'initial'},\n",
    "    disabled=False\n",
    ")\n",
    "\n",
    "sale_month = widgets.Text(\n",
    "    value='',\n",
    "    placeholder='Enter Month of Sale',\n",
    "    description='Sale Month:',\n",
    "    style = {'description_width':'initial'},\n",
    "    disabled=False\n",
    ")\n",
    "\n",
    "recent_html = widgets.HTML(\n",
    "    value = \"\"\"\n",
    "    <p>\n",
    "    Is this the most recent sale of the property <br>\n",
    "    1 Yes <br>\n",
    "    2 No <br>\n",
    "    </p>\"\"\"\n",
    ")\n",
    "\n",
    "recent = widgets.Dropdown(\n",
    "    options=[1, 2],\n",
    "    description = \"Choice:\",\n",
    "    style={'description_width': 'initial'},\n",
    "    disabled = False,\n",
    ")\n",
    "\n",
    "age_decade = widgets.Text(\n",
    "    value='',\n",
    "    placeholder='Enter Age in Decades',\n",
    "    description='Age in Decades:',\n",
    "    style = {'description_width':'initial'},\n",
    "    disabled=False\n",
    ")\n",
    "\n",
    "pure_market_html = widgets.HTML(\n",
    "    value = \"\"\"\n",
    "    <p>\n",
    "    Is this a pure market sale? <br>\n",
    "    1 Yes <br>\n",
    "    2 No <br>\n",
    "    </p>\"\"\"\n",
    ")\n",
    "\n",
    "pure_market = widgets.Dropdown(\n",
    "    options=[1, 2],\n",
    "    description = \"Choice:\",\n",
    "    style={'description_width': 'initial'},\n",
    "    disabled = False,\n",
    ")\n",
    "\n",
    "garage_indicator_html = widgets.HTML(\n",
    "    value = \"\"\"\n",
    "    <p>\n",
    "    Is there a garage? <br>\n",
    "    1 Yes <br>\n",
    "    2 No <br>\n",
    "    </p>\"\"\"\n",
    ")\n",
    "\n",
    "garage_indicator = widgets.Dropdown(\n",
    "    options=[1, 2],\n",
    "    description = \"Choice:\",\n",
    "    style={'description_width': 'initial'},\n",
    "    disabled = False,\n",
    ")\n",
    "\n",
    "neighborhood_code_unmod = widgets.Text(\n",
    "    value='',\n",
    "    placeholder='Enter Neighborhood Code',\n",
    "    description='Unmodified neighborhood code for mapping:',\n",
    "    style = {'description_width':'initial'},\n",
    "    layout=widgets.Layout(width='500px'),\n",
    "    disabled=False\n",
    ")\n",
    "\n",
    "town_and_neighborhood = widgets.Text(\n",
    "    value='',\n",
    "    placeholder='Enter Combination of Town and Neighborhood',\n",
    "    description='Combination of town and neighborhood:',\n",
    "    style = {'description_width':'initial'},\n",
    "    layout=widgets.Layout(width='550px'),\n",
    "    disabled=False\n",
    ")\n",
    "\n",
    "lot_size = widgets.Text(\n",
    "    value='',\n",
    "    placeholder='Enter Lot Size',\n",
    "    description='Lot Size:',\n",
    "    style = {'description_width':'initial'},\n",
    "    disabled=False\n",
    ")\n",
    "\n",
    "# Create a submit button.\n",
    "submit_button = widgets.Button(\n",
    "    description='Submit',\n",
    "    button_style='success'\n",
    ")\n",
    "\n",
    "# Output widget to display results.\n",
    "output = widgets.Output()\n",
    "\n",
    "# Define the callback function for the button click.\n",
    "def on_submit_clicked(b):\n",
    "    with output:\n",
    "        clear_output()  # Clear previous output\n",
    "        \n",
    "        # Read values from text boxes.\n",
    "        try:\n",
    "            # Convert text inputs to float or int.\n",
    "            f1 = float(property_class.value)\n",
    "            f2 = float(neighborhood_code.value)\n",
    "            f3 = float(land_square_feet.value)\n",
    "            f4 = float(town_code.value)\n",
    "            f5 = float(apartments.value)\n",
    "            f6 = float(wall_mat.value)\n",
    "            f7 = float(roof_mat.value)\n",
    "            f8 = float(basement.value)\n",
    "            f9 = float(basement_finish.value)\n",
    "            f10 = float(central_heat.value)\n",
    "            f11 = float(other_heat.value)\n",
    "            f12 = float(central_air.value)\n",
    "            f13 = float(fireplaces.value)\n",
    "            f14 = float(attic_type.value)\n",
    "            f15 = float(attic_finish.value)\n",
    "            f16 = float(design_plan.value)\n",
    "            f17 = float(cathedral_ceiling.value)\n",
    "            f18 = float(garage1_size.value)\n",
    "            f19 = float(garage1_mat.value)\n",
    "            f20 = float(garage1_attach.value)\n",
    "            f21 = float(garage1_area.value)\n",
    "            f22 = float(garage2_size.value)\n",
    "            f23 = float(garage2_mat.value)\n",
    "            f24 = float(garage2_attach.value)\n",
    "            f25 = float(garage2_area.value)\n",
    "            f26 = float(porch.value)\n",
    "            f27 = float(building_square_feet.value)\n",
    "            f28 = float(repair_cond.value)\n",
    "            f29 = float(multi_code.value + 1)\n",
    "            f30 = float(comm_units.value)\n",
    "            f31 = float(longitude.value)\n",
    "            f32 = float(latitude.value)\n",
    "            f33 = float(census_tract.value)\n",
    "            f34 = float(multi_prop_ind.value)\n",
    "            f35 = float(age.value)\n",
    "            f36 = float(use.value)\n",
    "            f37 = float(noise.value)\n",
    "            f38 = float(flood.value)\n",
    "            f39 = float(road_proximity.value)\n",
    "            f40 = float(sale_year.value)\n",
    "            f41 = float(sale_quarter.value)\n",
    "            f42 = float(sale_half_year.value)\n",
    "            f43 = float(sale_month.value)\n",
    "            f44 = float(recent.value)\n",
    "            f45 = float(age_decade.value)\n",
    "            f46 = float(pure_market.value)\n",
    "            f47 = float(garage_indicator.value)\n",
    "            f48 = float(neighborhood_code_unmod.value)\n",
    "            f49 = float(town_and_neighborhood.value)\n",
    "            f50 = float(lot_size.value)\n",
    "        except ValueError:\n",
    "            print(\"Please ensure all inputs are numeric.\")\n",
    "            return\n",
    "        \n",
    "        # Create a new DataFrame with the input values.\n",
    "        new_data = pd.DataFrame([[f1, f2, f3, f4, f5, f6, f7, f8, f9, f10, f11, f12,\n",
    "                                  f13, f14, f15, f16, f17, f18, f19, f20, f21, f22, f23,\n",
    "                                  f24, f25, f26, f27, f28, f29, f30, f31, f32, f33, f34,\n",
    "                                  f35, f36, f37, f38, f39, f40, f41, f42, f43, f44, f45, \n",
    "                                  f46, f47, f48, f49, f50\n",
    "                                 ]], \n",
    "                                columns=['Property_Class', 'Neighborhood_Code', 'Land_Square_Feet', 'Town_Code',\n",
    "       'Apartments', 'Wall_Material', 'Roof_Material', 'Basement',\n",
    "       'Basement_Finish', 'Central_Heating', 'Other_Heating', 'Central_Air',\n",
    "       'Fireplaces', 'Attic_Type', 'Attic_Finish', 'Design_Plan',\n",
    "       'Cathedral_Ceiling', 'Garage_1_Size', 'Garage_1_Material',\n",
    "       'Garage_1_Attachment', 'Garage_1_Area', 'Garage_2_Size',\n",
    "       'Garage_2_Material', 'Garage_2_Attachment', 'Garage_2_Area', 'Porch',\n",
    "       'Building_Square_Feet', 'Repair_Condition', 'Multi_Code',\n",
    "       'Number_of_Commercial_Units', 'Longitude', 'Latitude', 'Census_Tract',\n",
    "       'Multi_Property_Indicator', 'Age', 'Use', \"O'Hare_Noise\", 'Floodplain',\n",
    "       'Road_Proximity', 'Sale_Year', 'Sale_Quarter', 'Sale_Half_Year',\n",
    "       'Sale_Month_of_Year', 'Most_Recent_Sale', 'Age_Decade',\n",
    "       'Pure_Market_Filter', 'Garage_Indicator', 'Neigborhood_Code_mapping',\n",
    "       'Town_and_Neighborhood', 'Lot_Size'])\n",
    "        print(\"New input data:\")\n",
    "        display(new_data)\n",
    "        \n",
    "        def rmse_loss(y_true, y_pred):\n",
    "            return K.sqrt(K.mean(K.square(y_pred - y_true)))\n",
    "\n",
    "        model = tf.keras.models.load_model('best_model.keras',\n",
    "                                          custom_objects = {\"rmse_loss\":rmse_loss})\n",
    "        \n",
    "        # Use the model to make a prediction.\n",
    "        prediction = model.predict(new_data)\n",
    "        \n",
    "        # Display the prediction result.\n",
    "        print(\"Model Prediction:\", prediction[0])\n",
    "\n",
    "# Link the button click event to the callback.\n",
    "submit_button.on_click(on_submit_clicked)\n",
    "\n",
    "# Display all the widgets together.\n",
    "display(property_class, neighborhood_code, land_square_feet,town_code, apartments, \n",
    "        widgets.VBox([wall_mat_html, wall_mat]), widgets.VBox([roof_mat_html, roof_mat]), \n",
    "        widgets.VBox([basement_html, basement]), widgets.VBox([basement_finish_html, basement_finish]),\n",
    "        widgets.VBox([central_heat_html, central_heat]), widgets.VBox([other_heat_html, other_heat]),\n",
    "        widgets.VBox([central_air_html, central_air]), fireplaces, widgets.VBox([attic_type_html, attic_type]),\n",
    "        widgets.VBox([attic_finish_html, attic_finish]), widgets.VBox([design_plan_html, design_plan]),\n",
    "        widgets.VBox([cathedral_ceiling_html, cathedral_ceiling]), garage1_size, widgets.VBox([garage1_mat_html, garage1_mat]),\n",
    "        widgets.VBox([garage1_attach_html, garage1_attach]), widgets.VBox([garage1_area_html, garage1_area]),\n",
    "        garage2_size, widgets.VBox([garage2_mat_html, garage2_mat]), widgets.VBox([garage2_attach_html, garage2_attach]),\n",
    "        widgets.VBox([garage2_area_html, garage2_area]), widgets.VBox([porch_html, porch]), building_square_feet,\n",
    "        widgets.VBox([repair_cond_html, repair_cond]), multi_code, comm_units, longitude, latitude,\n",
    "        census_tract, widgets.VBox([multi_prop_ind_html, multi_prop_ind]), age, \n",
    "        widgets.VBox([use_html, use]), widgets.VBox([noise_html, noise]), \n",
    "        widgets.VBox([flood_html, flood]), widgets.VBox([road_proximity_html, road_proximity]), sale_year, sale_quarter,\n",
    "        sale_half_year, sale_month, widgets.VBox([recent_html, recent]), age_decade,\n",
    "        widgets.VBox([pure_market_html, pure_market]), widgets.VBox([garage_indicator_html, garage_indicator]),\n",
    "        neighborhood_code_unmod, town_and_neighborhood, lot_size,\n",
    "        submit_button, output)"
   ]
  },
  {
   "cell_type": "code",
   "execution_count": null,
   "id": "ef3ba3be-56c7-4678-883f-9a00b876eda5",
   "metadata": {},
   "outputs": [],
   "source": []
  }
 ],
 "metadata": {
  "kernelspec": {
   "display_name": "Python 3 (ipykernel)",
   "language": "python",
   "name": "python3"
  },
  "language_info": {
   "codemirror_mode": {
    "name": "ipython",
    "version": 3
   },
   "file_extension": ".py",
   "mimetype": "text/x-python",
   "name": "python",
   "nbconvert_exporter": "python",
   "pygments_lexer": "ipython3",
   "version": "3.12.4"
  }
 },
 "nbformat": 4,
 "nbformat_minor": 5
}
