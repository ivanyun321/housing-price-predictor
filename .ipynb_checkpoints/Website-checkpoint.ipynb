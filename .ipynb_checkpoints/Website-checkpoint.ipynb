{
 "cells": [
  {
   "cell_type": "code",
   "execution_count": 371,
   "id": "ac7a77c7-91a3-4c94-a231-dcb2ec20a1d7",
   "metadata": {},
   "outputs": [],
   "source": [
    "import ipywidgets as widgets\n",
    "from IPython.display import display, clear_output\n",
    "import pandas as pd\n",
    "\n",
    "import io\n",
    "import contextlib\n",
    "\n",
    "from sklearn.model_selection import train_test_split\n",
    "import numpy as np"
   ]
  },
  {
   "cell_type": "code",
   "execution_count": 373,
   "id": "eb4d16ef-0254-4e9b-a4f6-fa57e1ceef7f",
   "metadata": {},
   "outputs": [],
   "source": [
    "%%capture\n",
    "import tensorflow_decision_forests as tfdf"
   ]
  },
  {
   "cell_type": "code",
   "execution_count": 375,
   "id": "20a8004a-963d-4c5a-a732-df70ded7d5c1",
   "metadata": {},
   "outputs": [],
   "source": [
    "%%capture\n",
    "rf = tfdf.keras.RandomForestModel(task = tfdf.keras.Task.REGRESSION)\n",
    "rf.compile(metrics=['RootMeanSquaredError'])"
   ]
  },
  {
   "cell_type": "code",
   "execution_count": 377,
   "id": "6b650d2e-80db-4676-bf95-a22971d406a8",
   "metadata": {},
   "outputs": [],
   "source": [
    "full_data = pd.read_csv('cook_county_train.csv')\n",
    "full_data.drop(['PIN', 'Construction Quality', 'Site Desirability', 'Other Improvements', 'Deed No.',\n",
    "                   'Sale Half of Year', 'Sale Quarter of Year', 'Description', 'Modeling Group', 'Unnamed: 0', \n",
    "                'Estimate (Building)', 'Estimate (Land)'\n",
    "               ], axis=1, inplace=True)\n",
    "numeric_cols = full_data.select_dtypes(include=['int64', 'float64']).columns.tolist()\n",
    "numeric_ds = full_data[numeric_cols]"
   ]
  },
  {
   "cell_type": "code",
   "execution_count": 406,
   "id": "a8b5c99a-2035-464b-bc3a-c8bbd6ac9058",
   "metadata": {},
   "outputs": [],
   "source": [
    "from sklearn.model_selection import train_test_split\n",
    "from sklearn.preprocessing import StandardScaler\n",
    "import tensorflow as tf\n",
    "\n",
    "def rmse_loss(y_true, y_pred):\n",
    "    return tf.keras.backend.sqrt(tf.keras.backend.mean(tf.keras.backend.square(y_pred - y_true)))\n",
    "\n",
    "X = numeric_ds.drop('Sale Price', axis = 1)\n",
    "y = numeric_ds['Sale Price']\n",
    "\n",
    "X_train, X_test, y_train, y_test = train_test_split(X, y, test_size=0.2)\n",
    "\n",
    "scaler = StandardScaler()\n",
    "X_train = scaler.fit_transform(X_train)\n",
    "X_test = scaler.transform(X_test)\n",
    "input_dim = X_train.shape[1]\n",
    "\n",
    "model = tf.keras.models.Sequential([\n",
    "    tf.keras.layers.Input(shape=(input_dim,)),\n",
    "    tf.keras.layers.Dense(64, activation = 'relu'),\n",
    "    tf.keras.layers.Dense(32, activation = 'relu'),\n",
    "    tf.keras.layers.Dense(1)\n",
    "])\n",
    "\n",
    "model.compile(optimizer = 'adam', loss = rmse_loss, metrics = [tf.keras.metrics.RootMeanSquaredError()])\n",
    "history = model.fit(X_train, y_train, epochs=5, batch_size=32, validation_split=0.2, verbose = 0)\n",
    "\n",
    "# 7. Evaluating the Model\n",
    "loss, rmse = model.evaluate(X_test, y_test, verbose = 0)"
   ]
  },
  {
   "cell_type": "code",
   "execution_count": 381,
   "id": "a7869e4a-24c7-47ac-b126-f21160f75aba",
   "metadata": {
    "collapsed": true,
    "jupyter": {
     "outputs_hidden": true,
     "source_hidden": true
    }
   },
   "outputs": [
    {
     "data": {
      "application/vnd.jupyter.widget-view+json": {
       "model_id": "c4b14dd958bd421ea0b579e6b8757c46",
       "version_major": 2,
       "version_minor": 0
      },
      "text/plain": [
       "Text(value='', description='Property Class:', placeholder='Enter Property Class', style=DescriptionStyle(descr…"
      ]
     },
     "metadata": {},
     "output_type": "display_data"
    },
    {
     "data": {
      "application/vnd.jupyter.widget-view+json": {
       "model_id": "cf68aadc043e4014bc9ae408a3cdac97",
       "version_major": 2,
       "version_minor": 0
      },
      "text/plain": [
       "Text(value='', description='Neighborhood Code as assigned by Assessment office:', layout=Layout(width='600px')…"
      ]
     },
     "metadata": {},
     "output_type": "display_data"
    },
    {
     "data": {
      "application/vnd.jupyter.widget-view+json": {
       "model_id": "420673b08cce440ab7e2709c5cd29e2d",
       "version_major": 2,
       "version_minor": 0
      },
      "text/plain": [
       "Text(value='', description='Land Square Feet:', placeholder='Enter Land Square Feet', style=DescriptionStyle(d…"
      ]
     },
     "metadata": {},
     "output_type": "display_data"
    },
    {
     "data": {
      "application/vnd.jupyter.widget-view+json": {
       "model_id": "b1cead324f784fada59aca37bdba0330",
       "version_major": 2,
       "version_minor": 0
      },
      "text/plain": [
       "Text(value='', description='Town Code:', placeholder='Enter Town Code', style=DescriptionStyle(description_wid…"
      ]
     },
     "metadata": {},
     "output_type": "display_data"
    },
    {
     "data": {
      "application/vnd.jupyter.widget-view+json": {
       "model_id": "5a3daf0a9a7b4774a91d120c8373f605",
       "version_major": 2,
       "version_minor": 0
      },
      "text/plain": [
       "Text(value='', description='Number of Apartments:', layout=Layout(width='300px'), placeholder='Enter Apartment…"
      ]
     },
     "metadata": {},
     "output_type": "display_data"
    },
    {
     "data": {
      "application/vnd.jupyter.widget-view+json": {
       "model_id": "d586e01badae4f62b477464b33701542",
       "version_major": 2,
       "version_minor": 0
      },
      "text/plain": [
       "VBox(children=(HTML(value='\\n    <p>\\n    Select Exterior wall material <br>\\n    1 wood <br>\\n    2 masonry <…"
      ]
     },
     "metadata": {},
     "output_type": "display_data"
    },
    {
     "data": {
      "application/vnd.jupyter.widget-view+json": {
       "model_id": "0a785bcc6cfb4a5c90ee90cb84cbfbe7",
       "version_major": 2,
       "version_minor": 0
      },
      "text/plain": [
       "VBox(children=(HTML(value='\\n    <p>\\n    Select Roof material <br>\\n    1 Shingle/Asphalt <br>\\n    2 Tar & G…"
      ]
     },
     "metadata": {},
     "output_type": "display_data"
    },
    {
     "data": {
      "application/vnd.jupyter.widget-view+json": {
       "model_id": "d0be23003a0242b382d884f1906fddcc",
       "version_major": 2,
       "version_minor": 0
      },
      "text/plain": [
       "VBox(children=(HTML(value='\\n    <p>\\n    Select Basement type <br>\\n    1 Full <br>\\n    2 Slab <br>\\n    3 P…"
      ]
     },
     "metadata": {},
     "output_type": "display_data"
    },
    {
     "data": {
      "application/vnd.jupyter.widget-view+json": {
       "model_id": "2b1063d96a5a4f5d8e476eec447e75e1",
       "version_major": 2,
       "version_minor": 0
      },
      "text/plain": [
       "VBox(children=(HTML(value='\\n    <p>\\n    Select Basement Finish <br>\\n    1 Formal rec room <br>\\n    2 Apart…"
      ]
     },
     "metadata": {},
     "output_type": "display_data"
    },
    {
     "data": {
      "application/vnd.jupyter.widget-view+json": {
       "model_id": "a44a023bd5804677ab5bb576c4f191ce",
       "version_major": 2,
       "version_minor": 0
      },
      "text/plain": [
       "VBox(children=(HTML(value='\\n    <p>\\n    Select Roof material <br>\\n    1 Warm air <br>\\n    2 Hot water stea…"
      ]
     },
     "metadata": {},
     "output_type": "display_data"
    },
    {
     "data": {
      "application/vnd.jupyter.widget-view+json": {
       "model_id": "b8a283079d3541e582f72bda7b7f8415",
       "version_major": 2,
       "version_minor": 0
      },
      "text/plain": [
       "VBox(children=(HTML(value='\\n    <p>\\n    Select Other Heating <br>\\n    1 Floor furnace <br>\\n    2 Unit heat…"
      ]
     },
     "metadata": {},
     "output_type": "display_data"
    },
    {
     "data": {
      "application/vnd.jupyter.widget-view+json": {
       "model_id": "539e9f5b5bfe4bf6910a0a47a4150860",
       "version_major": 2,
       "version_minor": 0
      },
      "text/plain": [
       "VBox(children=(HTML(value='\\n    <p>\\n    Is central airconditioning present? <br>\\n    1 Yes <br>\\n    2 No <…"
      ]
     },
     "metadata": {},
     "output_type": "display_data"
    },
    {
     "data": {
      "application/vnd.jupyter.widget-view+json": {
       "model_id": "270a58dac3fd472ba9ab5678eb317c37",
       "version_major": 2,
       "version_minor": 0
      },
      "text/plain": [
       "Text(value='', description='Number of Fireplaces:', placeholder='Number of Fireplaces', style=DescriptionStyle…"
      ]
     },
     "metadata": {},
     "output_type": "display_data"
    },
    {
     "data": {
      "application/vnd.jupyter.widget-view+json": {
       "model_id": "7310e37cabc04ff283d7ccbe5f43447c",
       "version_major": 2,
       "version_minor": 0
      },
      "text/plain": [
       "VBox(children=(HTML(value='\\n    <p>\\n    Type of Attic? <br>\\n    1 Full <br>\\n    2 Partial <br>\\n    3 None…"
      ]
     },
     "metadata": {},
     "output_type": "display_data"
    },
    {
     "data": {
      "application/vnd.jupyter.widget-view+json": {
       "model_id": "ae7f1accf8b1400ba9c8fd533a58ea2b",
       "version_major": 2,
       "version_minor": 0
      },
      "text/plain": [
       "VBox(children=(HTML(value='\\n    <p>\\n    Select Attic Finish <br>\\n    1 Living Area <br>\\n    2 Apartment <b…"
      ]
     },
     "metadata": {},
     "output_type": "display_data"
    },
    {
     "data": {
      "application/vnd.jupyter.widget-view+json": {
       "model_id": "a75a68c3d5f74dcab81a5b889092400d",
       "version_major": 2,
       "version_minor": 0
      },
      "text/plain": [
       "VBox(children=(HTML(value='\\n    <p>\\n    Select Design Plan <br>\\n    1 Architect <br>\\n    2 Stock Plan <br>…"
      ]
     },
     "metadata": {},
     "output_type": "display_data"
    },
    {
     "data": {
      "application/vnd.jupyter.widget-view+json": {
       "model_id": "2cad26b395144fddb24153d6dd4ae189",
       "version_major": 2,
       "version_minor": 0
      },
      "text/plain": [
       "VBox(children=(HTML(value='\\n    <p>\\n    Cathedral Ceiling? <br>\\n    1 Yes <br>\\n    2 No <br>\\n    </p>'), …"
      ]
     },
     "metadata": {},
     "output_type": "display_data"
    },
    {
     "data": {
      "application/vnd.jupyter.widget-view+json": {
       "model_id": "088f603b09f44419b9a9cd1eb3c168a8",
       "version_major": 2,
       "version_minor": 0
      },
      "text/plain": [
       "Dropdown(description='How many cars can garage 1 fit?:', options=(0, 1, 1.5, 2, 2.5, 3, 3.5, 4), style=Descrip…"
      ]
     },
     "metadata": {},
     "output_type": "display_data"
    },
    {
     "data": {
      "application/vnd.jupyter.widget-view+json": {
       "model_id": "b3857f8c756b4c8c85fc988c39b20481",
       "version_major": 2,
       "version_minor": 0
      },
      "text/plain": [
       "VBox(children=(HTML(value='\\n    <p>\\n    Select Garage 1 Material <br>\\n    1 Frame <br>\\n    2 Masonry <br>\\…"
      ]
     },
     "metadata": {},
     "output_type": "display_data"
    },
    {
     "data": {
      "application/vnd.jupyter.widget-view+json": {
       "model_id": "e0dc7f13235447929ff15d2896e40e2c",
       "version_major": 2,
       "version_minor": 0
      },
      "text/plain": [
       "VBox(children=(HTML(value='\\n    <p>\\n    Is Garage 1 Attached? <br>\\n    1 Yes <br>\\n    2 No <br>\\n    </p>'…"
      ]
     },
     "metadata": {},
     "output_type": "display_data"
    },
    {
     "data": {
      "application/vnd.jupyter.widget-view+json": {
       "model_id": "0c17b1fd3c28427aa07fc826456387c5",
       "version_major": 2,
       "version_minor": 0
      },
      "text/plain": [
       "VBox(children=(HTML(value='\\n    <p>\\n    Is Garage 1 physically included within the building area? <br>\\n    …"
      ]
     },
     "metadata": {},
     "output_type": "display_data"
    },
    {
     "data": {
      "application/vnd.jupyter.widget-view+json": {
       "model_id": "a1f69c4fa1514d4a800ce7d762ec3b53",
       "version_major": 2,
       "version_minor": 0
      },
      "text/plain": [
       "Dropdown(description='How many cars can garage 2 fit?:', options=(0, 1, 1.5, 2, 2.5, 3, 3.5, 4), style=Descrip…"
      ]
     },
     "metadata": {},
     "output_type": "display_data"
    },
    {
     "data": {
      "application/vnd.jupyter.widget-view+json": {
       "model_id": "d7771dc380774512afdcce716519c2a4",
       "version_major": 2,
       "version_minor": 0
      },
      "text/plain": [
       "VBox(children=(HTML(value='\\n    <p>\\n    Select Garage 2 Material <br>\\n    1 Frame <br>\\n    2 Masonry <br>\\…"
      ]
     },
     "metadata": {},
     "output_type": "display_data"
    },
    {
     "data": {
      "application/vnd.jupyter.widget-view+json": {
       "model_id": "063f16371e1c4fe58cd1a9bdf9deea97",
       "version_major": 2,
       "version_minor": 0
      },
      "text/plain": [
       "VBox(children=(HTML(value='\\n    <p>\\n    Is Garage 2 Attached? <br>\\n    1 Yes <br>\\n    2 No <br>\\n    </p>'…"
      ]
     },
     "metadata": {},
     "output_type": "display_data"
    },
    {
     "data": {
      "application/vnd.jupyter.widget-view+json": {
       "model_id": "ca5cf5086b06410b97dab925a56748a0",
       "version_major": 2,
       "version_minor": 0
      },
      "text/plain": [
       "VBox(children=(HTML(value='\\n    <p>\\n    Is Garage 2 physically included within the building area? <br>\\n    …"
      ]
     },
     "metadata": {},
     "output_type": "display_data"
    },
    {
     "data": {
      "application/vnd.jupyter.widget-view+json": {
       "model_id": "9c9222ab491d4cd88d7a1414a25465db",
       "version_major": 2,
       "version_minor": 0
      },
      "text/plain": [
       "VBox(children=(HTML(value='\\n    <p>\\n    Select the type of Porch <br>\\n    1 Frame <br>\\n    2 Masonry <br>\\…"
      ]
     },
     "metadata": {},
     "output_type": "display_data"
    },
    {
     "data": {
      "application/vnd.jupyter.widget-view+json": {
       "model_id": "31d1d690b9264eb386bc3897810014e8",
       "version_major": 2,
       "version_minor": 0
      },
      "text/plain": [
       "Text(value='', description='Building Square Feet:', layout=Layout(width='400px'), placeholder='Enter Building …"
      ]
     },
     "metadata": {},
     "output_type": "display_data"
    },
    {
     "data": {
      "application/vnd.jupyter.widget-view+json": {
       "model_id": "9fefa07da082442695704c6703ab65e7",
       "version_major": 2,
       "version_minor": 0
      },
      "text/plain": [
       "VBox(children=(HTML(value='\\n    <p>\\n    Select Repair Condition <br>\\n    1 Above Average <br>\\n    2 Averag…"
      ]
     },
     "metadata": {},
     "output_type": "display_data"
    },
    {
     "data": {
      "application/vnd.jupyter.widget-view+json": {
       "model_id": "83b9d1fe492149e1957b9e076e3d9463",
       "version_major": 2,
       "version_minor": 0
      },
      "text/plain": [
       "Dropdown(description='How many buildings exists on the pin?:', options=(1, 2, 3, 4, 5, 6), style=DescriptionSt…"
      ]
     },
     "metadata": {},
     "output_type": "display_data"
    },
    {
     "data": {
      "application/vnd.jupyter.widget-view+json": {
       "model_id": "34b6fdf1aa504379acfe0a2749239955",
       "version_major": 2,
       "version_minor": 0
      },
      "text/plain": [
       "Text(value='', description='Commercial Units:', layout=Layout(width='500px'), placeholder='Enter Number of Com…"
      ]
     },
     "metadata": {},
     "output_type": "display_data"
    },
    {
     "data": {
      "application/vnd.jupyter.widget-view+json": {
       "model_id": "48581564bb5246fb923d699ec3e2fa5b",
       "version_major": 2,
       "version_minor": 0
      },
      "text/plain": [
       "Text(value='', description='Board of Review final estimated market value of land from prior tax year:', layout…"
      ]
     },
     "metadata": {},
     "output_type": "display_data"
    },
    {
     "data": {
      "application/vnd.jupyter.widget-view+json": {
       "model_id": "a54ab7f9b20f43c191105993838f3488",
       "version_major": 2,
       "version_minor": 0
      },
      "text/plain": [
       "Text(value='', description='Board of Review final estimated market value of building from prior tax year:', la…"
      ]
     },
     "metadata": {},
     "output_type": "display_data"
    },
    {
     "data": {
      "application/vnd.jupyter.widget-view+json": {
       "model_id": "e04341f4a97f41eeb8d9e1de39363848",
       "version_major": 2,
       "version_minor": 0
      },
      "text/plain": [
       "Text(value='', description='Longitude:', placeholder='Enter Longitude', style=DescriptionStyle(description_wid…"
      ]
     },
     "metadata": {},
     "output_type": "display_data"
    },
    {
     "data": {
      "application/vnd.jupyter.widget-view+json": {
       "model_id": "f54b3358c32b4c6bbecb13f0dce2c294",
       "version_major": 2,
       "version_minor": 0
      },
      "text/plain": [
       "Text(value='', description='Latitude:', placeholder='Enter Latitude', style=DescriptionStyle(description_width…"
      ]
     },
     "metadata": {},
     "output_type": "display_data"
    },
    {
     "data": {
      "application/vnd.jupyter.widget-view+json": {
       "model_id": "7a1888182e6240e69c8035bd3cac90c0",
       "version_major": 2,
       "version_minor": 0
      },
      "text/plain": [
       "Text(value='', description='Census Tract Identifier:', layout=Layout(width='400px'), placeholder='Enter Census…"
      ]
     },
     "metadata": {},
     "output_type": "display_data"
    },
    {
     "data": {
      "application/vnd.jupyter.widget-view+json": {
       "model_id": "a6f133535b66453b9ee663ec01e67195",
       "version_major": 2,
       "version_minor": 0
      },
      "text/plain": [
       "VBox(children=(HTML(value='\\n    <p>\\n    Property with multiple improvements on one PIN? <br>\\n    e.g. a mai…"
      ]
     },
     "metadata": {},
     "output_type": "display_data"
    },
    {
     "data": {
      "application/vnd.jupyter.widget-view+json": {
       "model_id": "e66699ffa8ce47d691e3590239d4bfb5",
       "version_major": 2,
       "version_minor": 0
      },
      "text/plain": [
       "Text(value='', description='Age:', placeholder='Enter Age', style=DescriptionStyle(description_width='initial'…"
      ]
     },
     "metadata": {},
     "output_type": "display_data"
    },
    {
     "data": {
      "application/vnd.jupyter.widget-view+json": {
       "model_id": "0c19ee3132f84f22bc435c6dfc7e1c58",
       "version_major": 2,
       "version_minor": 0
      },
      "text/plain": [
       "VBox(children=(HTML(value='\\n    <p>\\n    Use of property? <br>\\n    1 single family <br>\\n    2 multi-family …"
      ]
     },
     "metadata": {},
     "output_type": "display_data"
    },
    {
     "data": {
      "application/vnd.jupyter.widget-view+json": {
       "model_id": "42bdbcbdc69641deacfd1ba56a161861",
       "version_major": 2,
       "version_minor": 0
      },
      "text/plain": [
       "VBox(children=(HTML(value=\"\\n    <p>\\n    Within 1/4 mile under O'Hare approach flight path? <br>\\n    1 Yes <…"
      ]
     },
     "metadata": {},
     "output_type": "display_data"
    },
    {
     "data": {
      "application/vnd.jupyter.widget-view+json": {
       "model_id": "7843a585dee944c1ad1b7ad7318c7bd5",
       "version_major": 2,
       "version_minor": 0
      },
      "text/plain": [
       "VBox(children=(HTML(value='\\n    <p>\\n    Is the property on a floodplain as defined by FEMA? <br>\\n    1 Yes …"
      ]
     },
     "metadata": {},
     "output_type": "display_data"
    },
    {
     "data": {
      "application/vnd.jupyter.widget-view+json": {
       "model_id": "09110bee5a464607b84f932ff36954bc",
       "version_major": 2,
       "version_minor": 0
      },
      "text/plain": [
       "VBox(children=(HTML(value='\\n    <p>\\n    Within 300 ft of a major road? <br>\\n    1 Yes <br>\\n    2 No <br>\\n…"
      ]
     },
     "metadata": {},
     "output_type": "display_data"
    },
    {
     "data": {
      "application/vnd.jupyter.widget-view+json": {
       "model_id": "f7763928d3a7445eb3db11b153d7e162",
       "version_major": 2,
       "version_minor": 0
      },
      "text/plain": [
       "Text(value='', description='Year of sale:', placeholder='Enter Sale Year', style=DescriptionStyle(description_…"
      ]
     },
     "metadata": {},
     "output_type": "display_data"
    },
    {
     "data": {
      "application/vnd.jupyter.widget-view+json": {
       "model_id": "551626cf30194cf692079db67d6ef87c",
       "version_major": 2,
       "version_minor": 0
      },
      "text/plain": [
       "Text(value='', description='Quarter of Sale:', placeholder='Enter Quarter of Sale', style=DescriptionStyle(des…"
      ]
     },
     "metadata": {},
     "output_type": "display_data"
    },
    {
     "data": {
      "application/vnd.jupyter.widget-view+json": {
       "model_id": "186c1534d1514de88f7c23cd53fe34bb",
       "version_major": 2,
       "version_minor": 0
      },
      "text/plain": [
       "Text(value='', description='Half-year of sale:', placeholder='Enter Half-year of Sale', style=DescriptionStyle…"
      ]
     },
     "metadata": {},
     "output_type": "display_data"
    },
    {
     "data": {
      "application/vnd.jupyter.widget-view+json": {
       "model_id": "c9f11f50203d444db6c01e5a8ffdf8c9",
       "version_major": 2,
       "version_minor": 0
      },
      "text/plain": [
       "Text(value='', description='Sale Month:', placeholder='Enter Month of Sale', style=DescriptionStyle(descriptio…"
      ]
     },
     "metadata": {},
     "output_type": "display_data"
    },
    {
     "data": {
      "application/vnd.jupyter.widget-view+json": {
       "model_id": "87d0b879d8ce48f2b34425dfa989f66c",
       "version_major": 2,
       "version_minor": 0
      },
      "text/plain": [
       "VBox(children=(HTML(value='\\n    <p>\\n    Is this the most recent sale of the property <br>\\n    1 Yes <br>\\n …"
      ]
     },
     "metadata": {},
     "output_type": "display_data"
    },
    {
     "data": {
      "application/vnd.jupyter.widget-view+json": {
       "model_id": "4d05d37193294befa7974c98a09e598a",
       "version_major": 2,
       "version_minor": 0
      },
      "text/plain": [
       "Text(value='', description='Age in Decades:', placeholder='Enter Age in Decades', style=DescriptionStyle(descr…"
      ]
     },
     "metadata": {},
     "output_type": "display_data"
    },
    {
     "data": {
      "application/vnd.jupyter.widget-view+json": {
       "model_id": "f2dba9d72d3c438281784b0c649a9492",
       "version_major": 2,
       "version_minor": 0
      },
      "text/plain": [
       "VBox(children=(HTML(value='\\n    <p>\\n    Is this a pure market sale? <br>\\n    1 Yes <br>\\n    2 No <br>\\n   …"
      ]
     },
     "metadata": {},
     "output_type": "display_data"
    },
    {
     "data": {
      "application/vnd.jupyter.widget-view+json": {
       "model_id": "60aafbdf2cae407e9b5aabdf51fcdbb2",
       "version_major": 2,
       "version_minor": 0
      },
      "text/plain": [
       "VBox(children=(HTML(value='\\n    <p>\\n    Is there a garage? <br>\\n    1 Yes <br>\\n    2 No <br>\\n    </p>'), …"
      ]
     },
     "metadata": {},
     "output_type": "display_data"
    },
    {
     "data": {
      "application/vnd.jupyter.widget-view+json": {
       "model_id": "982c8d7ac593426fa8521f96e3d18698",
       "version_major": 2,
       "version_minor": 0
      },
      "text/plain": [
       "Text(value='', description='Unmodified neighborhood code for mapping:', layout=Layout(width='500px'), placehol…"
      ]
     },
     "metadata": {},
     "output_type": "display_data"
    },
    {
     "data": {
      "application/vnd.jupyter.widget-view+json": {
       "model_id": "29ae2058bf8b49cba4c65372917ed704",
       "version_major": 2,
       "version_minor": 0
      },
      "text/plain": [
       "Text(value='', description='Combination of town and neighborhood:', layout=Layout(width='550px'), placeholder=…"
      ]
     },
     "metadata": {},
     "output_type": "display_data"
    },
    {
     "data": {
      "application/vnd.jupyter.widget-view+json": {
       "model_id": "38a7d78d7c5d4b0095171b8284ae520b",
       "version_major": 2,
       "version_minor": 0
      },
      "text/plain": [
       "Text(value='', description='Lot Size:', placeholder='Enter Lot Size', style=DescriptionStyle(description_width…"
      ]
     },
     "metadata": {},
     "output_type": "display_data"
    },
    {
     "data": {
      "application/vnd.jupyter.widget-view+json": {
       "model_id": "6bdebe3b0e174dfba2bdde26c6b885d4",
       "version_major": 2,
       "version_minor": 0
      },
      "text/plain": [
       "Button(button_style='success', description='Submit', style=ButtonStyle())"
      ]
     },
     "metadata": {},
     "output_type": "display_data"
    },
    {
     "data": {
      "application/vnd.jupyter.widget-view+json": {
       "model_id": "eba85aa00eb44493b557abab06447520",
       "version_major": 2,
       "version_minor": 0
      },
      "text/plain": [
       "Output()"
      ]
     },
     "metadata": {},
     "output_type": "display_data"
    }
   ],
   "source": [
    "import ipywidgets as widgets\n",
    "property_class = widgets.Text(\n",
    "    value='',\n",
    "    placeholder='Enter Property Class',\n",
    "    description='Property Class:',\n",
    "    style={'description_width': 'initial'},\n",
    "    disabled=False\n",
    ")\n",
    "neighborhood_code = widgets.Text(\n",
    "    value='',\n",
    "    placeholder='Enter Neighborhood Code',\n",
    "    description='Neighborhood Code as assigned by Assessment office:',\n",
    "    style={'description_width': 'initial'},\n",
    "    layout=widgets.Layout(width='600px'),\n",
    "    disabled=False\n",
    ")\n",
    "land_square_feet = widgets.Text(\n",
    "    value='',\n",
    "    placeholder='Enter Land Square Feet',\n",
    "    description='Land Square Feet:',\n",
    "    style={'description_width': 'initial'},\n",
    "    disabled=False\n",
    ")\n",
    "\n",
    "town_code = widgets.Text(\n",
    "    value='',\n",
    "    placeholder='Enter Town Code',\n",
    "    description='Town Code:',\n",
    "    style={'description_width': 'initial'},\n",
    "    disabled=False\n",
    ")\n",
    "\n",
    "apartments = widgets.Text(\n",
    "    value='',\n",
    "    placeholder='Enter Apartments',\n",
    "    description='Number of Apartments:',\n",
    "    style={'description_width': 'initial'},\n",
    "    layout=widgets.Layout(width='300px'),\n",
    "    disabled=False\n",
    ")\n",
    "\n",
    "wall_mat_html = widgets.HTML(\n",
    "    value = \"\"\"\n",
    "    <p>\n",
    "    Select Exterior wall material <br>\n",
    "    1 wood <br>\n",
    "    2 masonry <br>\n",
    "    3 wood & masonry <br>\n",
    "    4 stucco\n",
    "    </p>\"\"\"\n",
    ")\n",
    "\n",
    "wall_mat = widgets.Dropdown(\n",
    "    options=[1, 2, 3, 4],\n",
    "    description = \"Choice:\",\n",
    "    style={'description_width': 'initial'},\n",
    "    disabled = False,\n",
    ")\n",
    "\n",
    "\n",
    "roof_mat_html = widgets.HTML(\n",
    "    value = \"\"\"\n",
    "    <p>\n",
    "    Select Roof material <br>\n",
    "    1 Shingle/Asphalt <br>\n",
    "    2 Tar & Gravel <br>\n",
    "    3 Slate <br>\n",
    "    4 Shake <br>\n",
    "    5 Tile <br>\n",
    "    6 Other\n",
    "    </p>\"\"\"\n",
    ")\n",
    "\n",
    "roof_mat = widgets.Dropdown(\n",
    "    options=[1, 2, 3, 4, 5, 6],\n",
    "    description = \"Choice:\",\n",
    "    style={'description_width': 'initial'},\n",
    "    disabled = False,\n",
    ")\n",
    "\n",
    "basement_html = widgets.HTML(\n",
    "    value = \"\"\"\n",
    "    <p>\n",
    "    Select Basement type <br>\n",
    "    1 Full <br>\n",
    "    2 Slab <br>\n",
    "    3 Partial <br>\n",
    "    4 Crawl <br>\n",
    "    </p>\"\"\"\n",
    ")\n",
    "\n",
    "basement = widgets.Dropdown(\n",
    "    options=[1, 2, 3, 4],\n",
    "    description = \"Choice:\",\n",
    "    style={'description_width': 'initial'},\n",
    "    disabled = False,\n",
    ")\n",
    "\n",
    "basement_finish_html = widgets.HTML(\n",
    "    value = \"\"\"\n",
    "    <p>\n",
    "    Select Basement Finish <br>\n",
    "    1 Formal rec room <br>\n",
    "    2 Apartment <br>\n",
    "    3 Unfinished <br>\n",
    "    </p>\"\"\"\n",
    ")\n",
    "\n",
    "basement_finish = widgets.Dropdown(\n",
    "    options=[1, 2, 3],\n",
    "    description = \"Choice:\",\n",
    "    style={'description_width': 'initial'},\n",
    "    disabled = False,\n",
    ")\n",
    "\n",
    "central_heat_html = widgets.HTML(\n",
    "    value = \"\"\"\n",
    "    <p>\n",
    "    Select Roof material <br>\n",
    "    1 Warm air <br>\n",
    "    2 Hot water steam <br>\n",
    "    3 Electric <br>\n",
    "    4 Other <br>\n",
    "    </p>\"\"\"\n",
    ")\n",
    "\n",
    "central_heat = widgets.Dropdown(\n",
    "    options=[1, 2, 3, 4],\n",
    "    description = \"Choice:\",\n",
    "    style={'description_width': 'initial'},\n",
    "    disabled = False,\n",
    ")\n",
    "\n",
    "other_heat_html = widgets.HTML(\n",
    "    value = \"\"\"\n",
    "    <p>\n",
    "    Select Other Heating <br>\n",
    "    1 Floor furnace <br>\n",
    "    2 Unit heater <br>\n",
    "    3 Stove <br>\n",
    "    4 Solar <br>\n",
    "    5 None <br>\n",
    "    </p>\"\"\"\n",
    ")\n",
    "\n",
    "other_heat = widgets.Dropdown(\n",
    "    options=[1, 2, 3, 4, 5],\n",
    "    description = \"Choice:\",\n",
    "    style={'description_width': 'initial'},\n",
    "    disabled = False,\n",
    ")\n",
    "\n",
    "\n",
    "central_air_html = widgets.HTML(\n",
    "    value = \"\"\"\n",
    "    <p>\n",
    "    Is central airconditioning present? <br>\n",
    "    1 Yes <br>\n",
    "    2 No <br>\n",
    "    </p>\"\"\"\n",
    ")\n",
    "\n",
    "central_air = widgets.Dropdown(\n",
    "    options=[1, 2],\n",
    "    description = \"Choice:\",\n",
    "    style={'description_width': 'initial'},\n",
    "    disabled = False,\n",
    ")\n",
    "\n",
    "fireplaces = widgets.Text(\n",
    "    value='',\n",
    "    placeholder='Number of Fireplaces',\n",
    "    description='Number of Fireplaces:',\n",
    "    style={'description_width': 'initial'},\n",
    "    disabled=False\n",
    ")\n",
    "\n",
    "attic_type_html = widgets.HTML(\n",
    "    value = \"\"\"\n",
    "    <p>\n",
    "    Type of Attic? <br>\n",
    "    1 Full <br>\n",
    "    2 Partial <br>\n",
    "    3 None <br>\n",
    "    </p>\"\"\"\n",
    ")\n",
    "\n",
    "attic_type = widgets.Dropdown(\n",
    "    options=[1, 2, 3],\n",
    "    description = \"Choice:\",\n",
    "    style={'description_width': 'initial'},\n",
    "    disabled = False,\n",
    ")\n",
    "\n",
    "attic_finish_html = widgets.HTML(\n",
    "    value = \"\"\"\n",
    "    <p>\n",
    "    Select Attic Finish <br>\n",
    "    1 Living Area <br>\n",
    "    2 Apartment <br>\n",
    "    3 Unfinished <br>\n",
    "    </p>\"\"\"\n",
    ")\n",
    "\n",
    "attic_finish = widgets.Dropdown(\n",
    "    options=[1, 2, 3],\n",
    "    description = \"Choice:\",\n",
    "    style={'description_width': 'initial'},\n",
    "    disabled = False,\n",
    ")\n",
    "\n",
    "design_plan_html = widgets.HTML(\n",
    "    value = \"\"\"\n",
    "    <p>\n",
    "    Select Design Plan <br>\n",
    "    1 Architect <br>\n",
    "    2 Stock Plan <br>\n",
    "    </p>\"\"\"\n",
    ")\n",
    "\n",
    "design_plan = widgets.Dropdown(\n",
    "    options=[1, 2],\n",
    "    description = \"Choice:\",\n",
    "    style={'description_width': 'initial'},\n",
    "    disabled = False,\n",
    ")\n",
    "\n",
    "cathedral_ceiling_html = widgets.HTML(\n",
    "    value = \"\"\"\n",
    "    <p>\n",
    "    Cathedral Ceiling? <br>\n",
    "    1 Yes <br>\n",
    "    2 No <br>\n",
    "    </p>\"\"\"\n",
    ")\n",
    "\n",
    "cathedral_ceiling = widgets.Dropdown(\n",
    "    options=[1, 2],\n",
    "    description = \"Choice:\",\n",
    "    style={'description_width': 'initial'},\n",
    "    disabled = False,\n",
    ")\n",
    "\n",
    "garage1_size = widgets.Dropdown(\n",
    "    options=[0, 1, 1.5, 2, 2.5, 3, 3.5, 4],\n",
    "    description = \"How many cars can garage 1 fit?:\",\n",
    "    style={'description_width': 'initial'},\n",
    "    disabled = False,\n",
    ")\n",
    "\n",
    "garage1_mat_html = widgets.HTML(\n",
    "    value = \"\"\"\n",
    "    <p>\n",
    "    Select Garage 1 Material <br>\n",
    "    1 Frame <br>\n",
    "    2 Masonry <br>\n",
    "    3 Frame/Masony <br>\n",
    "    4 Stucco <br>\n",
    "    </p>\"\"\"\n",
    ")\n",
    "\n",
    "garage1_mat = widgets.Dropdown(\n",
    "    options=[1, 2, 3, 4],\n",
    "    description = \"Choice:\",\n",
    "    style={'description_width': 'initial'},\n",
    "    disabled = False,\n",
    ")\n",
    "\n",
    "garage1_attach_html = widgets.HTML(\n",
    "    value = \"\"\"\n",
    "    <p>\n",
    "    Is Garage 1 Attached? <br>\n",
    "    1 Yes <br>\n",
    "    2 No <br>\n",
    "    </p>\"\"\"\n",
    ")\n",
    "\n",
    "\n",
    "garage1_attach = widgets.Dropdown(\n",
    "    options=[1, 2],\n",
    "    description = \"Choice:\",\n",
    "    style={'description_width': 'initial'},\n",
    "    disabled = False,\n",
    ")\n",
    "\n",
    "garage1_area_html = widgets.HTML(\n",
    "    value = \"\"\"\n",
    "    <p>\n",
    "    Is Garage 1 physically included within the building area? <br>\n",
    "    1 Yes <br>\n",
    "    2 No <br>\n",
    "    </p>\"\"\"\n",
    ")\n",
    "\n",
    "garage1_area = widgets.Dropdown(\n",
    "    options=[1, 2],\n",
    "    description = \"Choice:\",\n",
    "    style={'description_width': 'initial'},\n",
    "    disabled = False,\n",
    ")\n",
    "\n",
    "garage2_size = widgets.Dropdown(\n",
    "    options=[0, 1, 1.5, 2, 2.5, 3, 3.5, 4],\n",
    "    description = \"How many cars can garage 2 fit?:\",\n",
    "    style={'description_width': 'initial'},\n",
    "    disabled = False,\n",
    ")\n",
    "\n",
    "garage2_mat_html = widgets.HTML(\n",
    "    value = \"\"\"\n",
    "    <p>\n",
    "    Select Garage 2 Material <br>\n",
    "    1 Frame <br>\n",
    "    2 Masonry <br>\n",
    "    3 Frame/Masony <br>\n",
    "    4 Stucco <br>\n",
    "    </p>\"\"\"\n",
    ")\n",
    "\n",
    "garage2_mat = widgets.Dropdown(\n",
    "    options=[1, 2, 3, 4],\n",
    "    description = \"Choice:\",\n",
    "    style={'description_width': 'initial'},\n",
    "    disabled = False,\n",
    ")\n",
    "\n",
    "garage2_attach_html = widgets.HTML(\n",
    "    value = \"\"\"\n",
    "    <p>\n",
    "    Is Garage 2 Attached? <br>\n",
    "    1 Yes <br>\n",
    "    2 No <br>\n",
    "    </p>\"\"\"\n",
    ")\n",
    "\n",
    "garage2_attach = widgets.Dropdown(\n",
    "    options=[1, 2],\n",
    "    description = \"Choice:\",\n",
    "    style={'description_width': 'initial'},\n",
    "    disabled = False,\n",
    ")\n",
    "\n",
    "garage2_area_html = widgets.HTML(\n",
    "    value = \"\"\"\n",
    "    <p>\n",
    "    Is Garage 2 physically included within the building area? <br>\n",
    "    1 Yes <br>\n",
    "    2 No <br>\n",
    "    </p>\"\"\"\n",
    ")\n",
    "\n",
    "garage2_area = widgets.Dropdown(\n",
    "    options=[1, 2],\n",
    "    description = \"Choice:\",\n",
    "    style={'description_width': 'initial'},\n",
    "    disabled = False,\n",
    ")\n",
    "\n",
    "porch_html = widgets.HTML(\n",
    "    value = \"\"\"\n",
    "    <p>\n",
    "    Select the type of Porch <br>\n",
    "    1 Frame <br>\n",
    "    2 Masonry <br>\n",
    "    3 None <br>\n",
    "    </p>\"\"\"\n",
    ")\n",
    "\n",
    "porch = widgets.Dropdown(\n",
    "    options=[1, 2, 3],\n",
    "    description = \"Choice:\",\n",
    "    style={'description_width': 'initial'},\n",
    "    disabled = False,\n",
    ")\n",
    "\n",
    "building_square_feet = widgets.Text(\n",
    "    value='',\n",
    "    placeholder='Enter Building Square Feet',\n",
    "    description='Building Square Feet:',\n",
    "    style={'description_width': 'initial'},\n",
    "    layout=widgets.Layout(width='400px'),\n",
    "    disabled=False\n",
    ")\n",
    "\n",
    "repair_cond_html = widgets.HTML(\n",
    "    value = \"\"\"\n",
    "    <p>\n",
    "    Select Repair Condition <br>\n",
    "    1 Above Average <br>\n",
    "    2 Average <br>\n",
    "    3 Below Average <br>\n",
    "    </p>\"\"\"\n",
    ")\n",
    "\n",
    "repair_cond = widgets.Dropdown(\n",
    "    options=[1, 2, 3],\n",
    "    description = \"Choice:\",\n",
    "    style={'description_width': 'initial'},\n",
    "    disabled = False,\n",
    ")\n",
    "\n",
    "multi_code = widgets.Dropdown(\n",
    "    options=[1, 2, 3, 4, 5, 6],\n",
    "    description = \"How many buildings exists on the pin?:\",\n",
    "    style={'description_width': 'initial'},\n",
    "    disabled = False,\n",
    ")\n",
    "\n",
    "comm_units = widgets.Text(\n",
    "    value='',\n",
    "    placeholder='Enter Number of Commercial Units',\n",
    "    description='Commercial Units:',\n",
    "    style = {'description_width':'initial'},\n",
    "    layout=widgets.Layout(width='500px'),\n",
    "    disabled=False\n",
    ")\n",
    "\n",
    "longitude = widgets.Text(\n",
    "    value='',\n",
    "    placeholder='Enter Longitude',\n",
    "    description='Longitude:',\n",
    "    style = {'description_width':'initial'},\n",
    "    disabled=False\n",
    ")\n",
    "\n",
    "latitude = widgets.Text(\n",
    "    value='',\n",
    "    placeholder='Enter Latitude',\n",
    "    description='Latitude:',\n",
    "    style = {'description_width':'initial'},\n",
    "    disabled=False\n",
    ")\n",
    "\n",
    "census_tract = widgets.Text(\n",
    "    value='',\n",
    "    placeholder='Enter Census Tract Identifier',\n",
    "    description='Census Tract Identifier:',\n",
    "    style = {'description_width':'initial'},\n",
    "    layout=widgets.Layout(width='400px'),\n",
    "    disabled=False\n",
    ")\n",
    "\n",
    "multi_prop_ind_html = widgets.HTML(\n",
    "    value = \"\"\"\n",
    "    <p>\n",
    "    Property with multiple improvements on one PIN? <br>\n",
    "    e.g. a main house and a couch house, not to be confused with <br>\n",
    "    property which was part of a multi-pin sale <br>\n",
    "    1 Yes <br>\n",
    "    2 No <br>\n",
    "    </p>\"\"\"\n",
    ")\n",
    "\n",
    "multi_prop_ind = widgets.Dropdown(\n",
    "    options=[1, 2],\n",
    "    description = \"Choice:\",\n",
    "    style={'description_width': 'initial'},\n",
    "    disabled = False,\n",
    ")\n",
    "\n",
    "age = widgets.Text(\n",
    "    value='',\n",
    "    placeholder='Enter Age',\n",
    "    description='Age:',\n",
    "    style = {'description_width':'initial'},\n",
    "    disabled=False\n",
    ")\n",
    "\n",
    "use_html = widgets.HTML(\n",
    "    value = \"\"\"\n",
    "    <p>\n",
    "    Use of property? <br>\n",
    "    1 single family <br>\n",
    "    2 multi-family <br>\n",
    "    </p>\"\"\"\n",
    ")\n",
    "\n",
    "use = widgets.Dropdown(\n",
    "    options=[1, 2],\n",
    "    description = \"Choice:\",\n",
    "    style={'description_width': 'initial'},\n",
    "    disabled = False,\n",
    ")\n",
    "\n",
    "noise_html = widgets.HTML(\n",
    "    value = \"\"\"\n",
    "    <p>\n",
    "    Within 1/4 mile under O'Hare approach flight path? <br>\n",
    "    1 Yes <br>\n",
    "    2 No <br>\n",
    "    </p>\"\"\"\n",
    ")\n",
    "\n",
    "noise = widgets.Dropdown(\n",
    "    options=[1, 2],\n",
    "    description = \"Choice:\",\n",
    "    style={'description_width': 'initial'},\n",
    "    disabled = False,\n",
    ")\n",
    "\n",
    "flood_html = widgets.HTML(\n",
    "    value = \"\"\"\n",
    "    <p>\n",
    "    Is the property on a floodplain as defined by FEMA? <br>\n",
    "    1 Yes <br>\n",
    "    2 No <br>\n",
    "    </p>\"\"\"\n",
    ")\n",
    "\n",
    "flood = widgets.Dropdown(\n",
    "    options=[1, 2],\n",
    "    description = \"Choice:\",\n",
    "    style={'description_width': 'initial'},\n",
    "    disabled = False,\n",
    ")\n",
    "\n",
    "road_proximity_html = widgets.HTML(\n",
    "    value = \"\"\"\n",
    "    <p>\n",
    "    Within 300 ft of a major road? <br>\n",
    "    1 Yes <br>\n",
    "    2 No <br>\n",
    "    </p>\"\"\"\n",
    ")\n",
    "\n",
    "road_proximity = widgets.Dropdown(\n",
    "    options=[1, 2],\n",
    "    description = \"Choice:\",\n",
    "    style={'description_width': 'initial'},\n",
    "    disabled = False,\n",
    ")\n",
    "\n",
    "sale_year = widgets.Text(\n",
    "    value='',\n",
    "    placeholder='Enter Sale Year',\n",
    "    description='Year of sale:',\n",
    "    style = {'description_width':'initial'},\n",
    "    disabled=False\n",
    ")\n",
    "\n",
    "sale_quarter = widgets.Text(\n",
    "    value='',\n",
    "    placeholder='Enter Quarter of Sale',\n",
    "    description='Quarter of Sale:',\n",
    "    style = {'description_width':'initial'},\n",
    "    disabled=False\n",
    ")\n",
    "\n",
    "sale_half_year = widgets.Text(\n",
    "    value='',\n",
    "    placeholder='Enter Half-year of Sale',\n",
    "    description='Half-year of sale:',\n",
    "    style = {'description_width':'initial'},\n",
    "    disabled=False\n",
    ")\n",
    "\n",
    "sale_month = widgets.Text(\n",
    "    value='',\n",
    "    placeholder='Enter Month of Sale',\n",
    "    description='Sale Month:',\n",
    "    style = {'description_width':'initial'},\n",
    "    disabled=False\n",
    ")\n",
    "\n",
    "recent_html = widgets.HTML(\n",
    "    value = \"\"\"\n",
    "    <p>\n",
    "    Is this the most recent sale of the property <br>\n",
    "    1 Yes <br>\n",
    "    2 No <br>\n",
    "    </p>\"\"\"\n",
    ")\n",
    "\n",
    "recent = widgets.Dropdown(\n",
    "    options=[1, 2],\n",
    "    description = \"Choice:\",\n",
    "    style={'description_width': 'initial'},\n",
    "    disabled = False,\n",
    ")\n",
    "\n",
    "age_decade = widgets.Text(\n",
    "    value='',\n",
    "    placeholder='Enter Age in Decades',\n",
    "    description='Age in Decades:',\n",
    "    style = {'description_width':'initial'},\n",
    "    disabled=False\n",
    ")\n",
    "\n",
    "pure_market_html = widgets.HTML(\n",
    "    value = \"\"\"\n",
    "    <p>\n",
    "    Is this a pure market sale? <br>\n",
    "    1 Yes <br>\n",
    "    2 No <br>\n",
    "    </p>\"\"\"\n",
    ")\n",
    "\n",
    "pure_market = widgets.Dropdown(\n",
    "    options=[1, 2],\n",
    "    description = \"Choice:\",\n",
    "    style={'description_width': 'initial'},\n",
    "    disabled = False,\n",
    ")\n",
    "\n",
    "garage_indicator_html = widgets.HTML(\n",
    "    value = \"\"\"\n",
    "    <p>\n",
    "    Is there a garage? <br>\n",
    "    1 Yes <br>\n",
    "    2 No <br>\n",
    "    </p>\"\"\"\n",
    ")\n",
    "\n",
    "garage_indicator = widgets.Dropdown(\n",
    "    options=[1, 2],\n",
    "    description = \"Choice:\",\n",
    "    style={'description_width': 'initial'},\n",
    "    disabled = False,\n",
    ")\n",
    "\n",
    "neighborhood_code_unmod = widgets.Text(\n",
    "    value='',\n",
    "    placeholder='Enter Neighborhood Code',\n",
    "    description='Unmodified neighborhood code for mapping:',\n",
    "    style = {'description_width':'initial'},\n",
    "    layout=widgets.Layout(width='500px'),\n",
    "    disabled=False\n",
    ")\n",
    "\n",
    "town_and_neighborhood = widgets.Text(\n",
    "    value='',\n",
    "    placeholder='Enter Combination of Town and Neighborhood',\n",
    "    description='Combination of town and neighborhood:',\n",
    "    style = {'description_width':'initial'},\n",
    "    layout=widgets.Layout(width='550px'),\n",
    "    disabled=False\n",
    ")\n",
    "\n",
    "lot_size = widgets.Text(\n",
    "    value='',\n",
    "    placeholder='Enter Lot Size',\n",
    "    description='Lot Size:',\n",
    "    style = {'description_width':'initial'},\n",
    "    disabled=False\n",
    ")\n",
    "\n",
    "# Create a submit button.\n",
    "submit_button = widgets.Button(\n",
    "    description='Submit',\n",
    "    button_style='success'\n",
    ")\n",
    "\n",
    "# Output widget to display results.\n",
    "output = widgets.Output()\n",
    "\n",
    "# Define the callback function for the button click.\n",
    "def on_submit_clicked(b):\n",
    "    with output:\n",
    "        clear_output()  # Clear previous output\n",
    "        \n",
    "        # Read values from text boxes.\n",
    "        try:\n",
    "            # Convert text inputs to float or int.\n",
    "            f1 = float(property_class.value)\n",
    "            f2 = float(neighborhood_code.value)\n",
    "            f3 = float(land_square_feet.value)\n",
    "            f4 = float(town_code.value)\n",
    "            f5 = float(apartments.value)\n",
    "            f6 = float(wall_mat.value)\n",
    "            f7 = float(roof_mat.value)\n",
    "            f8 = float(basement.value)\n",
    "            f9 = float(basement_finish.value)\n",
    "            f10 = float(central_heat.value)\n",
    "            f11 = float(other_heat.value)\n",
    "            f12 = float(central_air.value)\n",
    "            f13 = float(fireplaces.value)\n",
    "            f14 = float(attic_type.value)\n",
    "            f15 = float(attic_finish.value)\n",
    "            f16 = float(design_plan.value)\n",
    "            f17 = float(cathedral_ceiling.value)\n",
    "            f18 = float(garage1_size.value)\n",
    "            f19 = float(garage1_mat.value)\n",
    "            f20 = float(garage1_attach.value)\n",
    "            f21 = float(garage1_area.value)\n",
    "            f22 = float(garage2_size.value)\n",
    "            f23 = float(garage2_mat.value)\n",
    "            f24 = float(garage2_attach.value)\n",
    "            f25 = float(garage2_area.value)\n",
    "            f26 = float(porch.value)\n",
    "            f27 = float(building_square_feet.value)\n",
    "            f28 = float(repair_cond.value)\n",
    "            f29 = float(multi_code.value + 1)\n",
    "            f30 = float(comm_units.value)\n",
    "            f31 = float(longitude.value)\n",
    "            f32 = float(latitude.value)\n",
    "            f33 = float(census_tract.value)\n",
    "            f34 = float(multi_prop_ind.value)\n",
    "            f35 = float(age.value)\n",
    "            f36 = float(use.value)\n",
    "            f37 = float(noise.value)\n",
    "            f38 = float(flood.value)\n",
    "            f39 = float(road_proximity.value)\n",
    "            f40 = float(sale_year.value)\n",
    "            f41 = float(sale_quarter.value)\n",
    "            f42 = float(sale_half_year.value)\n",
    "            f43 = float(sale_month.value)\n",
    "            f44 = float(recent.value)\n",
    "            f45 = float(age_decade.value)\n",
    "            f46 = float(pure_market.value)\n",
    "            f47 = float(garage_indicator.value)\n",
    "            f48 = float(neighborhood_code_unmod.value)\n",
    "            f49 = float(town_and_neighborhood.value)\n",
    "            f50 = float(lot_size.value)\n",
    "        except ValueError:\n",
    "            print(\"Please ensure all inputs are numeric.\")\n",
    "            return\n",
    "        \n",
    "        # Create a new DataFrame with the input values.\n",
    "        new_data = pd.DataFrame([[f1, f2, f3, f4, f5, f6, f7, f8, f9, f10, f11, f12,\n",
    "                                  f13, f14, f15, f16, f17, f18, f19, f20, f21, f22, f23,\n",
    "                                  f24, f25, f26, f27, f28, f29, f30, f31, f32, f33, f34,\n",
    "                                  f35, f36, f37, f38, f39, f40, f41, f42, f43, f44, f45, \n",
    "                                  f46, f47, f48, f49, f50\n",
    "                                 ]], \n",
    "                                columns=['Property_Class', 'Neighborhood_Code', 'Land_Square_Feet', 'Town_Code',\n",
    "       'Apartments', 'Wall_Material', 'Roof_Material', 'Basement',\n",
    "       'Basement_Finish', 'Central_Heating', 'Other_Heating', 'Central_Air',\n",
    "       'Fireplaces', 'Attic_Type', 'Attic_Finish', 'Design_Plan',\n",
    "       'Cathedral_Ceiling', 'Garage_1_Size', 'Garage_1_Material',\n",
    "       'Garage_1_Attachment', 'Garage_1_Area', 'Garage_2_Size',\n",
    "       'Garage_2_Material', 'Garage_2_Attachment', 'Garage_2_Area', 'Porch',\n",
    "       'Building_Square_Feet', 'Repair_Condition', 'Multi_Code',\n",
    "       'Number_of_Commercial_Units', 'Longitude', 'Latitude', 'Census_Tract',\n",
    "       'Multi_Property_Indicator', 'Age', 'Use', \"O'Hare_Noise\", 'Floodplain',\n",
    "       'Road_Proximity', 'Sale_Year', 'Sale_Quarter', 'Sale_Half_Year',\n",
    "       'Sale_Month_of_Year', 'Most_Recent_Sale', 'Age_Decade',\n",
    "       'Pure_Market_Filter', 'Garage_Indicator', 'Neigborhood_Code_mapping',\n",
    "       'Town_and_Neighborhood', 'Lot_Size'])\n",
    "        print(\"New input data:\")\n",
    "        display(new_data)\n",
    "        \n",
    "        # Use the model to make a prediction.\n",
    "        prediction = model.predict(new_data)\n",
    "        \n",
    "        # Display the prediction result.\n",
    "        print(\"Model Prediction:\", prediction[0])\n",
    "\n",
    "# Link the button click event to the callback.\n",
    "submit_button.on_click(on_submit_clicked)\n",
    "\n",
    "# Display all the widgets together.\n",
    "display(property_class, neighborhood_code, land_square_feet,town_code, apartments, \n",
    "        widgets.VBox([wall_mat_html, wall_mat]), widgets.VBox([roof_mat_html, roof_mat]), \n",
    "        widgets.VBox([basement_html, basement]), widgets.VBox([basement_finish_html, basement_finish]),\n",
    "        widgets.VBox([central_heat_html, central_heat]), widgets.VBox([other_heat_html, other_heat]),\n",
    "        widgets.VBox([central_air_html, central_air]), fireplaces, widgets.VBox([attic_type_html, attic_type]),\n",
    "        widgets.VBox([attic_finish_html, attic_finish]), widgets.VBox([design_plan_html, design_plan]),\n",
    "        widgets.VBox([cathedral_ceiling_html, cathedral_ceiling]), garage1_size, widgets.VBox([garage1_mat_html, garage1_mat]),\n",
    "        widgets.VBox([garage1_attach_html, garage1_attach]), widgets.VBox([garage1_area_html, garage1_area]),\n",
    "        garage2_size, widgets.VBox([garage2_mat_html, garage2_mat]), widgets.VBox([garage2_attach_html, garage2_attach]),\n",
    "        widgets.VBox([garage2_area_html, garage2_area]), widgets.VBox([porch_html, porch]), building_square_feet,\n",
    "        widgets.VBox([repair_cond_html, repair_cond]), multi_code, comm_units, longitude, latitude,\n",
    "        census_tract, widgets.VBox([multi_prop_ind_html, multi_prop_ind]), age, \n",
    "        widgets.VBox([use_html, use]), widgets.VBox([noise_html, noise]), \n",
    "        widgets.VBox([flood_html, flood]), widgets.VBox([road_proximity_html, road_proximity]), sale_year, sale_quarter,\n",
    "        sale_half_year, sale_month, widgets.VBox([recent_html, recent]), age_decade,\n",
    "        widgets.VBox([pure_market_html, pure_market]), widgets.VBox([garage_indicator_html, garage_indicator]),\n",
    "        neighborhood_code_unmod, town_and_neighborhood, lot_size,\n",
    "        submit_button, output)"
   ]
  },
  {
   "cell_type": "code",
   "execution_count": null,
   "id": "ef3ba3be-56c7-4678-883f-9a00b876eda5",
   "metadata": {},
   "outputs": [],
   "source": []
  }
 ],
 "metadata": {
  "kernelspec": {
   "display_name": "Python 3 (ipykernel)",
   "language": "python",
   "name": "python3"
  },
  "language_info": {
   "codemirror_mode": {
    "name": "ipython",
    "version": 3
   },
   "file_extension": ".py",
   "mimetype": "text/x-python",
   "name": "python",
   "nbconvert_exporter": "python",
   "pygments_lexer": "ipython3",
   "version": "3.12.4"
  }
 },
 "nbformat": 4,
 "nbformat_minor": 5
}
