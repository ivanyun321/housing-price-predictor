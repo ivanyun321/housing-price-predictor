{
 "cells": [
  {
   "cell_type": "code",
   "execution_count": 2,
   "id": "95718af6-bb29-4695-81de-66492cb66a9e",
   "metadata": {},
   "outputs": [],
   "source": [
    "import numpy as np\n",
    "import pandas as pd\n",
    "\n",
    "%matplotlib inline\n",
    "import matplotlib.pyplot as plt\n",
    "import seaborn as sns\n",
    "from sklearn import linear_model as lm\n",
    "\n",
    "import zipfile\n",
    "import os\n",
    "\n",
    "import tensorflow as tf\n",
    "from tensorflow.keras.optimizers import Adam\n",
    "\n",
    "from helper_functions import *\n",
    "from sklearn.model_selection import train_test_split\n",
    "from sklearn.preprocessing import StandardScaler\n",
    "from tensorflow.keras.models import Sequential\n",
    "from tensorflow.keras import backend as K\n",
    "from tensorflow.keras.layers import Input, Dense\n",
    "\n",
    "plt.rcParams['figure.figsize'] = (12, 9)\n",
    "plt.rcParams['font.size'] = 12"
   ]
  },
  {
   "cell_type": "code",
   "execution_count": 4,
   "id": "d3155049-aef6-404d-b506-be26f8ea1e60",
   "metadata": {},
   "outputs": [],
   "source": [
    "full_data = pd.read_csv('cook_county_train.csv')\n",
    "full_data = log_transform(full_data, 'Sale Price')\n",
    "full_data.drop(['PIN', 'Construction Quality', 'Site Desirability', 'Other Improvements', 'Deed No.',\n",
    "                   'Sale Half of Year', 'Sale Quarter of Year', 'Description', 'Modeling Group', 'Unnamed: 0', \n",
    "                'Estimate (Land)', 'Estimate (Building)'\n",
    "               ], axis=1, inplace=True)"
   ]
  },
  {
   "cell_type": "code",
   "execution_count": 6,
   "id": "70838a89-c373-411f-ac3b-82701321412b",
   "metadata": {},
   "outputs": [],
   "source": [
    "X = full_data.drop(['Sale Price', 'Log Sale Price'], axis = 1)\n",
    "y = full_data['Sale Price']\n",
    "\n",
    "X_train, X_test, y_train, y_test = train_test_split(X, y, test_size=0.2)\n",
    "\n",
    "scaler = StandardScaler()\n",
    "X_train = scaler.fit_transform(X_train)\n",
    "X_test = scaler.transform(X_test)\n",
    "input_dim = X_train.shape[1]"
   ]
  },
  {
   "cell_type": "code",
   "execution_count": 8,
   "id": "beeb89b1-263f-4188-bfb0-487f15a5ee9b",
   "metadata": {},
   "outputs": [],
   "source": [
    "def nn_rmse(y_true, y_pred):\n",
    "    return K.sqrt(K.mean(K.square(y_pred - y_true)))"
   ]
  },
  {
   "cell_type": "code",
   "execution_count": 10,
   "id": "76721bc8-b7b0-4dd1-96ce-be057ba7432f",
   "metadata": {},
   "outputs": [],
   "source": [
    "def build_model(num_layers, input_dim):\n",
    "    model = Sequential()\n",
    "    model.add(Input(shape=(input_dim,)), Dense(64, activation = 'relu'))\n",
    "\n",
    "    for _ in range(num_layers - 1):\n",
    "        model.add(Dense(64, activation = 'relu'))\n",
    "\n",
    "    model.add(Dense(1, activation = 'linear'))\n",
    "    model.compile(\n",
    "        optimizer = Adam(learning_rate = 0.001),\n",
    "        loss = nn_rmse,\n",
    "        metrics = ['RootMeanSquaredError']\n",
    "    )\n",
    "    return model"
   ]
  },
  {
   "cell_type": "code",
   "execution_count": null,
   "id": "ba94b246-f1a6-4fb5-b136-d640561d0763",
   "metadata": {},
   "outputs": [],
   "source": [
    "layer_options = [10, 11, 12, 13, 14, 15]\n",
    "results = []\n",
    "for num_layers in layer_options:\n",
    "    model = build_model(num_layers, input_dim = X_train.shape[1])\n",
    "    history = model.fit(\n",
    "        X_train, y_train,\n",
    "        epochs = 5,\n",
    "        batch_size = 32,\n",
    "        validation_split = 0.2,\n",
    "        verbose = 0\n",
    "    )\n",
    "    final_val_loss = history.history['val_loss'][-1]\n",
    "    final_val_rmse  = history.history['val_RootMeanSquaredError'][-1]\n",
    "\n",
    "    results.append((num_layers, final_val_loss, final_val_rmse))\n",
    "for (layers, loss, rmse) in results:\n",
    "    print(f\"Layers: {layers} | Final Val Loss: {loss:.4f} | Final Val RMSE: {rmse:.4f}\")\n",
    "\n",
    "best_config = min(results, key=lambda x: x[1])\n",
    "print(f\"\\nBest configuration based on validation loss: {best_config[0]} layers\")"
   ]
  },
  {
   "cell_type": "code",
   "execution_count": 17,
   "id": "120e2c7f-002a-45ca-8add-47ee54a9702f",
   "metadata": {
    "scrolled": true
   },
   "outputs": [
    {
     "ename": "NameError",
     "evalue": "name 'nn_rmse' is not defined",
     "output_type": "error",
     "traceback": [
      "\u001b[0;31m---------------------------------------------------------------------------\u001b[0m",
      "\u001b[0;31mNameError\u001b[0m                                 Traceback (most recent call last)",
      "Cell \u001b[0;32mIn[17], line 18\u001b[0m\n\u001b[1;32m      9\u001b[0m input_dim \u001b[38;5;241m=\u001b[39m X_train\u001b[38;5;241m.\u001b[39mshape[\u001b[38;5;241m1\u001b[39m]\n\u001b[1;32m     11\u001b[0m model \u001b[38;5;241m=\u001b[39m Sequential([\n\u001b[1;32m     12\u001b[0m     Input(shape\u001b[38;5;241m=\u001b[39m(input_dim,)),\n\u001b[1;32m     13\u001b[0m     Dense(\u001b[38;5;241m64\u001b[39m, activation \u001b[38;5;241m=\u001b[39m \u001b[38;5;124m'\u001b[39m\u001b[38;5;124mrelu\u001b[39m\u001b[38;5;124m'\u001b[39m),\n\u001b[1;32m     14\u001b[0m     Dense(\u001b[38;5;241m32\u001b[39m, activation \u001b[38;5;241m=\u001b[39m \u001b[38;5;124m'\u001b[39m\u001b[38;5;124mrelu\u001b[39m\u001b[38;5;124m'\u001b[39m),\n\u001b[1;32m     15\u001b[0m     Dense(\u001b[38;5;241m1\u001b[39m)\n\u001b[1;32m     16\u001b[0m ])\n\u001b[0;32m---> 18\u001b[0m model\u001b[38;5;241m.\u001b[39mcompile(optimizer \u001b[38;5;241m=\u001b[39m \u001b[38;5;124m'\u001b[39m\u001b[38;5;124madam\u001b[39m\u001b[38;5;124m'\u001b[39m, loss \u001b[38;5;241m=\u001b[39m nn_rmse, metrics \u001b[38;5;241m=\u001b[39m [tf\u001b[38;5;241m.\u001b[39mkeras\u001b[38;5;241m.\u001b[39mmetrics\u001b[38;5;241m.\u001b[39mRootMeanSquaredError()])\n\u001b[1;32m     20\u001b[0m history \u001b[38;5;241m=\u001b[39m model\u001b[38;5;241m.\u001b[39mfit(X_train, y_train, epochs\u001b[38;5;241m=\u001b[39m\u001b[38;5;241m100\u001b[39m, batch_size\u001b[38;5;241m=\u001b[39m\u001b[38;5;241m32\u001b[39m, validation_split\u001b[38;5;241m=\u001b[39m\u001b[38;5;241m0.2\u001b[39m)\n\u001b[1;32m     22\u001b[0m \u001b[38;5;66;03m# 7. Evaluating the Model\u001b[39;00m\n",
      "\u001b[0;31mNameError\u001b[0m: name 'nn_rmse' is not defined"
     ]
    }
   ],
   "source": [
    "X = full_data.drop(['Sale Price', 'Log Sale Price'], axis = 1)\n",
    "y = full_data['Sale Price']\n",
    "\n",
    "X_train, X_test, y_train, y_test = train_test_split(X, y, test_size=0.2)\n",
    "\n",
    "scaler = StandardScaler()\n",
    "X_train = scaler.fit_transform(X_train)\n",
    "X_test = scaler.transform(X_test)\n",
    "input_dim = X_train.shape[1]\n",
    "\n",
    "model = Sequential([\n",
    "    Input(shape=(input_dim,)),\n",
    "    Dense(64, activation = 'relu'),\n",
    "    Dense(64, activation = 'relu'),\n",
    "    Dense(64, activation = 'relu'),\n",
    "    Dense(64, activation = 'relu'),\n",
    "    Dense(64, activation = 'relu'),\n",
    "    Dense(64, activation = 'relu'),    \n",
    "    Dense(64, activation = 'relu'),\n",
    "    Dense(64, activation = 'relu'),\n",
    "    Dense(64, activation = 'relu'),\n",
    "    Dense(64, activation = 'relu'),\n",
    "    Dense(64, activation = 'relu'),\n",
    "    Dense(64, activation = 'relu'),\n",
    "    Dense(1)\n",
    "])\n",
    "\n",
    "model.compile(optimizer = 'adam', loss = nn_rmse, metrics = [tf.keras.metrics.RootMeanSquaredError()])\n",
    "\n",
    "history = model.fit(X_train, y_train, epochs=100, batch_size=32, validation_split=0.2)\n",
    "\n",
    "# 7. Evaluating the Model\n",
    "loss, rmse = model.evaluate(X_test, y_test)\n",
    "print(\"Test RMSE:\", rmse)"
   ]
  },
  {
   "cell_type": "code",
   "execution_count": null,
   "id": "61149b2b-7602-4397-b135-96512cbb467b",
   "metadata": {},
   "outputs": [],
   "source": [
    "import matplotlib.pyplot as plt\n",
    "\n",
    "# After training:\n",
    "plt.plot(history.history['loss'], label='Training Loss')\n",
    "plt.plot(history.history['val_loss'], label='Validation Loss')\n",
    "plt.legend()\n",
    "plt.show()\n",
    "\n",
    "# If using RMSE metric:\n",
    "plt.plot(history.history['root_mean_squared_error'], label='Training RMSE')\n",
    "plt.plot(history.history['val_root_mean_squared_error'], label='Validation RMSE')\n",
    "plt.legend()\n",
    "plt.show()\n"
   ]
  },
  {
   "cell_type": "code",
   "execution_count": null,
   "id": "6e51d2aa-e5f9-48ce-9852-0aa7abff5740",
   "metadata": {},
   "outputs": [],
   "source": [
    "model.save('best_model.keras')"
   ]
  },
  {
   "cell_type": "code",
   "execution_count": null,
   "id": "3143c1c0-da03-44c2-b054-5cc49290938c",
   "metadata": {},
   "outputs": [],
   "source": []
  }
 ],
 "metadata": {
  "kernelspec": {
   "display_name": "Python 3 (ipykernel)",
   "language": "python",
   "name": "python3"
  },
  "language_info": {
   "codemirror_mode": {
    "name": "ipython",
    "version": 3
   },
   "file_extension": ".py",
   "mimetype": "text/x-python",
   "name": "python",
   "nbconvert_exporter": "python",
   "pygments_lexer": "ipython3",
   "version": "3.12.4"
  }
 },
 "nbformat": 4,
 "nbformat_minor": 5
}
